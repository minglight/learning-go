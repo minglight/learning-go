{
 "cells": [
  {
   "cell_type": "markdown",
   "id": "title",
   "metadata": {},
   "source": [
    "# 第三章：複合型態 - 面試考題\n",
    "\n",
    "本考卷涵蓋 Go 語言複合型態的重要概念，包括陣列、切片、字串、映射和結構。\n",
    "請在每個程式碼區塊中寫下你的答案。\n",
    "\n",
    "**考試時間：90分鐘**  \n",
    "**總分：100分**\n",
    "\n",
    "---"
   ]
  },
  {
   "cell_type": "markdown",
   "id": "section1",
   "metadata": {},
   "source": [
    "## 第一部分：陣列 (Arrays) - 15分\n",
    "\n",
    "### 題目 1-1：陣列基礎 (3分)\n",
    "宣告一個長度為5的整數陣列，並將其初始化為 [1, 3, 5, 7, 9]，然後印出陣列的長度和第3個元素（索引為2）。"
   ]
  },
  {
   "cell_type": "code",
   "execution_count": null,
   "id": "q1_1",
   "metadata": {},
   "outputs": [],
   "source": [
    "//go:build ignore\n",
    "package main\n",
    "\n",
    "import \"fmt\"\n",
    "\n",
    "func main() {\n",
    "    // 在這裡寫下你的答案\n",
    "    \n",
    "}"
   ]
  },
  {
   "cell_type": "markdown",
   "id": "q1_2",
   "metadata": {},
   "source": [
    "### 題目 1-2：陣列與函數 (5分)\n",
    "寫一個函數 `sumArray`，接收一個長度為4的整數陣列作為參數，返回陣列所有元素的總和。然後寫另一個函數 `sumArrayPtr`，接收陣列指標作為參數，同樣返回總和。解釋兩者的差異。"
   ]
  },
  {
   "cell_type": "code",
   "execution_count": null,
   "id": "q1_2",
   "metadata": {},
   "outputs": [],
   "source": [
    "//go:build ignore\n",
    "package main\n",
    "\n",
    "import \"fmt\"\n",
    "\n",
    "// 值傳遞版本\n",
    "func sumArray(arr [4]int) int {\n",
    "    // 在這裡寫下你的答案\n",
    "    \n",
    "}\n",
    "\n",
    "// 指標傳遞版本\n",
    "func sumArrayPtr(arr *[4]int) int {\n",
    "    // 在這裡寫下你的答案\n",
    "    \n",
    "}\n",
    "\n",
    "func main() {\n",
    "    arr := [4]int{10, 20, 30, 40}\n",
    "    \n",
    "    // 測試兩個函數\n",
    "    fmt.Println(\"值傳遞結果:\", sumArray(arr))\n",
    "    fmt.Println(\"指標傳遞結果:\", sumArrayPtr(&arr))\n",
    "    \n",
    "    // 解釋差異（用註解形式）\n",
    "    // 差異：\n",
    "    \n",
    "}"
   ]
  },
  {
   "cell_type": "markdown",
   "id": "q1_3",
   "metadata": {},
   "source": [
    "### 題目 1-3：多維陣列 (7分)\n",
    "建立一個 3x3 的整數矩陣，初始化為：\n",
    "```\n",
    "[1, 2, 3]\n",
    "[4, 5, 6] \n",
    "[7, 8, 9]\n",
    "```\n",
    "然後寫一個函數計算主對角線（左上到右下）元素的總和。"
   ]
  },
  {
   "cell_type": "code",
   "execution_count": null,
   "id": "q1_3",
   "metadata": {},
   "outputs": [],
   "source": [
    "//go:build ignore\n",
    "package main\n",
    "\n",
    "import \"fmt\"\n",
    "\n",
    "func diagonalSum(matrix [3][3]int) int {\n",
    "    // 在這裡寫下你的答案\n",
    "    \n",
    "}\n",
    "\n",
    "func main() {\n",
    "    // 建立並初始化矩陣\n",
    "    \n",
    "    \n",
    "    // 計算主對角線總和\n",
    "    \n",
    "    \n",
    "    // 印出結果\n",
    "    \n",
    "}"
   ]
  },
  {
   "cell_type": "markdown",
   "id": "section2",
   "metadata": {},
   "source": [
    "## 第二部分：切片 (Slices) - 25分\n",
    "\n",
    "### 題目 2-1：切片基礎操作 (5分)\n",
    "建立一個整數切片，包含元素 [10, 20, 30, 40, 50]。然後執行以下操作：\n",
    "1. 取出索引 1 到 3 的子切片\n",
    "2. 在切片末尾添加元素 60, 70\n",
    "3. 印出最終切片的長度、容量和內容"
   ]
  },
  {
   "cell_type": "code",
   "execution_count": null,
   "id": "q2_1",
   "metadata": {},
   "outputs": [],
   "source": [
    "//go:build ignore\n",
    "package main\n",
    "\n",
    "import \"fmt\"\n",
    "\n",
    "func main() {\n",
    "    // 在這裡寫下你的答案\n",
    "    \n",
    "}"
   ]
  },
  {
   "cell_type": "markdown",
   "id": "q2_2",
   "metadata": {},
   "source": [
    "### 題目 2-2：切片陷阱 (8分)\n",
    "以下程式碼有什麼問題？請修正它並解釋為什麼會出現這個問題。"
   ]
  },
  {
   "cell_type": "code",
   "execution_count": null,
   "id": "q2_2",
   "metadata": {},
   "outputs": [],
   "source": [
    "//go:build ignore\n",
    "package main\n",
    "\n",
    "import \"fmt\"\n",
    "\n",
    "func main() {\n",
    "    original := []int{1, 2, 3, 4, 5, 6}\n",
    "    sub1 := original[1:3]  // [2, 3]\n",
    "    sub2 := original[2:4]  // [3, 4]\n",
    "    \n",
    "    fmt.Printf(\"原始: %v\\n\", original)\n",
    "    fmt.Printf(\"sub1: %v\\n\", sub1)\n",
    "    fmt.Printf(\"sub2: %v\\n\", sub2)\n",
    "    \n",
    "    sub1 = append(sub1, 99)\n",
    "    \n",
    "    fmt.Printf(\"append後原始: %v\\n\", original)\n",
    "    fmt.Printf(\"append後sub1: %v\\n\", sub1)\n",
    "    fmt.Printf(\"append後sub2: %v\\n\", sub2)\n",
    "    \n",
    "    // 問題是什麼？\n",
    "    // 答：\n",
    "    \n",
    "    // 修正方案：\n",
    "    \n",
    "}"
   ]
  },
  {
   "cell_type": "markdown",
   "id": "q2_3",
   "metadata": {},
   "source": [
    "### 題目 2-3：切片複製與過濾 (7分)\n",
    "寫一個函數 `filterEven`，接收一個整數切片，返回一個新的切片，只包含原切片中的偶數。要求：\n",
    "1. 不能修改原切片\n",
    "2. 返回的切片應該是獨立的（不共享底層陣列）"
   ]
  },
  {
   "cell_type": "code",
   "execution_count": null,
   "id": "q2_3",
   "metadata": {},
   "outputs": [],
   "source": [
    "//go:build ignore\n",
    "package main\n",
    "\n",
    "import \"fmt\"\n",
    "\n",
    "func filterEven(numbers []int) []int {\n",
    "    // 在這裡寫下你的答案\n",
    "    \n",
    "}\n",
    "\n",
    "func main() {\n",
    "    original := []int{1, 2, 3, 4, 5, 6, 7, 8, 9, 10}\n",
    "    \n",
    "    // 測試你的函數\n",
    "    evens := filterEven(original)\n",
    "    \n",
    "    fmt.Printf(\"原始: %v\\n\", original)\n",
    "    fmt.Printf(\"偶數: %v\\n\", evens)\n",
    "    \n",
    "    // 驗證獨立性\n",
    "    evens[0] = 999\n",
    "    fmt.Printf(\"修改後原始: %v\\n\", original)\n",
    "    fmt.Printf(\"修改後偶數: %v\\n\", evens)\n",
    "}"
   ]
  },
  {
   "cell_type": "markdown",
   "id": "q2_4",
   "metadata": {},
   "source": [
    "### 題目 2-4：切片反轉 (5分)\n",
    "實作一個原地（in-place）反轉切片的函數 `reverseSlice`。要求直接修改傳入的切片，不創建新的切片。"
   ]
  },
  {
   "cell_type": "code",
   "execution_count": null,
   "id": "q2_4",
   "metadata": {},
   "outputs": [],
   "source": [
    "//go:build ignore\n",
    "package main\n",
    "\n",
    "import \"fmt\"\n",
    "\n",
    "func reverseSlice(slice []int) {\n",
    "    // 在這裡寫下你的答案\n",
    "    \n",
    "}\n",
    "\n",
    "func main() {\n",
    "    numbers := []int{1, 2, 3, 4, 5}\n",
    "    fmt.Printf(\"反轉前: %v\\n\", numbers)\n",
    "    \n",
    "    reverseSlice(numbers)\n",
    "    fmt.Printf(\"反轉後: %v\\n\", numbers)\n",
    "}"
   ]
  },
  {
   "cell_type": "markdown",
   "id": "section3",
   "metadata": {},
   "source": [
    "## 第三部分：字串處理 (String/Rune/Byte) - 20分\n",
    "\n",
    "### 題目 3-1：UTF-8 字元處理 (6分)\n",
    "給定字串 `\"Hello, 世界! 🌍\"`，請：\n",
    "1. 計算字串的位元組長度\n",
    "2. 計算字串的字元（rune）數量\n",
    "3. 印出每個字元及其 Unicode 碼點"
   ]
  },
  {
   "cell_type": "code",
   "execution_count": null,
   "id": "q3_1",
   "metadata": {},
   "outputs": [],
   "source": [
    "//go:build ignore\n",
    "package main\n",
    "\n",
    "import (\n",
    "    \"fmt\"\n",
    "    \"unicode/utf8\"\n",
    ")\n",
    "\n",
    "func main() {\n",
    "    text := \"Hello, 世界! 🌍\"\n",
    "    \n",
    "    // 在這裡寫下你的答案\n",
    "    \n",
    "}"
   ]
  },
  {
   "cell_type": "markdown",
   "id": "q3_2",
   "metadata": {},
   "source": [
    "### 題目 3-2：字串反轉（支援中文） (8分)\n",
    "實作一個函數 `reverseString`，能夠正確反轉包含中文和 emoji 的字串。\n",
    "例如：\"Hello世界🌍\" 應該反轉為 \"🌍界世olleH\""
   ]
  },
  {
   "cell_type": "code",
   "execution_count": null,
   "id": "q3_2",
   "metadata": {},
   "outputs": [],
   "source": [
    "//go:build ignore\n",
    "package main\n",
    "\n",
    "import \"fmt\"\n",
    "\n",
    "func reverseString(s string) string {\n",
    "    // 在這裡寫下你的答案\n",
    "    \n",
    "}\n",
    "\n",
    "func main() {\n",
    "    test1 := \"Hello\"\n",
    "    test2 := \"Hello世界🌍\"\n",
    "    \n",
    "    fmt.Printf(\"%s -> %s\\n\", test1, reverseString(test1))\n",
    "    fmt.Printf(\"%s -> %s\\n\", test2, reverseString(test2))\n",
    "}"
   ]
  },
  {
   "cell_type": "markdown",
   "id": "q3_3",
   "metadata": {},
   "source": [
    "### 題目 3-3：高效字串建構 (6分)\n",
    "使用 `strings.Builder` 建構一個函數，將整數切片轉換為逗號分隔的字串。\n",
    "例如：[1, 2, 3, 4, 5] 轉換為 \"1,2,3,4,5\""
   ]
  },
  {
   "cell_type": "code",
   "execution_count": null,
   "id": "q3_3",
   "metadata": {},
   "outputs": [],
   "source": [
    "//go:build ignore\n",
    "package main\n",
    "\n",
    "import (\n",
    "    \"fmt\"\n",
    "    \"strings\"\n",
    ")\n",
    "\n",
    "func joinInts(numbers []int) string {\n",
    "    // 在這裡寫下你的答案\n",
    "    \n",
    "}\n",
    "\n",
    "func main() {\n",
    "    numbers := []int{1, 2, 3, 4, 5}\n",
    "    result := joinInts(numbers)\n",
    "    fmt.Printf(\"結果: %s\\n\", result)\n",
    "    \n",
    "    // 測試空切片\n",
    "    empty := []int{}\n",
    "    emptyResult := joinInts(empty)\n",
    "    fmt.Printf(\"空切片結果: '%s'\\n\", emptyResult)\n",
    "}"
   ]
  },
  {
   "cell_type": "markdown",
   "id": "section4",
   "metadata": {},
   "source": [
    "## 第四部分：映射 (Maps) - 20分\n",
    "\n",
    "### 題目 4-1：基本映射操作 (5分)\n",
    "建立一個 map，儲存學生姓名（string）到分數（int）的對應。執行以下操作：\n",
    "1. 添加三個學生的分數\n",
    "2. 查詢一個存在的學生分數\n",
    "3. 查詢一個不存在的學生，使用 comma-ok 模式\n",
    "4. 刪除一個學生的記錄"
   ]
  },
  {
   "cell_type": "code",
   "execution_count": null,
   "id": "q4_1",
   "metadata": {},
   "outputs": [],
   "source": [
    "//go:build ignore\n",
    "package main\n",
    "\n",
    "import \"fmt\"\n",
    "\n",
    "func main() {\n",
    "    // 在這裡寫下你的答案\n",
    "    \n",
    "}"
   ]
  },
  {
   "cell_type": "markdown",
   "id": "q4_2",
   "metadata": {},
   "source": [
    "### 題目 4-2：字元計數器 (6分)\n",
    "寫一個函數 `charCount`，統計字串中每個字元出現的次數，返回一個 map[rune]int。"
   ]
  },
  {
   "cell_type": "code",
   "execution_count": null,
   "id": "q4_2",
   "metadata": {},
   "outputs": [],
   "source": [
    "//go:build ignore\n",
    "package main\n",
    "\n",
    "import \"fmt\"\n",
    "\n",
    "func charCount(s string) map[rune]int {\n",
    "    // 在這裡寫下你的答案\n",
    "    \n",
    "}\n",
    "\n",
    "func main() {\n",
    "    text := \"hello world\"\n",
    "    counts := charCount(text)\n",
    "    \n",
    "    for char, count := range counts {\n",
    "        fmt.Printf('\\''%c'\\': %d\\n', char, count)\n",
    "    }\n",
    "}"
   ]
  },
  {
   "cell_type": "markdown",
   "id": "q4_3",
   "metadata": {},
   "source": [
    "### 題目 4-3：群組分類 (9分)\n",
    "給定一個學生結構切片，按年級將學生分組。寫一個函數 `groupByGrade`，返回 map[string][]Student。"
   ]
  },
  {
   "cell_type": "code",
   "execution_count": null,
   "id": "q4_3",
   "metadata": {},
   "outputs": [],
   "source": [
    "//go:build ignore\n",
    "package main\n",
    "\n",
    "import \"fmt\"\n",
    "\n",
    "type Student struct {\n",
    "    Name  string\n",
    "    Grade string\n",
    "    Score int\n",
    "}\n",
    "\n",
    "func groupByGrade(students []Student) map[string][]Student {\n",
    "    // 在這裡寫下你的答案\n",
    "    \n",
    "}\n",
    "\n",
    "func main() {\n",
    "    students := []Student{\n",
    "        {\"Alice\", \"A\", 95},\n",
    "        {\"Bob\", \"B\", 87},\n",
    "        {\"Charlie\", \"A\", 92},\n",
    "        {\"David\", \"C\", 78},\n",
    "        {\"Eve\", \"B\", 89},\n",
    "    }\n",
    "    \n",
    "    groups := groupByGrade(students)\n",
    "    \n",
    "    for grade, studentList := range groups {\n",
    "        fmt.Printf(\"年級 %s: %v\\n\", grade, studentList)\n",
    "    }\n",
    "}"
   ]
  },
  {
   "cell_type": "markdown",
   "id": "section5",
   "metadata": {},
   "source": [
    "## 第五部分：結構 (Structs) - 20分\n",
    "\n",
    "### 題目 5-1：基本結構與方法 (7分)\n",
    "定義一個 `Circle` 結構，包含半徑欄位。為它實作以下方法：\n",
    "1. `Area()` - 計算面積\n",
    "2. `Circumference()` - 計算圓周長\n",
    "3. `Scale(factor float64)` - 按比例縮放半徑"
   ]
  },
  {
   "cell_type": "code",
   "execution_count": null,
   "id": "q5_1",
   "metadata": {},
   "outputs": [],
   "source": [
    "//go:build ignore\n",
    "package main\n",
    "\n",
    "import (\n",
    "    \"fmt\"\n",
    "    \"math\"\n",
    ")\n",
    "\n",
    "type Circle struct {\n",
    "    // 在這裡定義結構\n",
    "    \n",
    "}\n",
    "\n",
    "// 在這裡實作方法\n",
    "\n",
    "func main() {\n",
    "    circle := Circle{Radius: 5.0}\n",
    "    \n",
    "    fmt.Printf(\"原始圓: 半徑=%.2f\\n\", circle.Radius)\n",
    "    fmt.Printf(\"面積: %.2f\\n\", circle.Area())\n",
    "    fmt.Printf(\"圓周長: %.2f\\n\", circle.Circumference())\n",
    "    \n",
    "    circle.Scale(2.0)\n",
    "    fmt.Printf(\"縮放後: 半徑=%.2f\\n\", circle.Radius)\n",
    "    fmt.Printf(\"新面積: %.2f\\n\", circle.Area())\n",
    "}"
   ]
  },
  {
   "cell_type": "markdown",
   "id": "q5_2",
   "metadata": {},
   "source": [
    "### 題目 5-2：結構嵌入 (8分)\n",
    "定義以下結構：\n",
    "1. `Person` - 包含 Name 和 Age\n",
    "2. `Address` - 包含 Street 和 City  \n",
    "3. `Employee` - 嵌入 Person 和 Address，另加 Salary 欄位\n",
    "\n",
    "為 Person 實作 `String()` 方法，為 Employee 實作 `GetInfo()` 方法。"
   ]
  },
  {
   "cell_type": "code",
   "execution_count": null,
   "id": "q5_2",
   "metadata": {},
   "outputs": [],
   "source": [
    "//go:build ignore\n",
    "package main\n",
    "\n",
    "import \"fmt\"\n",
    "\n",
    "// 在這裡定義結構\n",
    "\n",
    "// 在這裡實作方法\n",
    "\n",
    "func main() {\n",
    "    emp := Employee{\n",
    "        Person: Person{Name: \"Alice\", Age: 30},\n",
    "        Address: Address{Street: \"123 Main St\", City: \"New York\"},\n",
    "        Salary: 75000,\n",
    "    }\n",
    "    \n",
    "    // 測試嵌入欄位的直接存取\n",
    "    fmt.Printf(\"姓名: %s\\n\", emp.Name)\n",
    "    fmt.Printf(\"城市: %s\\n\", emp.City)\n",
    "    \n",
    "    // 測試方法\n",
    "    fmt.Println(emp.GetInfo())\n",
    "}"
   ]
  },
  {
   "cell_type": "markdown",
   "id": "q5_3",
   "metadata": {},
   "source": [
    "### 題目 5-3：介面實作 (5分)\n",
    "定義一個 `Shape` 介面，包含 `Area()` 方法。讓 `Rectangle` 和之前的 `Circle` 都實作這個介面。寫一個函數計算任意形狀切片的總面積。"
   ]
  },
  {
   "cell_type": "code",
   "execution_count": null,
   "id": "q5_3",
   "metadata": {},
   "outputs": [],
   "source": [
    "//go:build ignore\n",
    "package main\n",
    "\n",
    "import (\n",
    "    \"fmt\"\n",
    "    \"math\"\n",
    ")\n",
    "\n",
    "// 在這裡定義介面和結構\n",
    "\n",
    "// 在這裡實作方法\n",
    "\n",
    "func totalArea(shapes []Shape) float64 {\n",
    "    // 在這裡實作\n",
    "    \n",
    "}\n",
    "\n",
    "func main() {\n",
    "    shapes := []Shape{\n",
    "        Rectangle{Width: 10, Height: 5},\n",
    "        Circle{Radius: 3},\n",
    "        Rectangle{Width: 8, Height: 6},\n",
    "    }\n",
    "    \n",
    "    total := totalArea(shapes)\n",
    "    fmt.Printf(\"總面積: %.2f\\n\", total)\n",
    "}"
   ]
  },
  {
   "cell_type": "markdown",
   "id": "section6",
   "metadata": {},
   "source": [
    "## 第六部分：綜合應用題 - 額外加分 (10分)\n",
    "\n",
    "### 題目 6-1：實作簡單的資料結構 (10分)\n",
    "實作一個簡單的 `WordFrequency` 結構，用於統計文章中單字出現的頻率。要求：\n",
    "\n",
    "1. 使用 map 儲存單字和頻率\n",
    "2. 實作 `AddText(text string)` 方法，添加文字並更新頻率\n",
    "3. 實作 `GetTop(n int)` 方法，返回出現頻率最高的 n 個單字\n",
    "4. 實作 `GetFrequency(word string)` 方法，查詢特定單字的頻率\n",
    "\n",
    "提示：可能需要使用 `strings.Fields()` 來分割單字，使用 `sort` 包來排序。"
   ]
  },
  {
   "cell_type": "code",
   "execution_count": null,
   "id": "q6_1",
   "metadata": {},
   "outputs": [],
   "source": [
    "//go:build ignore\n",
    "package main\n",
    "\n",
    "import (\n",
    "    \"fmt\"\n",
    "    \"sort\"\n",
    "    \"strings\"\n",
    ")\n",
    "\n",
    "type WordFrequency struct {\n",
    "    // 在這裡定義結構欄位\n",
    "    \n",
    "}\n",
    "\n",
    "type WordCount struct {\n",
    "    Word  string\n",
    "    Count int\n",
    "}\n",
    "\n",
    "func NewWordFrequency() *WordFrequency {\n",
    "    // 建構函數\n",
    "    \n",
    "}\n",
    "\n",
    "func (wf *WordFrequency) AddText(text string) {\n",
    "    // 在這裡實作\n",
    "    \n",
    "}\n",
    "\n",
    "func (wf *WordFrequency) GetFrequency(word string) int {\n",
    "    // 在這裡實作\n",
    "    \n",
    "}\n",
    "\n",
    "func (wf *WordFrequency) GetTop(n int) []WordCount {\n",
    "    // 在這裡實作\n",
    "    \n",
    "}\n",
    "\n",
    "func main() {\n",
    "    wf := NewWordFrequency()\n",
    "    \n",
    "    // 測試資料\n",
    "    wf.AddText(\"hello world hello go\")\n",
    "    wf.AddText(\"go is great go is simple\")\n",
    "    \n",
    "    // 查詢特定單字頻率\n",
    "    fmt.Printf(\"'go' 出現次數: %d\\n\", wf.GetFrequency(\"go\"))\n",
    "    fmt.Printf(\"'hello' 出現次數: %d\\n\", wf.GetFrequency(\"hello\"))\n",
    "    \n",
    "    // 取得最高頻的3個單字\n",
    "    top3 := wf.GetTop(3)\n",
    "    fmt.Println(\"前3個最常見的單字:\")\n",
    "    for i, wc := range top3 {\n",
    "        fmt.Printf(\"%d. %s: %d\\n\", i+1, wc.Word, wc.Count)\n",
    "    }\n",
    "}"
   ]
  },
  {
   "cell_type": "markdown",
   "id": "summary",
   "metadata": {},
   "source": [
    "---\n",
    "\n",
    "## 考試結束\n",
    "\n",
    "請檢查你的答案，確保：\n",
    "1. 程式碼語法正確\n",
    "2. 邏輯正確且能處理邊界情況\n",
    "3. 有適當的錯誤處理（如果需要）\n",
    "4. 程式碼具有良好的可讀性\n",
    "\n",
    "**評分標準：**\n",
    "- 語法正確性 (40%)\n",
    "- 邏輯正確性 (40%)\n",
    "- 程式碼品質 (20%)\n",
    "\n",
    "完成後請儲存檔案，等待老師批改。"
   ]
  }
 ],
 "metadata": {
  "kernelspec": {
   "display_name": "Go",\n",
   "language": "go",\n",
   "name": "go\n  },\n  \"language_info\": {\n   \"name\": \"go\"\n  }\n },\n \"nbformat\": 4,\n \"nbformat_minor\": 5\n}"
   ]
  }
 ],
 "metadata": {
  "kernelspec": {
   "display_name": "Go",
   "language": "go",
   "name": "go"
  },
  "language_info": {
   "name": "go"
  }
 },
 "nbformat": 4,
 "nbformat_minor": 5
}