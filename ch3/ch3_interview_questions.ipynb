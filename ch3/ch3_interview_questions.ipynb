{
 "cells": [
  {
   "cell_type": "markdown",
   "id": "title",
   "metadata": {},
   "source": [
    "# 第三章：複合型態 - 面試考題\n",
    "\n",
    "本考卷涵蓋 Go 語言複合型態的重要概念，包括陣列、切片、字串、映射和結構。\n",
    "請在每個程式碼區塊中寫下你的答案。\n",
    "\n",
    "**考試時間：90分鐘**  \n",
    "**總分：100分**\n",
    "\n",
    "---"
   ]
  },
  {
   "cell_type": "markdown",
   "id": "section1",
   "metadata": {},
   "source": [
    "## 第一部分：陣列 (Arrays) - 15分\n",
    "\n",
    "### 題目 1-1：陣列基礎 (3分)\n",
    "宣告一個長度為5的整數陣列，並將其初始化為 [1, 3, 5, 7, 9]，然後印出陣列的長度和第3個元素（索引為2）。"
   ]
  },
  {
   "cell_type": "code",
   "execution_count": null,
   "id": "q1_1",
   "metadata": {},
   "outputs": [
    {
     "name": "stdout",
     "output_type": "stream",
     "text": [
      "len(a) 5\n",
      "a[2] 5\n"
     ]
    }
   ],
   "source": [
    "//go:build ignore\n",
    "package main\n",
    "\n",
    "import \"fmt\"\n",
    "\n",
    "func main() {\n",
    "    // 在這裡寫下你的答案\n",
    "    var a = [5]int{1,3,5,7,9}\n",
    "    fmt.Println(\"len(a)=\", len(a))\n",
    "    fmt.Println(\"a[2]=\", a[2])\n",
    "    \n",
    "}"
   ]
  },
  {
   "cell_type": "code",
   "execution_count": null,
   "id": "q1_2",
   "metadata": {},
   "outputs": [],
   "source": [
    "//go:build ignore\n",
    "package main\n",
    "\n",
    "import \"fmt\"\n",
    "\n",
    "// 值傳遞版本\n",
    "func sumArray(arr [4]int) int {\n",
    "    // 在這裡寫下你的答案\n",
    "    sum := 0\n",
    "    for _,i := range arr {\n",
    "        sum += i\n",
    "    }\n",
    "    return sum\n",
    "    \n",
    "}\n",
    "\n",
    "func main() {\n",
    "    arr := [4]int{10, 20, 30, 40}\n",
    "    \n",
    "    // 測試函數\n",
    "    fmt.Println(\"結果:\", sumArray(arr))\n",
    "}"
   ]
  },
  {
   "cell_type": "code",
   "execution_count": 5,
   "id": "q1_2",
   "metadata": {},
   "outputs": [
    {
     "name": "stdout",
     "output_type": "stream",
     "text": [
      "值傳遞結果: 100\n",
      "指標傳遞結果: 100\n"
     ]
    }
   ],
   "source": [
    "//go:build ignore\n",
    "package main\n",
    "\n",
    "import \"fmt\"\n",
    "\n",
    "// 值傳遞版本\n",
    "func sumArray(arr [4]int) int {\n",
    "    // 在這裡寫下你的答案\n",
    "    sum := 0\n",
    "    for _,i := range arr {\n",
    "        sum += i\n",
    "    }\n",
    "    return sum\n",
    "    \n",
    "}\n",
    "\n",
    "// 指標傳遞版本\n",
    "func sumArrayPtr(arr *[4]int) int {\n",
    "    // 在這裡寫下你的答案\n",
    "    sum := 0\n",
    "    for _,i := range arr {\n",
    "        sum += i\n",
    "    }\n",
    "    return sum\n",
    "}\n",
    "\n",
    "func main() {\n",
    "    arr := [4]int{10, 20, 30, 40}\n",
    "    \n",
    "    // 測試兩個函數\n",
    "    fmt.Println(\"值傳遞結果:\", sumArray(arr))\n",
    "    fmt.Println(\"指標傳遞結果:\", sumArrayPtr(&arr))\n",
    "    \n",
    "    // 解釋差異（用註解形式）\n",
    "    // 差異： 答案一樣, 但sumArray 會array copy比較佔記憶體, 但sumArrayPtr是共用同一個array.\n",
    "    \n",
    "}"
   ]
  },
  {
   "cell_type": "markdown",
   "id": "q1_3",
   "metadata": {},
   "source": [
    "### 題目 1-3：多維陣列 (7分)\n",
    "建立一個 3x3 的整數矩陣，初始化為：\n",
    "```\n",
    "[1, 2, 3]\n",
    "[4, 5, 6] \n",
    "[7, 8, 9]\n",
    "```\n",
    "然後寫一個函數計算主對角線（左上到右下）元素的總和。"
   ]
  },
  {
   "cell_type": "code",
   "execution_count": 6,
   "id": "q1_3",
   "metadata": {},
   "outputs": [
    {
     "name": "stdout",
     "output_type": "stream",
     "text": [
      "15\n"
     ]
    }
   ],
   "source": [
    "//go:build ignore\n",
    "package main\n",
    "\n",
    "import \"fmt\"\n",
    "\n",
    "func diagonalSum(matrix [3][3]int) int {\n",
    "    // 在這裡寫下你的答案\n",
    "    sum := 0\n",
    "    for i := 0 ;i < len(matrix);i++ {\n",
    "        sum += matrix[i][i]\n",
    "    }\n",
    "    return sum\n",
    "}\n",
    "\n",
    "func main() {\n",
    "    // 建立並初始化矩陣\n",
    "    matrix := [3][3]int{\n",
    "        {1, 2, 3},\n",
    "        {4, 5, 6},\n",
    "        {7, 8, 9},   \n",
    "    }\n",
    "    \n",
    "    // 計算主對角線總和\n",
    "    result := diagonalSum(matrix)\n",
    "\n",
    "    \n",
    "    // 印出結果\n",
    "    fmt.Println(result)\n",
    "    \n",
    "}"
   ]
  },
  {
   "cell_type": "markdown",
   "id": "section2",
   "metadata": {},
   "source": [
    "## 第二部分：切片 (Slices) - 25分\n",
    "\n",
    "### 題目 2-1：切片基礎操作 (5分)\n",
    "建立一個整數切片，包含元素 [10, 20, 30, 40, 50]。然後執行以下操作：\n",
    "1. 取出索引 1 到 3 的子切片\n",
    "2. 在切片末尾添加元素 60, 70\n",
    "3. 印出最終切片的長度、容量和內容"
   ]
  },
  {
   "cell_type": "code",
   "execution_count": 51,
   "id": "q2_1",
   "metadata": {},
   "outputs": [
    {
     "name": "stdout",
     "output_type": "stream",
     "text": [
      "4 4 [20 30 60 70]\n"
     ]
    }
   ],
   "source": [
    "//go:build ignore\n",
    "package main\n",
    "\n",
    "import \"fmt\"\n",
    "\n",
    "func main() {\n",
    "    // 在這裡寫下你的答案\n",
    "    var slice = []int{10,20,30,40,50}\n",
    "    sub := slice[1:3]\n",
    "    sub = append(sub, 60, 70)\n",
    "    fmt.Println(len(sub), cap(sub), sub)\n",
    "    \n",
    "}"
   ]
  },
  {
   "cell_type": "markdown",
   "id": "q2_2",
   "metadata": {},
   "source": [
    "### 題目 2-2：切片陷阱 (8分)\n",
    "以下程式碼有什麼問題？請修正它並解釋為什麼會出現這個問題。"
   ]
  },
  {
   "cell_type": "code",
   "execution_count": 16,
   "id": "q2_2",
   "metadata": {},
   "outputs": [
    {
     "name": "stdout",
     "output_type": "stream",
     "text": [
      "原始: [1 2 3 4 5 6]\n",
      "sub1: [2 3]\n",
      "sub2: [3 4]\n",
      "append後原始: [1 2 3 99 5 6]\n",
      "append後sub1: [2 3 99]\n",
      "append後sub2: [3 99]\n",
      "原始: [1 2 3 4 5 6]\n",
      "sub1: [2 3]\n",
      "sub2: [3 4]\n",
      "sub1_copy: [2 3 99]\n",
      "sub1: [2 3]\n",
      "append後原始: [1 2 3 4 5 6]\n",
      "append後sub1_copy: [2 3 99]\n",
      "append後sub2: [3 4]\n"
     ]
    }
   ],
   "source": [
    "//go:build ignore\n",
    "package main\n",
    "\n",
    "import \"fmt\"\n",
    "\n",
    "func main() {\n",
    "    original := []int{1, 2, 3, 4, 5, 6}\n",
    "    sub1 := original[1:3]  // [2, 3]\n",
    "    sub2 := original[2:4]  // [3, 4]\n",
    "    \n",
    "    fmt.Printf(\"原始: %v\\n\", original)\n",
    "    fmt.Printf(\"sub1: %v\\n\", sub1)\n",
    "    fmt.Printf(\"sub2: %v\\n\", sub2)\n",
    "    \n",
    "    sub1 = append(sub1, 99)\n",
    "    \n",
    "    fmt.Printf(\"append後原始: %v\\n\", original) //{1, 2, 3, 99, 5, 6}\n",
    "    fmt.Printf(\"append後sub1: %v\\n\", sub1) // [2, 3, 99]\n",
    "    fmt.Printf(\"append後sub2: %v\\n\", sub2) // [3, 99]\n",
    "    \n",
    "    // 問題是什麼？\n",
    "    // 答：sub2 也會被一起改到, 因為底層的array是共用的\n",
    "    \n",
    "    // 修正方案：\n",
    "    // 切片跟append不能一起使用.\n",
    "    // 要append切片的話應該要先複製一份\n",
    "    original = []int{1, 2, 3, 4, 5, 6}\n",
    "    sub1 = original[1:3]  // [2, 3]\n",
    "    sub2 = original[2:4]  // [3, 4]\n",
    "    fmt.Printf(\"原始: %v\\n\", original)\n",
    "    fmt.Printf(\"sub1: %v\\n\", sub1)\n",
    "    fmt.Printf(\"sub2: %v\\n\", sub2)\n",
    "    sub1_copy := make([]int, len(sub1))\n",
    "    copy(sub1_copy, sub1)\n",
    "    sub1_copy = append(sub1_copy, 99)\n",
    "    fmt.Printf(\"sub1_copy: %v\\n\", sub1_copy)\n",
    "    fmt.Printf(\"sub1: %v\\n\", sub1)\n",
    "    \n",
    "    fmt.Printf(\"append後原始: %v\\n\", original) //{1, 2, 3, 4, 5, 6}\n",
    "    fmt.Printf(\"append後sub1_copy: %v\\n\", sub1_copy) // [2, 3, 99]\n",
    "    fmt.Printf(\"append後sub2: %v\\n\", sub2) // [3, 4]\n",
    "    \n",
    "}"
   ]
  },
  {
   "cell_type": "markdown",
   "id": "q2_3",
   "metadata": {},
   "source": [
    "### 題目 2-3：切片複製與過濾 (7分)\n",
    "寫一個函數 `filterEven`，接收一個整數切片，返回一個新的切片，只包含原切片中的偶數。要求：\n",
    "1. 不能修改原切片\n",
    "2. 返回的切片應該是獨立的（不共享底層陣列）"
   ]
  },
  {
   "cell_type": "code",
   "execution_count": 17,
   "id": "q2_3",
   "metadata": {},
   "outputs": [
    {
     "name": "stdout",
     "output_type": "stream",
     "text": [
      "原始: [1 2 3 4 5 6 7 8 9 10]\n",
      "偶數: [2 4 6 8 10]\n",
      "修改後原始: [1 2 3 4 5 6 7 8 9 10]\n",
      "修改後偶數: [999 4 6 8 10]\n"
     ]
    }
   ],
   "source": [
    "//go:build ignore\n",
    "package main\n",
    "\n",
    "import \"fmt\"\n",
    "\n",
    "func filterEven(numbers []int) []int {\n",
    "    // 在這裡寫下你的答案\n",
    "    var result = make([]int, 0, len(numbers))\n",
    "    for _, num := range numbers {\n",
    "        if num % 2 == 0 {\n",
    "            result = append(result, num)\n",
    "        }\n",
    "    }\n",
    "    return result\n",
    "}\n",
    "\n",
    "func main() {\n",
    "    original := []int{1, 2, 3, 4, 5, 6, 7, 8, 9, 10}\n",
    "    \n",
    "    // 測試你的函數\n",
    "    evens := filterEven(original)\n",
    "    \n",
    "    fmt.Printf(\"原始: %v\\n\", original)\n",
    "    fmt.Printf(\"偶數: %v\\n\", evens)\n",
    "    \n",
    "    // 驗證獨立性\n",
    "    evens[0] = 999\n",
    "    fmt.Printf(\"修改後原始: %v\\n\", original)\n",
    "    fmt.Printf(\"修改後偶數: %v\\n\", evens)\n",
    "}"
   ]
  },
  {
   "cell_type": "markdown",
   "id": "q2_4",
   "metadata": {},
   "source": [
    "### 題目 2-4：切片反轉 (5分)\n",
    "實作一個原地（in-place）反轉切片的函數 `reverseSlice`。要求直接修改傳入的切片，不創建新的切片。"
   ]
  },
  {
   "cell_type": "code",
   "execution_count": 23,
   "id": "q2_4",
   "metadata": {},
   "outputs": [
    {
     "name": "stdout",
     "output_type": "stream",
     "text": [
      "反轉前: [1 2 3 4 5]\n",
      "反轉後: [5 4 3 2 1]\n"
     ]
    }
   ],
   "source": [
    "//go:build ignore\n",
    "package main\n",
    "\n",
    "import \"fmt\"\n",
    "\n",
    "func reverseSlice(slice []int) {\n",
    "    // 在這裡寫下你的答案\n",
    "    for i,j :=0, len(slice)-1; i < len(slice)/2; i,j = i+1, j-1 {\n",
    "        slice[i], slice[j] = slice[j], slice[i]\n",
    "    }\n",
    "}\n",
    "\n",
    "func main() {\n",
    "    numbers := []int{1, 2, 3, 4, 5}\n",
    "    fmt.Printf(\"反轉前: %v\\n\", numbers)\n",
    "    \n",
    "    reverseSlice(numbers)\n",
    "    fmt.Printf(\"反轉後: %v\\n\", numbers)\n",
    "}"
   ]
  },
  {
   "cell_type": "markdown",
   "id": "section3",
   "metadata": {},
   "source": [
    "## 第三部分：字串處理 (String/Rune/Byte) - 20分\n",
    "\n",
    "### 題目 3-1：UTF-8 字元處理 (6分)\n",
    "給定字串 `\"Hello, 世界! 🌍\"`，請：\n",
    "1. 計算字串的位元組長度\n",
    "2. 計算字串的字元（rune）數量\n",
    "3. 印出每個字元及其 Unicode 碼點"
   ]
  },
  {
   "cell_type": "code",
   "execution_count": 26,
   "id": "q3_1",
   "metadata": {},
   "outputs": [
    {
     "name": "stdout",
     "output_type": "stream",
     "text": [
      "bytes: 19\n",
      "runes: 12\n",
      "char: H unicode: 72\n",
      "char: e unicode: 101\n",
      "char: l unicode: 108\n",
      "char: l unicode: 108\n",
      "char: o unicode: 111\n",
      "char: , unicode: 44\n",
      "char:   unicode: 32\n",
      "char: 世 unicode: 19990\n",
      "char: 界 unicode: 30028\n",
      "char: ! unicode: 33\n",
      "char:   unicode: 32\n",
      "char: 🌍 unicode: 127757\n"
     ]
    }
   ],
   "source": [
    "//go:build ignore\n",
    "package main\n",
    "\n",
    "import (\n",
    "    \"fmt\"\n",
    "    \"unicode/utf8\"\n",
    ")\n",
    "\n",
    "func main() {\n",
    "    text := \"Hello, 世界! 🌍\"\n",
    "    \n",
    "    // 在這裡寫下你的答案\n",
    "    fmt.Println(\"bytes:\", len(text))\n",
    "    fmt.Println(\"runes:\", utf8.RuneCountInString(text))\n",
    "    for _, rune := range text {\n",
    "        fmt.Println(\"char:\", string(rune), \"unicode:\", rune)\n",
    "    }\n",
    "    \n",
    "}"
   ]
  },
  {
   "cell_type": "markdown",
   "id": "q3_2",
   "metadata": {},
   "source": [
    "### 題目 3-2：字串反轉（支援中文） (8分)\n",
    "實作一個函數 `reverseString`，能夠正確反轉包含中文和 emoji 的字串。\n",
    "例如：\"Hello世界🌍\" 應該反轉為 \"🌍界世olleH\""
   ]
  },
  {
   "cell_type": "code",
   "execution_count": 27,
   "id": "q3_2",
   "metadata": {},
   "outputs": [
    {
     "name": "stdout",
     "output_type": "stream",
     "text": [
      "Hello -> olleH\n",
      "Hello世界🌍 -> 🌍界世olleH\n"
     ]
    }
   ],
   "source": [
    "//go:build ignore\n",
    "package main\n",
    "\n",
    "import \"fmt\"\n",
    "\n",
    "func reverseString(s string) string {\n",
    "    // 在這裡寫下你的答案\n",
    "    runes := []rune(s)\n",
    "    for i,j := 0, len(runes)-1; i < len(runes)/2; i, j = i+1, j-1 {\n",
    "        runes[i], runes[j] = runes[j], runes[i]\n",
    "    }\n",
    "    return string(runes)\n",
    "}\n",
    "\n",
    "func main() {\n",
    "    test1 := \"Hello\"\n",
    "    test2 := \"Hello世界🌍\"\n",
    "    \n",
    "    fmt.Printf(\"%s -> %s\\n\", test1, reverseString(test1))\n",
    "    fmt.Printf(\"%s -> %s\\n\", test2, reverseString(test2))\n",
    "}"
   ]
  },
  {
   "cell_type": "markdown",
   "id": "q3_3",
   "metadata": {},
   "source": [
    "### 題目 3-3：高效字串建構 (6分)\n",
    "使用 `strings.Builder` 建構一個函數，將整數切片轉換為逗號分隔的字串。\n",
    "例如：[1, 2, 3, 4, 5] 轉換為 \"1,2,3,4,5\""
   ]
  },
  {
   "cell_type": "code",
   "execution_count": null,
   "id": "q3_3",
   "metadata": {},
   "outputs": [],
   "source": [
    "//go:build ignore\n",
    "package main\n",
    "\n",
    "import (\n",
    "    \"fmt\"\n",
    "    \"strings\"\n",
    ")\n",
    "\n",
    "func joinInts(numbers []int) string {\n",
    "    // 在這裡寫下你的答案\n",
    "    \n",
    "}\n",
    "\n",
    "func main() {\n",
    "    numbers := []int{1, 2, 3, 4, 5}\n",
    "    result := joinInts(numbers)\n",
    "    fmt.Printf(\"結果: %s\\n\", result)\n",
    "    \n",
    "    // 測試空切片\n",
    "    empty := []int{}\n",
    "    emptyResult := joinInts(empty)\n",
    "    fmt.Printf(\"空切片結果: '%s'\\n\", emptyResult)\n",
    "}"
   ]
  },
  {
   "cell_type": "markdown",
   "id": "section4",
   "metadata": {},
   "source": [
    "## 第四部分：映射 (Maps) - 20分\n",
    "\n",
    "### 題目 4-1：基本映射操作 (5分)\n",
    "建立一個 map，儲存學生姓名（string）到分數（int）的對應。執行以下操作：\n",
    "1. 添加三個學生的分數\n",
    "2. 查詢一個存在的學生分數\n",
    "3. 查詢一個不存在的學生，使用 comma-ok 模式\n",
    "4. 刪除一個學生的記錄"
   ]
  },
  {
   "cell_type": "code",
   "execution_count": 33,
   "id": "q4_1",
   "metadata": {},
   "outputs": [
    {
     "name": "stdout",
     "output_type": "stream",
     "text": [
      "Alice's score: 85\n",
      "David's score: Student doesn't exist\n"
     ]
    }
   ],
   "source": [
    "//go:build ignore\n",
    "package main\n",
    "\n",
    "import \"fmt\"\n",
    "\n",
    "func getScore(scoreMap map[string]int ,name string) string {\n",
    "    score, ok := scoreMap[name]\n",
    "    if ok {\n",
    "        return strconv.Itoa(score)\n",
    "    }else{\n",
    "        return \"Student doesn't exist\"\n",
    "    }\n",
    "        \n",
    "\n",
    "}\n",
    "\n",
    "func main() {\n",
    "    // 在這裡寫下你的答案\n",
    "    var scoreMap = map[string]int{\n",
    "        \"Alice\": 85,\n",
    "        \"Bob\": 90,\n",
    "        \"Charlie\": 78,\n",
    "    }\n",
    "\n",
    "    fmt.Println(\"Alice's score:\", getScore(scoreMap, \"Alice\"))\n",
    "    fmt.Println(\"David's score:\", getScore(scoreMap, \"David\"))\n",
    "    \n",
    "}"
   ]
  },
  {
   "cell_type": "markdown",
   "id": "q4_2",
   "metadata": {},
   "source": [
    "### 題目 4-2：字元計數器 (6分)\n",
    "寫一個函數 `charCount`，統計字串中每個字元出現的次數，返回一個 map[rune]int。"
   ]
  },
  {
   "cell_type": "code",
   "execution_count": 46,
   "id": "q4_2",
   "metadata": {},
   "outputs": [
    {
     "name": "stdout",
     "output_type": "stream",
     "text": [
      "map[32:1 100:1 101:1 104:1 108:3 111:2 114:1 119:1]\n",
      "' ': 1\n",
      "'w': 1\n",
      "'r': 1\n",
      "'d': 1\n",
      "'h': 1\n",
      "'e': 1\n",
      "'l': 3\n",
      "'o': 2\n"
     ]
    }
   ],
   "source": [
    "//go:build ignore\n",
    "package main\n",
    "\n",
    "import \"fmt\"\n",
    "\n",
    "func charCount(s string) map[rune]int {\n",
    "    // 在這裡寫下你的答案\n",
    "    runes := []rune(s)\n",
    "    var result = map[rune]int{}\n",
    "    for _,r := range runes {\n",
    "        count, ok := result[r]\n",
    "        if ok {\n",
    "            result[r] = count + 1\n",
    "        } else {\n",
    "            result[r] = 1\n",
    "        }\n",
    "    }    \n",
    "    return result\n",
    "}\n",
    "\n",
    "func main() {\n",
    "    text := \"hello world\"\n",
    "    counts := charCount(text)\n",
    "    fmt.Println(counts)\n",
    "    for char, count := range counts {\n",
    "        fmt.Printf(\"'%c': %d\\n\", char, count)\n",
    "    }\n",
    "}"
   ]
  },
  {
   "cell_type": "markdown",
   "id": "q4_3",
   "metadata": {},
   "source": [
    "### 題目 4-3：群組分類 (9分)\n",
    "給定一個學生結構切片，按年級將學生分組。寫一個函數 `groupByGrade`，返回 map[string][]Student。"
   ]
  },
  {
   "cell_type": "code",
   "execution_count": 50,
   "id": "q4_3",
   "metadata": {},
   "outputs": [
    {
     "name": "stdout",
     "output_type": "stream",
     "text": [
      "年級 A: [{Alice A 95} {Charlie A 92}]\n",
      "年級 B: [{Bob B 87} {Eve B 89}]\n",
      "年級 C: [{David C 78}]\n"
     ]
    }
   ],
   "source": [
    "//go:build ignore\n",
    "package main\n",
    "\n",
    "import \"fmt\"\n",
    "\n",
    "type Student struct {\n",
    "    Name  string\n",
    "    Grade string\n",
    "    Score int\n",
    "}\n",
    "\n",
    "func groupByGrade(students []Student) map[string][]Student {\n",
    "    // 在這裡寫下你的答案\n",
    "    result := map[string][]Student{}\n",
    "    for _,s := range students {\n",
    "        students, ok := result[s.Grade]\n",
    "        if ok {\n",
    "            studs := append(students, s)\n",
    "            result[s.Grade] = studs    \n",
    "        }else{\n",
    "            result[s.Grade] = []Student{s}\n",
    "        }\n",
    "    }\n",
    "    return result\n",
    "    \n",
    "}\n",
    "\n",
    "func main() {\n",
    "    students := []Student{\n",
    "        {\"Alice\", \"A\", 95},\n",
    "        {\"Bob\", \"B\", 87},\n",
    "        {\"Charlie\", \"A\", 92},\n",
    "        {\"David\", \"C\", 78},\n",
    "        {\"Eve\", \"B\", 89},\n",
    "    }\n",
    "    \n",
    "    groups := groupByGrade(students)\n",
    "    \n",
    "    for grade, studentList := range groups {\n",
    "        fmt.Printf(\"年級 %s: %v\\n\", grade, studentList)\n",
    "    }\n",
    "}"
   ]
  },
  {
   "cell_type": "markdown",
   "id": "section5",
   "metadata": {},
   "source": [
    "## 第五部分：結構 (Structs) - 20分\n",
    "\n",
    "### 題目 5-1：基本結構操作 (7分)\n",
    "定義一個 `Circle` 結構，包含半徑欄位。寫一個函數 `calculateArea` 來計算圓的面積，另一個函數 `calculateCircumference` 來計算圓周長。"
   ]
  },
  {
   "cell_type": "code",
   "execution_count": 53,
   "id": "q5_1",
   "metadata": {},
   "outputs": [
    {
     "name": "stdout",
     "output_type": "stream",
     "text": [
      "圓: 半徑=5.00\n",
      "面積: 78.54\n",
      "圓周長: 31.42\n"
     ]
    }
   ],
   "source": [
    "//go:build ignore\n",
    "package main\n",
    "\n",
    "import (\n",
    "    \"fmt\"\n",
    "    \"math\"\n",
    ")\n",
    "\n",
    "type Circle struct {\n",
    "    // 在這裡定義結構\n",
    "    Radius float64\n",
    "}\n",
    "\n",
    "func calculateArea(c Circle) float64 {\n",
    "    // 在這裡實作\n",
    "    return c.Radius * c.Radius * math.Pi\n",
    "    \n",
    "}\n",
    "\n",
    "func calculateCircumference(c Circle) float64 {\n",
    "    // 在這裡實作\n",
    "    return 2 * c.Radius * math.Pi\n",
    "    \n",
    "}\n",
    "\n",
    "func main() {\n",
    "    circle := Circle{Radius: 5.0}\n",
    "    \n",
    "    fmt.Printf(\"圓: 半徑=%.2f\\n\", circle.Radius)\n",
    "    fmt.Printf(\"面積: %.2f\\n\", calculateArea(circle))\n",
    "    fmt.Printf(\"圓周長: %.2f\\n\", calculateCircumference(circle))\n",
    "}"
   ]
  },
  {
   "cell_type": "code",
   "execution_count": null,
   "id": "q5_2",
   "metadata": {},
   "outputs": [],
   "source": [
    "//go:build ignore\n",
    "package main\n",
    "\n",
    "import \"fmt\"\n",
    "\n",
    "// 在這裡定義結構\n",
    "\n",
    "func formatPerson(p Person) string {\n",
    "    // 在這裡實作\n",
    "    \n",
    "}\n",
    "\n",
    "func getEmployeeInfo(e Employee) string {\n",
    "    // 在這裡實作\n",
    "    \n",
    "}\n",
    "\n",
    "func main() {\n",
    "    emp := Employee{\n",
    "        Person: Person{Name: \"Alice\", Age: 30},\n",
    "        Address: Address{Street: \"123 Main St\", City: \"New York\"},\n",
    "        Salary: 75000,\n",
    "    }\n",
    "    \n",
    "    // 測試嵌入欄位的直接存取\n",
    "    fmt.Printf(\"姓名: %s\\n\", emp.Name)\n",
    "    fmt.Printf(\"城市: %s\\n\", emp.City)\n",
    "    \n",
    "    // 測試函數\n",
    "    fmt.Println(formatPerson(emp.Person))\n",
    "    fmt.Println(getEmployeeInfo(emp))\n",
    "}"
   ]
  },
  {
   "cell_type": "code",
   "execution_count": null,
   "id": "q5_2",
   "metadata": {},
   "outputs": [],
   "source": [
    "//go:build ignore\n",
    "package main\n",
    "\n",
    "import \"fmt\"\n",
    "\n",
    "// 在這裡定義結構\n",
    "\n",
    "// 在這裡實作方法\n",
    "\n",
    "func main() {\n",
    "    emp := Employee{\n",
    "        Person: Person{Name: \"Alice\", Age: 30},\n",
    "        Address: Address{Street: \"123 Main St\", City: \"New York\"},\n",
    "        Salary: 75000,\n",
    "    }\n",
    "    \n",
    "    // 測試嵌入欄位的直接存取\n",
    "    fmt.Printf(\"姓名: %s\\n\", emp.Name)\n",
    "    fmt.Printf(\"城市: %s\\n\", emp.City)\n",
    "    \n",
    "    // 測試方法\n",
    "    fmt.Println(emp.GetInfo())\n",
    "}"
   ]
  },
  {
   "cell_type": "code",
   "execution_count": 58,
   "id": "q5_3",
   "metadata": {},
   "outputs": [
    {
     "name": "stdout",
     "output_type": "stream",
     "text": [
      "rect1 == rect2: true\n",
      "總面積: 98.00\n"
     ]
    }
   ],
   "source": [
    "//go:build ignore\n",
    "package main\n",
    "\n",
    "import (\n",
    "    \"fmt\"\n",
    "    \"math\"\n",
    ")\n",
    "\n",
    "type Rectangle struct {\n",
    "    Width, Height float64\n",
    "}\n",
    "\n",
    "func isEqualRect(r1, r2 Rectangle) bool {\n",
    "    // 在這裡實作\n",
    "    equal := r1 == r2 || (r1.Width == r2.Height && r1.Height == r2.Width)\n",
    "    return equal\n",
    "    \n",
    "}\n",
    "\n",
    "func totalRectangleArea(rectangles []Rectangle) float64 {\n",
    "    // 在這裡實作\n",
    "    var area float64 = 0\n",
    "    for _,r := range rectangles {\n",
    "        area += r.Width * r.Height\n",
    "    }\n",
    "    return area\n",
    "    \n",
    "}\n",
    "\n",
    "func main() {\n",
    "    rect1 := Rectangle{Width: 10, Height: 5}\n",
    "    rect2 := Rectangle{Width: 10, Height: 5}\n",
    "    rect3 := Rectangle{Width: 8, Height: 6}\n",
    "    \n",
    "    fmt.Printf(\"rect1 == rect2: %t\\n\", isEqualRect(rect1, rect2))\n",
    "    \n",
    "    rectangles := []Rectangle{rect1, rect3}\n",
    "    total := totalRectangleArea(rectangles)\n",
    "    fmt.Printf(\"總面積: %.2f\\n\", total)\n",
    "}"
   ]
  }
 ],
 "metadata": {
  "kernelspec": {
   "display_name": "Go (gonb)",
   "language": "go",
   "name": "gonb"
  },
  "language_info": {
   "codemirror_mode": "",
   "file_extension": ".go",
   "mimetype": "text/x-go",
   "name": "go",
   "nbconvert_exporter": "",
   "pygments_lexer": "",
   "version": "go1.24.5"
  }
 },
 "nbformat": 4,
 "nbformat_minor": 5
}
