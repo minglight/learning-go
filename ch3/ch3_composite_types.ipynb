{
 "cells": [
  {
   "cell_type": "markdown",
   "id": "3e13f55a",
   "metadata": {},
   "source": [
    "# 第三章：複合型態（Composite Types）  \n",
    "> 本章完整說明 **陣列 (array)**、**切片 (slice)**、**字串 (string)／rune／byte**、**map**、**struct** 的語意、最佳實務、常見陷阱與多種使用情境。  \n",
    "> 說明以 **台灣正體中文** 撰寫，專業名詞採「中文（英文）」雙語。"
   ]
  },
  {
   "cell_type": "markdown",
   "id": "ea4af58a",
   "metadata": {},
   "source": [
    "## 陣列—很難直接使用（Arrays）\n",
    "**陣列 (array)** 是「固定長度（fixed-length）且同質（homogeneous）」的連續記憶體集合；其**長度是型別的一部分**。  \n",
    "實務上較少直接使用，原因：\n",
    "\n",
    "- **長度固定**：宣告後無法擴充或縮短。\n",
    "- **值語意（value semantics）**：**傳遞或指定給變數時會整份複製**，成本可能高。\n",
    "- **型別嚴格**：`[3]int` 與 `[4]int` 是不同型別，無法互相指派。\n",
    "- **不支援 `append`**：想動態增長需改用 **slice**。\n",
    "- 常用於：**固定大小**資料、**FFI** 或 **需要在堆疊配置的高效連續記憶體**。\n",
    "\n",
    "> 小提醒：**多維陣列**是陣列的陣列（array of arrays），尺寸都固定。"
   ]
  },
  {
   "cell_type": "markdown",
   "id": "4b84a239",
   "metadata": {},
   "source": [
    "## 宣告\n",
    "```go\n",
    "\n",
    "//會預設給一個空的array, 都塞成0\n",
    "var x1 [3]int \n",
    "\n",
    "//可以直接assign\n",
    "var x2 = [3]int{10,20,30}\n",
    "\n",
    "\n",
    "\n",
    "```"
   ]
  },
  {
   "cell_type": "code",
   "execution_count": 3,
   "id": "b970430a",
   "metadata": {},
   "outputs": [
    {
     "name": "stdout",
     "output_type": "stream",
     "text": [
      "a1: [1 2 3] a2: [10 20 30]\n",
      "a1 不受影響: [1 2 3] a3: [999 2 3]\n",
      "after mutateArray(a1): [1 2 3]\n",
      "after mutateArrayPtr(&a1): [77 2 3]\n",
      "grid: [[0 42 0] [0 0 0]]\n"
     ]
    }
   ],
   "source": [
    "//go:build ignore\n",
    "package main\n",
    "\n",
    "import \"fmt\"\n",
    "\n",
    "func mutateArray(a [3]int) { // 值傳遞（copy）\n",
    "\t// 這裡修改不會影響呼叫端\n",
    "\ta[0] = 99\n",
    "}\n",
    "\n",
    "func mutateArrayPtr(a *[3]int) { // 指標傳遞（reference-like）\n",
    "\ta[0] = 77\n",
    "}\n",
    "\n",
    "func main() {\n",
    "\t// 1) 基本宣告與推導大小\n",
    "\tvar a1 [3]int = [3]int{1, 2, 3}\n",
    "\ta2 := [...]int{10, 20, 30} // 由編譯器推導長度為 3\n",
    "\tfmt.Println(\"a1:\", a1, \"a2:\", a2)\n",
    "\n",
    "\t// 2) 值語意：賦值會複製整個陣列\n",
    "\ta3 := a1\n",
    "\ta3[0] = 999\n",
    "\tfmt.Println(\"a1 不受影響:\", a1, \"a3:\", a3)\n",
    "\n",
    "\t// 3) 呼叫函式：值傳遞 vs 指標傳遞\n",
    "\tmutateArray(a1)\n",
    "\tfmt.Println(\"after mutateArray(a1):\", a1) // 仍為原值\n",
    "\n",
    "\tmutateArrayPtr(&a1)\n",
    "\tfmt.Println(\"after mutateArrayPtr(&a1):\", a1) // 被修改\n",
    "\n",
    "\t// 4) 多維陣列（固定大小）\n",
    "\tvar grid [2][3]int\n",
    "\tgrid[0][1] = 42\n",
    "\tfmt.Println(\"grid:\", grid)\n",
    "}"
   ]
  },
  {
   "cell_type": "markdown",
   "id": "7c5593c2",
   "metadata": {},
   "source": [
    "## Slice（切片）\n",
    "**Slice** 是建立在「底層陣列（backing array）」之上的**視圖（view）**，包含三個欄位：`ptr`、`len`、`cap`。  \n",
    "- **長度（len）**：可讀可改（透過切割），表示可見元素數。\n",
    "- **容量（cap）**：從 `ptr` 開始到底層陣列可用的最大範圍。\n",
    "- **動態增長**：透過 `append` 可能導致 **重新配置（reallocate）** 新底層陣列。  \n",
    "- **零值（zero value）**：`nil` slice（`var s []T`），`len=0`、`cap=0`、`s==nil` 為真。  \n",
    "- **空 slice**：`[]T{}` 或 `make([]T, 0)`，`len=0`、`cap>=0`、`s!=nil`。\n",
    "\n",
    "> 直覺心法：**用 slice，除非你真的需要固定長度 array 的語意。**"
   ]
  },
  {
   "cell_type": "markdown",
   "id": "46b1d590",
   "metadata": {},
   "source": [
    "### len（長度）\n",
    "- `len(s)` 回傳目前可見元素數量。  \n",
    "- 切片運算 `s[i:j]` 會回傳 **新的 slice header**（共享同一個底層陣列）。"
   ]
  },
  {
   "cell_type": "code",
   "execution_count": 18,
   "id": "724263c3",
   "metadata": {},
   "outputs": [
    {
     "name": "stdout",
     "output_type": "stream",
     "text": [
      "len: 4\n",
      "[1 2]\n",
      "2 4\n"
     ]
    }
   ],
   "source": [
    "//go:build ignore\n",
    "package main\n",
    "\n",
    "import \"fmt\"\n",
    "\n",
    "func main() {\n",
    "\ts := []int{1, 2, 3, 4}\n",
    "\tfmt.Println(\"len:\", len(s)) // 4\n",
    "\n",
    "\ts2 := s[:2]       // 共享底層陣列\n",
    "\tfmt.Println(s2)   // [1 2]\n",
    "\tfmt.Println(len(s2), cap(s2)) // 2, cap>=2（視原切片容量而定）\n",
    "}"
   ]
  },
  {
   "cell_type": "markdown",
   "id": "14ad2246",
   "metadata": {},
   "source": [
    "### 宣告 slice（宣告與零值）\n",
    "- `var s []T`：零值為 `nil` slice，可安全 `append`。  \n",
    "- 字面值：`s := []T{...}` 立即帶值。\n",
    "- 還有使用 []s(nil) 來init value"
   ]
  },
  {
   "cell_type": "code",
   "execution_count": 13,
   "id": "7a08a11f",
   "metadata": {},
   "outputs": [
    {
     "name": "stdout",
     "output_type": "stream",
     "text": [
      "true 0 0\n",
      "[1 2 3]\n",
      "[go rust]\n"
     ]
    }
   ],
   "source": [
    "//go:build ignore\n",
    "package main\n",
    "\n",
    "import \"fmt\"\n",
    "\n",
    "func main() {\n",
    "\tvar s []int // nil slice\n",
    "\tfmt.Println(s == nil, len(s), cap(s)) // true 0 0\n",
    "\ts = append(s, 1, 2, 3)\n",
    "\tfmt.Println(s)\n",
    "\n",
    "\ts2 := []string{\"go\", \"rust\"}\n",
    "\tfmt.Println(s2)\n",
    "}"
   ]
  },
  {
   "cell_type": "markdown",
   "id": "231a33e3",
   "metadata": {},
   "source": [
    "### make（建立 slice）\n",
    "- `make([]T, len)`：建立長度=容量的 slice。  \n",
    "- `make([]T, len, cap)`：建立指定長度與容量的 slice。"
   ]
  },
  {
   "cell_type": "code",
   "execution_count": 12,
   "id": "36151875",
   "metadata": {},
   "outputs": [
    {
     "name": "stdout",
     "output_type": "stream",
     "text": [
      "[0 0 0] 3 3\n",
      "[] 0 4\n"
     ]
    }
   ],
   "source": [
    "//go:build ignore\n",
    "package main\n",
    "\n",
    "import \"fmt\"\n",
    "\n",
    "func main() {\n",
    "\ta := make([]int, 3)       // [0 0 0] len=3 cap=3\n",
    "\tb := make([]int, 0, 4)    // [] len=0 cap=4，適合後續 append\n",
    "\tfmt.Println(a, len(a), cap(a))\n",
    "\tfmt.Println(b, len(b), cap(b))\n",
    "}"
   ]
  },
  {
   "cell_type": "markdown",
   "id": "946f9718",
   "metadata": {},
   "source": [
    "### append（動態擴充）\n",
    "- `append(s, v...)` 會回傳**新 slice**（可能仍共享，也可能已搬家）。  \n",
    "- 若容量不足，**執行期會配置新陣列**並複製舊資料，原 `s` 與新切片不再共享。  \n",
    "- **常見陷阱**：對「子切片」`s2 := s[:k]` 做 `append`，可能覆蓋 `s` 之後元素（尚在同一底層陣列且容量足夠）。"
   ]
  },
  {
   "cell_type": "code",
   "execution_count": null,
   "id": "3c42b034",
   "metadata": {},
   "outputs": [
    {
     "name": "stdout",
     "output_type": "stream",
     "text": [
      "base 可能被覆寫: [1 2 99 4]\n",
      "sub: [1 2 99]\n",
      "base 不受影響: [1 2 99 4]\n",
      "isolated: [1 2 88]\n"
     ]
    }
   ],
   "source": [
    "//go:build ignore\n",
    "package main\n",
    "\n",
    "import \"fmt\"\n",
    "\n",
    "func main() {\n",
    "\tbase := []int{1, 2, 3, 4}\n",
    "\tsub := base[:2] // [1 2]，cap 可能大於 2\n",
    "\tsub = append(sub, 99) // 若 cap 夠，會寫回同一底層陣列\n",
    "\tfmt.Println(\"base 可能被覆寫:\", base)\n",
    "\tfmt.Println(\"sub:\", sub)\n",
    "\n",
    "\t// 若想避免彼此影響，預先 copy 出獨立底層陣列\n",
    "\tisolated := append([]int(nil), base[:2]...)\n",
    "\tisolated = append(isolated, 88)\n",
    "\tfmt.Println(\"base 不受影響:\", base)\n",
    "\tfmt.Println(\"isolated:\", isolated)\n",
    "}"
   ]
  },
  {
   "cell_type": "markdown",
   "id": "edba3ce2",
   "metadata": {},
   "source": [
    "### 容量（cap, capacity）\n",
    "- `cap(s)` 代表自 `ptr` 起到底層陣列可用的總長度。  \n",
    "- **成長策略**由實作決定（通常逐步倍增），不要依賴精確倍數。  \n",
    "- 可用三索引切片語法 `s[i:j:k]` 控制新切片容量為 `k-i`（**full slice expression**）。"
   ]
  },
  {
   "cell_type": "code",
   "execution_count": 11,
   "id": "e3714760",
   "metadata": {},
   "outputs": [
    {
     "name": "stdout",
     "output_type": "stream",
     "text": [
      "[0 0] 2 5\n",
      "s: [0 0] s2: [0 0 7] cap(s2): 4\n"
     ]
    }
   ],
   "source": [
    "//go:build ignore\n",
    "package main\n",
    "\n",
    "import \"fmt\"\n",
    "\n",
    "func main() {\n",
    "\ts := make([]int, 2, 5) // len=2, cap=5\n",
    "\tfmt.Println(s, len(s), cap(s))\n",
    "\n",
    "\t// full slice：限制容量，避免外溢覆寫\n",
    "\ts2 := s[:2:2]        // len=2, cap=2\n",
    "\ts2 = append(s2, 7)   // 會強制配置新底層陣列\n",
    "\tfmt.Println(\"s:\", s, \"s2:\", s2, \"cap(s2):\", cap(s2))\n",
    "}"
   ]
  },
  {
   "cell_type": "markdown",
   "id": "b7d05494",
   "metadata": {},
   "source": [
    "### 切割 slice（slicing）\n",
    "- 基本語法：`s[i:j]`，含 `i` 不含 `j`。  \n",
    "- 省略 `i` 視為 `0`，省略 `j` 視為 `len(s)`。  \n",
    "- 使用 `s[i:j:k]` 可以控制容量，避免 `append` 回寫影響原切片。"
   ]
  },
  {
   "cell_type": "code",
   "execution_count": 14,
   "id": "d24b9ca7",
   "metadata": {},
   "outputs": [
    {
     "name": "stdout",
     "output_type": "stream",
     "text": [
      "[2 3]\n",
      "[1 2]\n",
      "[3 4 5]\n",
      "[]\n"
     ]
    }
   ],
   "source": [
    "//go:build ignore\n",
    "package main\n",
    "\n",
    "import \"fmt\"\n",
    "\n",
    "func main() {\n",
    "\ts := []int{1,2,3,4,5}\n",
    "\tfmt.Println(s[1:3])   // [2 3]\n",
    "\tfmt.Println(s[:2])    // [1 2]\n",
    "\tfmt.Println(s[2:])    // [3 4 5]\n",
    "\tfmt.Println(s[0:0:0]) // len=0 cap=0 的切片\n",
    "}"
   ]
  },
  {
   "cell_type": "markdown",
   "id": "326c9f58",
   "metadata": {},
   "source": [
    "### 將陣列轉換成 slice（array → slice）\n",
    "對陣列或指向陣列的指標做切片即可獲得 slice。"
   ]
  },
  {
   "cell_type": "code",
   "execution_count": 16,
   "id": "43d6e296",
   "metadata": {},
   "outputs": [
    {
     "name": "stdout",
     "output_type": "stream",
     "text": [
      "[2 3 4] [3 4 5]\n"
     ]
    }
   ],
   "source": [
    "//go:build ignore\n",
    "package main\n",
    "\n",
    "import \"fmt\"\n",
    "\n",
    "func main() {\n",
    "\tarr := [5]int{1,2,3,4,5}\n",
    "\ts1 := arr[1:4]      // 基於陣列的切片\n",
    "\ts2 := (&arr)[2:5]   // 以 *[5]int 也可切\n",
    "\tfmt.Println(s1, s2)\n",
    "}"
   ]
  },
  {
   "cell_type": "markdown",
   "id": "b07ef7dc",
   "metadata": {},
   "source": [
    "### copy（複製 slice）\n",
    "- `n := copy(dst, src)`：回傳實際複製數量（`min(len(dst), len(src))`）。  \n",
    "- **用於**：擴容前資料搬移、切片去共享、環形緩衝等。"
   ]
  },
  {
   "cell_type": "code",
   "execution_count": 17,
   "id": "5eae6105",
   "metadata": {},
   "outputs": [
    {
     "name": "stdout",
     "output_type": "stream",
     "text": [
      "n: 2 dst: [1 2]\n",
      "b: [999 20 30 40] isolated: [10 20 30 40]\n"
     ]
    }
   ],
   "source": [
    "//go:build ignore\n",
    "package main\n",
    "\n",
    "import \"fmt\"\n",
    "\n",
    "func main() {\n",
    "\tsrc := []int{1,2,3,4}\n",
    "\tdst := make([]int, 2)\n",
    "\tn := copy(dst, src) // 只會複製 2 個\n",
    "\tfmt.Println(\"n:\", n, \"dst:\", dst)\n",
    "\n",
    "\t// 去共享：\n",
    "\tb := []int{10,20,30,40}\n",
    "\tisolated := make([]int, len(b))\n",
    "\tcopy(isolated, b) // isolated 與 b 不共享底層陣列\n",
    "\tb[0] = 999\n",
    "\tfmt.Println(\"b:\", b, \"isolated:\", isolated)\n",
    "}"
   ]
  },
  {
   "cell_type": "markdown",
   "id": "2de97cc1",
   "metadata": {},
   "source": [
    "## 字串與 rune 與 byte（Strings, Runes, Bytes）\n",
    "- **字串（string）**：**不可變（immutable）**的 **UTF-8** 位元組序列。索引操作回傳 **byte**。  \n",
    "- **byte**：`uint8` 的別名，表示單一位元組。  \n",
    "- **rune**：`int32` 的別名，表示一個 **Unicode code point**。  \n",
    "\n",
    "重點：\n",
    "- `len(str)` 回傳的是 **位元組數（bytes）**，不是字元數。  \n",
    "- 以 `for range` 迭代字串會以 **rune** 為單位前進。  \n",
    "- 需要以「字元」為單位處理時，先轉 `[]rune`。  \n",
    "- 可用 `utf8.RuneCountInString` 計算字元（rune）數。"
   ]
  },
  {
   "cell_type": "code",
   "execution_count": null,
   "id": "9ba076a8",
   "metadata": {},
   "outputs": [],
   "source": [
    "//go:build ignore\n",
    "package main\n",
    "\n",
    "import (\n",
    "\t\"fmt\"\n",
    "\t\"unicode/utf8\"\n",
    ")\n",
    "\n",
    "func main() {\n",
    "\tstr := \"Hello, 世界🌏\"\n",
    "\tfmt.Println(\"bytes(len):\", len(str))               // 位元組數\n",
    "\tfmt.Println(\"runes:\", utf8.RuneCountInString(str)) // 字元數\n",
    "\n",
    "\t// 逐 rune 迭代\n",
    "\tfor i, r := range str {\n",
    "\t\tfmt.Printf(\"i=%d r=%c U+%04X\\n\", i, r, r)\n",
    "\t}\n",
    "\n",
    "\t// 以 rune 修改字串（需轉換，因 string 不可變）\n",
    "\trunes := []rune(str)\n",
    "\trunes[7] = '界'\n",
    "\tfmt.Println(\"修改後：\", string(runes))\n",
    "\n",
    "\t// 高效拼接：strings.Builder / bytes.Buffer\n",
    "}"
   ]
  },
  {
   "cell_type": "markdown",
   "id": "cb5c88c7",
   "metadata": {},
   "source": [
    "## map（映射 / 連想陣列）\n",
    "**map[K]V** 是雜湊表（hash table）實作的鍵值對集合。\n",
    "\n",
    "重點：\n",
    "- **零值為 `nil`**，`var m map[K]V` 可讀不可寫；需 `make(map[K]V)` 後才能賦值。\n",
    "- **讀/寫平均 O(1)**；**迭代順序不保證固定**（Go 1.12 起更刻意隨機化）。\n",
    "- key 限制：**必須可比較（comparable）**；因此 `slice/map/function` 不能做 key。\n",
    "- **非併發安全**：多 goroutine 同時寫需加鎖或使用 `sync.Map`（特殊情境適用）。"
   ]
  },
  {
   "cell_type": "markdown",
   "id": "97054f2d",
   "metadata": {},
   "source": [
    "### 讀取和寫入 map"
   ]
  },
  {
   "cell_type": "code",
   "execution_count": null,
   "id": "cf4d438a",
   "metadata": {},
   "outputs": [],
   "source": [
    "//go:build ignore\n",
    "package main\n",
    "\n",
    "import \"fmt\"\n",
    "\n",
    "func main() {\n",
    "\tm := make(map[string]int)\n",
    "\tm[\"alice\"] = 25\n",
    "\tm[\"bob\"] = 30\n",
    "\n",
    "\tfmt.Println(\"alice =\", m[\"alice\"]) // 25\n",
    "\n",
    "\t// 讀取不存在的 key 回傳 value 的零值\n",
    "\tfmt.Println(\"unknown =\", m[\"unknown\"]) // 0\n",
    "}"
   ]
  },
  {
   "cell_type": "markdown",
   "id": "c3bba7db",
   "metadata": {},
   "source": [
    "### 逗號 ok 寫法（comma-ok idiom）\n",
    "用於**判斷 key 是否存在**，避免把零值誤判為有值。"
   ]
  },
  {
   "cell_type": "code",
   "execution_count": null,
   "id": "55fac2ad",
   "metadata": {},
   "outputs": [],
   "source": [
    "//go:build ignore\n",
    "package main\n",
    "\n",
    "import \"fmt\"\n",
    "\n",
    "func main() {\n",
    "\tm := map[string]int{\"x\": 1}\n",
    "\tv, ok := m[\"y\"]\n",
    "\tif !ok {\n",
    "\t\tfmt.Println(\"y 不存在\")\n",
    "\t} else {\n",
    "\t\tfmt.Println(\"y =\", v)\n",
    "\t}\n",
    "}"
   ]
  },
  {
   "cell_type": "markdown",
   "id": "8010a62b",
   "metadata": {},
   "source": [
    "### 刪除 map 內容（delete）\n",
    "- `delete(m, key)`：不存在也不會出錯。"
   ]
  },
  {
   "cell_type": "code",
   "execution_count": null,
   "id": "930579b3",
   "metadata": {},
   "outputs": [],
   "source": [
    "//go:build ignore\n",
    "package main\n",
    "\n",
    "import \"fmt\"\n",
    "\n",
    "func main() {\n",
    "\tm := map[string]int{\"a\":1, \"b\":2}\n",
    "\tdelete(m, \"a\")\n",
    "\tdelete(m, \"zzz\") // 安全\n",
    "\tfmt.Println(m)   // 只剩 b\n",
    "}"
   ]
  },
  {
   "cell_type": "markdown",
   "id": "2f3cc8e5",
   "metadata": {},
   "source": [
    "### 將 map 當成 set 來使用（Set via map）\n",
    "- 推薦：`map[T]struct{}` 節省記憶體（空 struct 不佔位）。  \n",
    "- 若需表示「是否啟用」可用 `map[T]bool`。"
   ]
  },
  {
   "cell_type": "code",
   "execution_count": null,
   "id": "e3735176",
   "metadata": {},
   "outputs": [],
   "source": [
    "//go:build ignore\n",
    "package main\n",
    "\n",
    "import \"fmt\"\n",
    "\n",
    "func main() {\n",
    "\t// 1) 使用 struct{} 作為集合\n",
    "\tset := make(map[string]struct{})\n",
    "\tset[\"go\"] = struct{}{}\n",
    "\tset[\"rust\"] = struct{}{}\n",
    "\n",
    "\t_, hasGo := set[\"go\"]\n",
    "\tfmt.Println(\"has go:\", hasGo)\n",
    "\n",
    "\t// 2) 使用 bool 作為集合\n",
    "\tset2 := map[int]bool{1:true, 3:true}\n",
    "\tfmt.Println(\"1 in set2:\", set2[1])\n",
    "}"
   ]
  },
  {
   "cell_type": "markdown",
   "id": "da3fec0e",
   "metadata": {},
   "source": [
    "## struct（結構體）\n",
    "**struct** 用於定義**聚合資料（aggregate data）**。\n",
    "\n",
    "重點：\n",
    "- 可含 **欄位標籤（tag）** 提供序列化等額外資訊（例如 `json:\"name,omitempty\"`）。\n",
    "- **方法（method）** 可以綁定在型別上，常以指標接收者實作（避免拷貝、允許修改）。\n",
    "- **比較（==）**：當 **所有欄位皆可比較** 時，struct 可直接比較。\n",
    "- **型別相等性（type identity）**：不同命名型別即使欄位相同也**不是同型別**，需**顯式轉型**。"
   ]
  },
  {
   "cell_type": "code",
   "execution_count": null,
   "id": "48a8db5a",
   "metadata": {},
   "outputs": [],
   "source": [
    "//go:build ignore\n",
    "package main\n",
    "\n",
    "import (\n",
    "\t\"encoding/json\"\n",
    "\t\"fmt\"\n",
    ")\n",
    "\n",
    "type Person struct {\n",
    "\tName string `json:\"name\"`\n",
    "\tAge  int    `json:\"age,omitempty\"`\n",
    "}\n",
    "\n",
    "func (p *Person) Birthday() { // 指標接收者：修改原物件\n",
    "\tp.Age++\n",
    "}\n",
    "\n",
    "func main() {\n",
    "\tp := Person{Name:\"Alice\", Age:20}\n",
    "\tfmt.Println(p)\n",
    "\n",
    "\tp.Birthday()\n",
    "\tfmt.Println(\"after:\", p)\n",
    "\n",
    "\t// JSON：欄位須導出（大寫開頭）才會被序列化\n",
    "\tb, _ := json.Marshal(p)\n",
    "\tfmt.Println(string(b))\n",
    "}"
   ]
  },
  {
   "cell_type": "markdown",
   "id": "ee376a15",
   "metadata": {},
   "source": [
    "### 匿名 struct（Anonymous Struct）\n",
    "適合**臨時資料**或**測試**場景，不必事先命名型別。"
   ]
  },
  {
   "cell_type": "code",
   "execution_count": null,
   "id": "75055840",
   "metadata": {},
   "outputs": [],
   "source": [
    "//go:build ignore\n",
    "package main\n",
    "\n",
    "import \"fmt\"\n",
    "\n",
    "func main() {\n",
    "\tuser := struct {\n",
    "\t\tID   int\n",
    "\t\tName string\n",
    "\t}{ID: 1001, Name: \"Bob\"}\n",
    "\n",
    "\tfmt.Printf(\"%#v\\n\", user)\n",
    "}"
   ]
  },
  {
   "cell_type": "markdown",
   "id": "d8cea91d",
   "metadata": {},
   "source": [
    "### 比較與轉換 struct（Equality & Conversion）\n",
    "- **比較**：所有欄位皆可比較時，`==` 與 `!=` 合法。含 slice/map/function 欄位時不可比較。  \n",
    "- **轉換**：不同命名型別需顯式轉換；且欄位集合、順序、型別必須相同（或底層型別相同）。"
   ]
  },
  {
   "cell_type": "code",
   "execution_count": null,
   "id": "88942e77",
   "metadata": {},
   "outputs": [],
   "source": [
    "//go:build ignore\n",
    "package main\n",
    "\n",
    "import \"fmt\"\n",
    "\n",
    "type Point struct{ X, Y int }\n",
    "type MyPoint struct{ X, Y int }\n",
    "\n",
    "func main() {\n",
    "\tp1 := Point{1,2}\n",
    "\tp2 := Point{1,2}\n",
    "\tfmt.Println(\"p1==p2 ?\", p1 == p2) // true（欄位皆可比較）\n",
    "\n",
    "\tvar mp MyPoint = MyPoint(p1) // 顯式轉換\n",
    "\tfmt.Println(mp)\n",
    "}"
   ]
  },
  {
   "cell_type": "markdown",
   "id": "8c9dfdff",
   "metadata": {},
   "source": [
    "## 總結\n",
    "- **陣列（array）**：固定長度、值語意；常被 **slice** 取代。  \n",
    "- **slice**：日常主力。理解 `len/cap/backing array/append/copy/full slice` 才能避免共享陷阱。  \n",
    "- **字串／rune／byte**：字串不可變、UTF-8；以 **rune** 處理字元層級邏輯。  \n",
    "- **map**：鍵值結構、讀寫 O(1)、隨機迭代、非併發安全；以 `comma-ok` 判斷存在性。  \n",
    "- **struct**：自訂資料模型，支援 method、tag、比較與顯式轉換。\n",
    "\n",
    "> 下一步建議：練習撰寫以 `slice + map + struct` 串接的小型資料處理程式，並特別觀察 **子切片 append 的共享影響** 與 **map 的 comma-ok**。"
   ]
  }
 ],
 "metadata": {
  "kernelspec": {
   "display_name": "Go (gonb)",
   "language": "go",
   "name": "gonb"
  },
  "language_info": {
   "codemirror_mode": "",
   "file_extension": ".go",
   "mimetype": "text/x-go",
   "name": "go",
   "nbconvert_exporter": "",
   "pygments_lexer": "",
   "version": "go1.24.4"
  }
 },
 "nbformat": 4,
 "nbformat_minor": 5
}
