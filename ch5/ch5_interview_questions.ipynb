{
 "cells": [
  {
   "cell_type": "markdown",
   "metadata": {},
   "source": [
    "# 第五章 函式 - 面試考題\n",
    "\n",
    "本章節包含關於 Go 函式的常見面試問題，涵蓋函式宣告、參數傳遞、回傳值、closure、defer 等重要概念。"
   ]
  },
  {
   "cell_type": "markdown",
   "metadata": {},
   "source": [
    "## 題目 1: 基本函式宣告和呼叫\n",
    "\n",
    "**題目**: 請寫一個函式 `calculateArea`，它接受兩個 `float64` 參數 `width` 和 `height`，回傳矩形的面積。同時寫出呼叫這個函式的程式碼。\n",
    "\n",
    "**要求**:\n",
    "- 函式必須有明確的參數類型和回傳類型\n",
    "- 包含錯誤處理（負數應該回傳錯誤）\n",
    "- 示範函式呼叫"
   ]
  },
  {
   "cell_type": "code",
   "execution_count": 7,
   "metadata": {},
   "outputs": [
    {
     "name": "stdout",
     "output_type": "stream",
     "text": [
      "area =  204.01999999999998\n"
     ]
    }
   ],
   "source": [
    "// 請在此處寫下你的答案\n",
    "package main\n",
    "\n",
    "import \"fmt\"\n",
    "\n",
    "func calculateArea(width, height float64) (float64, error) {\n",
    "\tif width < 0 || height < 0 {\n",
    "\t\treturn 0, errors.New(\"width and height should >=0 \") \n",
    "\t} \n",
    "\treturn width * height, nil\n",
    "}\n",
    "\n",
    "func main() {\n",
    "\twidth, height := 10.1, 20.2\n",
    "\tif area, err := calculateArea(width, height); err != nil {\n",
    "\t\tfmt.Println(\"err = \", err)\n",
    "\t}else{\n",
    "\t\tfmt.Println(\"area = \", area)\n",
    "\t}\n",
    "\n",
    "\t\n",
    "}"
   ]
  },
  {
   "cell_type": "markdown",
   "metadata": {},
   "source": [
    "## 題目 2: 多個回傳值\n",
    "\n",
    "**題目**: 實作一個函式 `divideAndRemainder`，接受兩個整數 `dividend` 和 `divisor`，回傳商數、餘數和可能的錯誤。\n",
    "\n",
    "**要求**:\n",
    "- 函式應該回傳三個值：商數(int)、餘數(int)、錯誤(error)\n",
    "- 當除數為0時應該回傳適當的錯誤\n",
    "- 示範如何正確處理多個回傳值"
   ]
  },
  {
   "cell_type": "code",
   "execution_count": 8,
   "metadata": {},
   "outputs": [
    {
     "name": "stdout",
     "output_type": "stream",
     "text": [
      "result =  4 0\n"
     ]
    }
   ],
   "source": [
    "\n",
    "// 請在此處寫下你的答案\n",
    "package main\n",
    "\n",
    "import \"fmt\"\n",
    "\n",
    "func divideAndRemainder(dividend, divisor int) (int, int, error) {\n",
    "\tif divisor == 0 {\n",
    "\t\treturn 0, 0, errors.New(\" divisor cannot be zero \") \n",
    "\t} \n",
    "\treturn dividend/divisor , dividend%divisor, nil\n",
    "}\n",
    "\n",
    "func main() {\n",
    "\tdividend, divisor := 20, 5\n",
    "\tif a, b, err := divideAndRemainder(dividend, divisor); err != nil {\n",
    "\t\tfmt.Println(\"err = \", err)\n",
    "\t}else{\n",
    "\t\tfmt.Println(\"result = \", a, b)\n",
    "\t}\n",
    "\n",
    "\t\n",
    "}"
   ]
  },
  {
   "cell_type": "markdown",
   "metadata": {},
   "source": [
    "## 題目 3: 可變參數函式\n",
    "\n",
    "**題目**: 寫一個函式 `findMax`，它可以接受任意數量的整數參數，並回傳其中的最大值。如果沒有提供參數，應該回傳錯誤。\n",
    "\n",
    "**要求**:\n",
    "- 使用可變參數 `...int`\n",
    "- 處理空參數的情況\n",
    "- 示範多種呼叫方式（直接傳參數、傳 slice）"
   ]
  },
  {
   "cell_type": "code",
   "execution_count": null,
   "metadata": {},
   "outputs": [
    {
     "name": "stdout",
     "output_type": "stream",
     "text": [
      "result1 =  20\n",
      "result2 =  20\n"
     ]
    }
   ],
   "source": [
    "// 請在此處寫下你的答案\n",
    "package main\n",
    "\n",
    "import \"fmt\"\n",
    "import \"errors\"\n",
    "\n",
    "func findMax(numbers ...int) (int, error) {\n",
    "\tif len(numbers) == 0 {\n",
    "\t\terrors.New(\"argument size cannot be zero\")\n",
    "\t}\n",
    "\tvar max = 0;\n",
    "\tfor i, num := range numbers {\n",
    "\t\tswitch {\n",
    "\t\tcase i == 0:\n",
    "\t\t\tmax = num\n",
    "\t\tcase i > max:\n",
    "\t\t\tmax = num\n",
    "\t\t}\n",
    "\t}\n",
    "\treturn max, nil\n",
    "}\n",
    "\n",
    "func main() {\n",
    "\tif result1, err := findMax([]int{1,10,20,5, 23,-1}...) ; err != nil {\n",
    "\t\tfmt.Println(\"err =\", err)\n",
    "\t}else{\n",
    "\t\tfmt.Println(\"result1 = \", result1)\n",
    "\t}\n",
    "\n",
    "\tif result1, err := findMax(1,10,20,5, 23,-1) ; err != nil {\n",
    "\t\tfmt.Println(\"err =\", err)\n",
    "\t}else{\n",
    "\t\tfmt.Println(\"result2 = \", result1)\n",
    "\t}\n",
    "}"
   ]
  },
  {
   "cell_type": "markdown",
   "metadata": {},
   "source": [
    "## 題目 4: 具名回傳值\n",
    "\n",
    "**題目**: 重寫一個函式 `parseFullName`，接受一個完整姓名字串（格式：\"firstName lastName\"），使用具名回傳值回傳 `firstName` 和 `lastName`。\n",
    "\n",
    "**要求**:\n",
    "- 使用具名回傳值\n",
    "- 處理輸入格式不正確的情況\n",
    "- 不要使用空回傳（naked return）"
   ]
  },
  {
   "cell_type": "code",
   "execution_count": 16,
   "metadata": {},
   "outputs": [
    {
     "name": "stdout",
     "output_type": "stream",
     "text": [
      "Hank Hsieh <nil>\n"
     ]
    }
   ],
   "source": [
    "// 請在此處寫下你的答案\n",
    "package main\n",
    "\n",
    "import (\n",
    "\t\"fmt\"\n",
    "\t\"strings\"\n",
    ")\n",
    "\n",
    "func parseFullName(fullName string)  (firstName string,  lastName string, err error) {\n",
    "\tif len(fullName) == 0 {\n",
    "\t\terr = errors.New(\"Error Here\")\n",
    "\t\treturn \"\", \"\", err\n",
    "\t}\n",
    "\tsplited := strings.Split(fullName, \" \")\n",
    "\tfirstName = splited[0]\n",
    "\tlastName = splited[1]\n",
    "\treturn firstName, lastName, nil\n",
    "}\n",
    "\n",
    "func main() {\n",
    "\tfmt.Println(parseFullName(\"Hank Hsieh\"))\n",
    "}"
   ]
  },
  {
   "cell_type": "markdown",
   "metadata": {},
   "source": [
    "## 題目 5: 函式作為值\n",
    "\n",
    "**題目**: 創建一個計算器程式，定義一個函式類型 `Operation`，然後實作加法、減法、乘法、除法四個函式。建立一個 map 來存儲這些操作，並示範如何使用。\n",
    "\n",
    "**要求**:\n",
    "- 定義函式類型 `Operation func(float64, float64) (float64, error)`\n",
    "- 實作四個基本運算函式\n",
    "- 使用 map 存儲操作函式\n",
    "- 示範動態呼叫函式"
   ]
  },
  {
   "cell_type": "code",
   "execution_count": 20,
   "metadata": {},
   "outputs": [
    {
     "name": "stdout",
     "output_type": "stream",
     "text": [
      "add result =  3\n",
      "minus result =  -1\n",
      "multiple result =  12\n",
      "devide result =  1.3333333333333333\n"
     ]
    }
   ],
   "source": [
    "// 請在此處寫下你的答案\n",
    "package main\n",
    "\n",
    "type Operation func(float64, float64) (float64, error)\n",
    "\n",
    "func add(a, b float64) (float64, error) {\n",
    "\treturn a + b, nil \n",
    "}\n",
    "\n",
    "func minus(a, b float64) (float64, error) {\n",
    "\treturn a - b, nil\n",
    "}\n",
    "\n",
    "func multiple(a, b float64) (float64, error) {\n",
    "\treturn a * b, nil\n",
    "}\n",
    "\n",
    "func devide(a, b float64) (float64, error) {\n",
    "\tif b == 0 {\n",
    "\t\terr := errors.New(\"Devidor cannot be 0\")\n",
    "\t\treturn -1, err\n",
    "\t}\n",
    "\treturn a / b, nil\n",
    "}\n",
    "\n",
    "func main() {\n",
    "\topMap := map[string]Operation {\n",
    "\t\t\"add\": add,\n",
    "\t\t\"minus\": minus,\n",
    "\t\t\"multiple\": multiple,\n",
    "\t\t\"devide\": devide,\n",
    "\t}\n",
    "\n",
    "\tr1,_ := opMap[\"add\"](1,2)\n",
    "\tr2,_ := opMap[\"minus\"](3,4)\n",
    "\tr3,_ := opMap[\"multiple\"](3,4)\n",
    "\tr4,_ := opMap[\"devide\"](4,3)\n",
    "\n",
    "\tfmt.Println(\"add result = \", r1)\n",
    "\tfmt.Println(\"minus result = \", r2)\n",
    "\tfmt.Println(\"multiple result = \", r3)\n",
    "\tfmt.Println(\"devide result = \", r4)\n",
    "\n",
    "}\n"
   ]
  },
  {
   "cell_type": "markdown",
   "metadata": {},
   "source": [
    "## 題目 6: 匿名函式和 Closure\n",
    "\n",
    "**題目**: 實作一個計數器工廠函式 `createCounter`，每次呼叫都回傳一個新的計數器函式。每個計數器函式被呼叫時都會回傳當前計數值並自動加1。\n",
    "\n",
    "**要求**:\n",
    "- 使用 closure 來保存計數器狀態\n",
    "- 每個計數器都有獨立的狀態\n",
    "- 示範建立多個計數器並分別使用"
   ]
  },
  {
   "cell_type": "code",
   "execution_count": 23,
   "metadata": {},
   "outputs": [
    {
     "name": "stdout",
     "output_type": "stream",
     "text": [
      "1\n",
      "2\n",
      "3\n",
      "1\n",
      "2\n"
     ]
    }
   ],
   "source": [
    "// 請在此處寫下你的答案\n",
    "func createCounter() func() int {\n",
    "\tcount := 0\n",
    "\treturn func() int {\n",
    "\t\tcount = count + 1\n",
    "\t\treturn count\n",
    "\t}\n",
    "}\n",
    "\n",
    "func main() {\n",
    "\tc1 := createCounter()\n",
    "\tc2 := createCounter()\n",
    "\n",
    "\tfmt.Println(c1())\n",
    "\tfmt.Println(c1())\n",
    "\tfmt.Println(c1())\n",
    "\n",
    "\tfmt.Println(c2())\n",
    "\tfmt.Println(c2())\n",
    "\n",
    "}"
   ]
  },
  {
   "cell_type": "markdown",
   "metadata": {},
   "source": [
    "## 題目 7: 高階函式\n",
    "\n",
    "**題目**: 實作一個 `filter` 函式，接受一個整數 slice 和一個判斷函式，回傳符合條件的元素組成的新 slice。同時實作 `map` 函式，對 slice 中的每個元素應用一個轉換函式。\n",
    "\n",
    "**要求**:\n",
    "- `filter` 函式簽名：`func filter(slice []int, predicate func(int) bool) []int`\n",
    "- `map` 函式簽名：`func mapInts(slice []int, transform func(int) int) []int`\n",
    "- 示範使用匿名函式作為參數\n",
    "- 組合使用這兩個函式"
   ]
  },
  {
   "cell_type": "code",
   "execution_count": null,
   "metadata": {},
   "outputs": [],
   "source": [
    "// 請在此處寫下你的答案\n",
    "package main\n",
    "\n",
    "import (\n",
    "\t\"fmt\"\n",
    ")\n",
    "\n",
    "// filter: 篩選出符合 predicate 的元素\n",
    "func filter(slice []int, predicate func(int) bool) []int {\n",
    "\tresult := []int{}\n",
    "\tfor _, v := range slice {\n",
    "\t\tif predicate(v) {\n",
    "\t\t\tresult = append(result, v)\n",
    "\t\t}\n",
    "\t}\n",
    "\treturn result\n",
    "}\n",
    "\n",
    "// mapInts: 對每個元素做 transform\n",
    "func mapInts(slice []int, transform func(int) int) []int {\n",
    "\tresult := make([]int, len(slice))\n",
    "\tfor i, v := range slice {\n",
    "\t\tresult[i] = transform(v)\n",
    "\t}\n",
    "\treturn result\n",
    "}\n",
    "\n",
    "func main() {\n",
    "\tnums := []int{1, 2, 3, 4, 5, 6, 7, 8, 9, 10}\n",
    "\n",
    "\t// 使用匿名函式篩選偶數\n",
    "\tevens := filter(nums, func(n int) bool {\n",
    "\t\treturn n%2 == 0\n",
    "\t})\n",
    "\tfmt.Println(\"偶數:\", evens)\n",
    "\n",
    "\t// 使用匿名函式做平方\n",
    "\tsquares := mapInts(nums, func(n int) int {\n",
    "\t\treturn n * n\n",
    "\t})\n",
    "\tfmt.Println(\"平方:\", squares)\n",
    "\n",
    "\t// 組合使用：先 filter 再 map\n",
    "\tevenSquares := mapInts(\n",
    "\t\tfilter(nums, func(n int) bool {\n",
    "\t\t\treturn n%2 == 0\n",
    "\t\t}),\n",
    "\t\tfunc(n int) int {\n",
    "\t\t\treturn n * n\n",
    "\t\t},\n",
    "\t)\n",
    "\tfmt.Println(\"偶數的平方:\", evenSquares)\n",
    "}"
   ]
  },
  {
   "cell_type": "markdown",
   "metadata": {},
   "source": [
    "## 題目 8: defer 的使用\n",
    "\n",
    "**題目**: 寫一個函式 `processFile`，模擬檔案處理操作。要求使用 defer 來確保資源正確清理，並展示 defer 的執行順序。\n",
    "\n",
    "**要求**:\n",
    "- 模擬開啟檔案、獲取鎖、開始處理等步驟\n",
    "- 使用多個 defer 語句\n",
    "- 展示 defer 的 LIFO (後進先出) 執行順序\n",
    "- 處理可能的 panic 情況"
   ]
  },
  {
   "cell_type": "code",
   "execution_count": 25,
   "metadata": {},
   "outputs": [
    {
     "name": "stdout",
     "output_type": "stream",
     "text": [
      "Open file: ./hello.md\n",
      "Get Lock of  ./hello.md\n",
      "Procesing file :  ./hello.md\n",
      "Release Lock of File: ./hello.md\n",
      "Close File: ./hello.md\n"
     ]
    }
   ],
   "source": [
    "// 請在此處寫下你的答案\n",
    "func processFile(fileName string) {\n",
    "\tfmt.Println(\"Open file:\", fileName)\n",
    "\tfmt.Println(\"Get Lock of \", fileName)\n",
    "\tfmt.Println(\"Procesing file : \", fileName)\n",
    "\tdefer func(){\n",
    "\t\tfmt.Println(\"Close File:\", fileName)\n",
    "\t}()\n",
    "\tdefer func(){\n",
    "\t\tfmt.Println(\"Release Lock of File:\", fileName)\n",
    "\t}()\n",
    "\n",
    "}\n",
    "\n",
    "func main() {\n",
    "\tmyFile := \"./hello.md\"\n",
    "\tprocessFile(myFile)\n",
    "\n",
    "}"
   ]
  },
  {
   "cell_type": "markdown",
   "metadata": {},
   "source": [
    "## 題目 9: 遞迴函式\n",
    "\n",
    "**題目**: 實作遞迴函式：\n",
    "1. `factorial` - 計算階乘\n",
    "\n",
    "同時實作這個函式的非遞迴版本，並比較它們的效能差異。\n",
    "\n",
    "**要求**:\n",
    "- 遞迴版本要有適當的終止條件\n",
    "- 非遞迴版本使用迭代\n",
    "- 包含錯誤處理（負數輸入）\n",
    "- 示範呼叫和效能比較"
   ]
  },
  {
   "cell_type": "code",
   "execution_count": 34,
   "metadata": {},
   "outputs": [
    {
     "name": "stdout",
     "output_type": "stream",
     "text": [
      "For版本耗時: 16.667µs\n",
      "遞迴版本耗時: 66.875µs\n"
     ]
    }
   ],
   "source": [
    "// 請在此處寫下你的答案\n",
    "package main\n",
    "\n",
    "import \"fmt\"\n",
    "import \"time\"\n",
    "\n",
    "\n",
    "func factorial_recursive(num int) (result int) {\n",
    "\tif num == 1 { return num }\n",
    "\treturn num * factorial_recursive(num -1)\n",
    "} \n",
    "\n",
    "func factorial_for(num int) int {\n",
    "\tresult := 1\n",
    "\tfor i := 1 ; i <= num ; i += 1 {\n",
    "\t\tresult = result * i\n",
    "\t}\n",
    "\treturn result\n",
    "}\n",
    "\n",
    "func main() {\n",
    "\tfactor := 1000\n",
    "\n",
    "\tstart := time.Now()\n",
    "\tfactorial_for(factor)\n",
    "\tfmt.Printf(\"For版本耗時: %v\\n\", time.Since(start))\n",
    "\n",
    "\tstart2 := time.Now()\n",
    "\tfactorial_recursive(factor)\n",
    "\tfmt.Printf(\"遞迴版本耗時: %v\\n\", time.Since(start2))\n",
    "}"
   ]
  },
  {
   "cell_type": "markdown",
   "metadata": {},
   "source": [
    "## 題目 10: 綜合應用題\n",
    "\n",
    "**題目**: 設計一個簡單的事件處理系統，包含以下組件：\n",
    "1. 事件處理器類型定義\n",
    "2. 事件管理器，可以註冊和觸發事件\n",
    "3. 支援多個處理器訂閱同一事件\n",
    "4. 使用 defer 確保處理過程的清理\n",
    "\n",
    "**要求**:\n",
    "- 定義適當的函式類型\n",
    "- 使用 map 管理事件訂閱\n",
    "- 支援動態添加和移除處理器\n",
    "- 示範完整的使用流程\n",
    "- 包含錯誤處理"
   ]
  },
  {
   "cell_type": "code",
   "execution_count": null,
   "metadata": {},
   "outputs": [],
   "source": [
    "// 請在此處寫下你的答案\n"
   ]
  },
  {
   "cell_type": "markdown",
   "metadata": {},
   "source": [
    "## 題目 11: 函式參數傳遞深入理解\n",
    "\n",
    "**題目**: 分析下面的程式碼輸出結果，並解釋為什麼。然後修改程式碼，使函式能夠正確修改原始的 slice 和 map。\n",
    "\n",
    "```go\n",
    "func modifySlice(s []int) {\n",
    "    s[0] = 100\n",
    "    s = append(s, 200)\n",
    "}\n",
    "\n",
    "func modifyMap(m map[string]int) {\n",
    "    m[\"key1\"] = 100\n",
    "    m = make(map[string]int)\n",
    "    m[\"key2\"] = 200\n",
    "}\n",
    "```\n",
    "\n",
    "**要求**:\n",
    "- 解釋程式碼的行為\n",
    "- 說明 Go 的值傳遞機制\n",
    "- 提供正確的修改版本\n",
    "- 示範測試程式碼"
   ]
  },
  {
   "cell_type": "code",
   "execution_count": null,
   "metadata": {},
   "outputs": [],
   "source": [
    "// 請在此處分析和寫下你的答案\n",
    "//這題題目不完整, 簡單來說, slice & map 都會 pass copy version of reference. 但都能直接改到 original slice & map"
   ]
  },
  {
   "cell_type": "markdown",
   "metadata": {},
   "source": [
    "## 題目 12: 效能優化問題\n",
    "\n",
    "**題目**: 你需要處理一個包含百萬個整數的 slice，對每個元素進行複雜計算。設計一個高效的解決方案，考慮以下要求：\n",
    "\n",
    "1. 使用 goroutine 進行並行處理\n",
    "2. 實作一個工作池模式\n",
    "3. 結果收集和錯誤處理\n",
    "4. 資源清理\n",
    "\n",
    "**要求**:\n",
    "- 定義工作項目和結果類型\n",
    "- 實作工作器函式\n",
    "- 使用 channel 進行通信\n",
    "- 使用 defer 和 context 進行清理\n",
    "- 示範完整的使用範例"
   ]
  },
  {
   "cell_type": "code",
   "execution_count": null,
   "metadata": {},
   "outputs": [],
   "source": [
    "// 請在此處寫下你的答案\n"
   ]
  }
 ],
 "metadata": {
  "kernelspec": {
   "display_name": "Go (gonb)",
   "language": "go",
   "name": "gonb"
  },
  "language_info": {
   "codemirror_mode": "",
   "file_extension": ".go",
   "mimetype": "text/x-go",
   "name": "go",
   "nbconvert_exporter": "",
   "pygments_lexer": "",
   "version": "go1.24.5"
  }
 },
 "nbformat": 4,
 "nbformat_minor": 4
}
