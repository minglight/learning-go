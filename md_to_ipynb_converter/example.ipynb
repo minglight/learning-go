{
  "cells": [
    {
      "cell_type": "markdown",
      "id": "cell-0",
      "metadata": {},
      "source": [
        "# 測試範例\n",
        "\n",
        "這是一個簡單的測試，驗證轉換器是否正常運作。\n",
        "\n",
        "**測試功能：**\n",
        "- Markdown 解析\n",
        "- Code cell 轉換\n",
        "- 多個 cells 處理\n"
      ]
    },
    {
      "cell_type": "code",
      "id": "cell-1",
      "metadata": {},
      "source": [
        "/* 簡單範例 - 變數宣告與輸出 */\n",
        "package main\n",
        "\n",
        "import \"fmt\"\n",
        "\n",
        "func main() {\n",
        "    message := \"轉換成功!\"\n",
        "    fmt.Println(message)\n",
        "}\n",
        "// 輸出: 轉換成功!"
      ]
    },
    {
      "cell_type": "markdown",
      "id": "cell-2",
      "metadata": {},
      "source": [
        "## 第二個 Section\n",
        "\n",
        "讓我們測試更多 Go 程式碼...\n"
      ]
    },
    {
      "cell_type": "code",
      "id": "cell-3",
      "metadata": {},
      "source": [
        "/* 測試函式定義 */\n",
        "package main\n",
        "\n",
        "import \"fmt\"\n",
        "\n",
        "func add(a, b int) int {\n",
        "    return a + b\n",
        "}\n",
        "\n",
        "func main() {\n",
        "    result := add(3, 5)\n",
        "    fmt.Printf(\"3 + 5 = %d\\n\", result)\n",
        "}\n",
        "// 輸出: 3 + 5 = 8"
      ]
    },
    {
      "cell_type": "markdown",
      "id": "cell-4",
      "metadata": {},
      "source": [
        "## 總結\n",
        "\n"
      ]
    }
  ],
  "metadata": {
    "kernelspec": {
      "display_name": "Go",
      "language": "go",
      "name": "gophernotes"
    },
    "language_info": {
      "file_extension": ".go",
      "mimetype": "text/x-go",
      "name": "go"
    }
  },
  "nbformat": 4,
  "nbformat_minor": 4
}