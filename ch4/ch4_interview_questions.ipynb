{
 "cells": [
  {
   "cell_type": "markdown",
   "metadata": {},
   "source": [
    "# 第四章：區塊、遮蔽與控制結構 - 面試考題\n",
    "\n",
    "本考卷涵蓋 Go 語言區塊、變數遮蔽、控制結構的重要概念，包括 if、for、switch、goto 等語法。\n",
    "請在每個程式碼區塊中寫下你的答案。\n",
    "\n",
    "**考試時間：90分鐘**  \n",
    "**總分：100分**\n",
    "\n",
    "---"
   ]
  },
  {
   "cell_type": "markdown",
   "metadata": {},
   "source": [
    "## 第一部分：區塊與變數遮蔽 (Blocks & Variable Shadowing) - 20分\n",
    "\n",
    "### 題目 1-1：變數遮蔽基礎 (5分)\n",
    "請分析以下程式碼的輸出結果，並解釋為什麼會有這樣的結果。"
   ]
  },
  {
   "cell_type": "code",
   "execution_count": null,
   "metadata": {},
   "outputs": [],
   "source": [
    "//go:build ignore\n",
    "package main\n",
    "\n",
    "import \"fmt\"\n",
    "\n",
    "func main() {\n",
    "    x := 10\n",
    "    fmt.Printf(\"外層 x: %d\\n\", x)\n",
    "    \n",
    "    {\n",
    "        x := 20\n",
    "        fmt.Printf(\"內層 x: %d\\n\", x)\n",
    "        {\n",
    "            x := 30\n",
    "            fmt.Printf(\"最內層 x: %d\\n\", x)\n",
    "        }\n",
    "        fmt.Printf(\"回到內層 x: %d\\n\", x)\n",
    "    }\n",
    "    fmt.Printf(\"回到外層 x: %d\\n\", x)\n",
    "    \n",
    "    // 請在註解中寫出預期的輸出結果和解釋\n",
    "    // 輸出結果：\n",
    "    // 外層 x: 10\n",
    "    // 內層 x: 20 \n",
    "    // 最內層 x: 30\n",
    "    // 回到內層 x: 20\n",
    "    // 回到外層 x: 10\n",
    "    // \n",
    "    // 解釋：\n",
    "    // variable will be shadowned in the inner block, and only be shadowed in the shadowed blcok.\n",
    "}"
   ]
  },
  {
   "cell_type": "markdown",
   "metadata": {},
   "source": [
    "### 題目 1-2：短變數宣告的陷阱 (8分)\n",
    "以下程式碼有什麼問題？請修正它並解釋問題所在。"
   ]
  },
  {
   "cell_type": "code",
   "execution_count": null,
   "metadata": {},
   "outputs": [],
   "source": [
    "//go:build ignore\n",
    "package main\n",
    "\n",
    "import (\n",
    "    \"fmt\"\n",
    "    \"strconv\"\n",
    ")\n",
    "\n",
    "func problematicFunction() {\n",
    "    var err error\n",
    "    var result int\n",
    "    \n",
    "    if true {\n",
    "        result, err := strconv.Atoi(\"123\")\n",
    "        if err != nil {\n",
    "            fmt.Println(\"轉換失敗:\", err)\n",
    "            return\n",
    "        }\n",
    "        fmt.Println(\"內層 result:\", result)\n",
    "    }\n",
    "    \n",
    "    fmt.Println(\"外層 result:\", result)\n",
    "    fmt.Println(\"外層 err:\", err)\n",
    "}\n",
    "\n",
    "\n",
    "\n",
    "func main() {\n",
    "    problematicFunction()\n",
    "    \n",
    "    // 問題分析：\n",
    "    // 1. if true => 多餘的, 這是fix literal.\n",
    "    // 2. 可以在if block 直接宣告並處理err, 不需要先assign之後在使用if處理\n",
    "    // 3. \n",
    "\n",
    "    \n",
    "    // 修正版本：\n",
    "    //\n",
    "    problematicFunctionFix()\n",
    "    \n",
    "}\n",
    "\n",
    "func problematicFunctionFix() {\n",
    "    var err error\n",
    "    var result int\n",
    "    \n",
    "    {\n",
    "        if result, err := strconv.Atoi(\"123\"); err != nil {\n",
    "            fmt.Println(\"轉換失敗:\", err)\n",
    "            return\n",
    "        }\n",
    "        fmt.Println(\"內層 result:\", result)\n",
    "    }\n",
    "    \n",
    "    fmt.Println(\"外層 result:\", result)\n",
    "    fmt.Println(\"外層 err:\", err)\n",
    "}"
   ]
  },
  {
   "cell_type": "markdown",
   "metadata": {},
   "source": [
    "### 題目 1-3：複雜遮蔽情況 (7分)\n",
    "實作一個函數 `complexShadowing`，演示在不同層級的區塊中如何正確管理同名變數。要求：\n",
    "1. 外層宣告變數 `count` 為 0\n",
    "2. 在第一個內層區塊中將 `count` 設為 5，並印出\n",
    "3. 在第二個內層區塊中宣告新的 `count` 為 10，並印出\n",
    "4. 最後印出外層的 `count`"
   ]
  },
  {
   "cell_type": "code",
   "execution_count": 1,
   "metadata": {},
   "outputs": [
    {
     "name": "stdout",
     "output_type": "stream",
     "text": [
      "inner 1 : 5\n",
      "inner 2 : 10\n",
      "outer : 5\n"
     ]
    }
   ],
   "source": [
    "//go:build ignore\n",
    "package main\n",
    "\n",
    "import \"fmt\"\n",
    "\n",
    "func complexShadowing() {\n",
    "    var count int = 0\n",
    "    {\n",
    "        count = 5\n",
    "        fmt.Println(\"inner 1 :\",count)\n",
    "        {\n",
    "            count := 10\n",
    "            fmt.Println(\"inner 2 :\",count)\n",
    "        }\n",
    "    }\n",
    "    fmt.Println(\"outer :\",count)\n",
    "    // 在這裡實作你的程式碼\n",
    "    \n",
    "}\n",
    "\n",
    "func main() {\n",
    "    complexShadowing()\n",
    "}"
   ]
  },
  {
   "cell_type": "markdown",
   "metadata": {},
   "source": [
    "## 第二部分：if 條件控制 - 15分\n",
    "\n",
    "### 題目 2-1：if 與短變數宣告 (5分)\n",
    "實作一個函數 `checkNumber`，接收一個字串參數，如果能轉換成數字且為正數則回傳該數字，否則回傳 -1。使用 if 的短變數宣告語法。"
   ]
  },
  {
   "cell_type": "code",
   "execution_count": 6,
   "metadata": {},
   "outputs": [
    {
     "name": "stdout",
     "output_type": "stream",
     "text": [
      "123 -> 123\n",
      "-45 -> -1\n",
      "abc -> -1\n",
      "0 -> -1\n"
     ]
    }
   ],
   "source": [
    "//go:build ignore\n",
    "package main\n",
    "\n",
    "import (\n",
    "    \"fmt\"\n",
    "    \"strconv\"\n",
    ")\n",
    "\n",
    "func checkNumber(s string) int {\n",
    "    // 在這裡實作你的程式碼\n",
    "    if i, err := strconv.Atoi(s); (err == nil && i > 0){\n",
    "        return i\n",
    "    }\n",
    "    return -1\n",
    "    \n",
    "}\n",
    "\n",
    "func main() {\n",
    "    test1 := \"123\"\n",
    "    test2 := \"-45\"\n",
    "    test3 := \"abc\"\n",
    "    test4 := \"0\"\n",
    "    \n",
    "    fmt.Printf(\"%s -> %d\\n\", test1, checkNumber(test1))\n",
    "    fmt.Printf(\"%s -> %d\\n\", test2, checkNumber(test2))\n",
    "    fmt.Printf(\"%s -> %d\\n\", test3, checkNumber(test3))\n",
    "    fmt.Printf(\"%s -> %d\\n\", test4, checkNumber(test4))\n",
    "}"
   ]
  },
  {
   "cell_type": "markdown",
   "metadata": {},
   "source": [
    "### 題目 2-2：巢狀 if 與錯誤處理 (10分)\n",
    "實作一個函數 `validateUser`，檢查用戶資料是否有效。要求：\n",
    "1. 用戶名不能為空\n",
    "2. 年齡必須在 18-120 之間\n",
    "3. 電子郵件必須包含 '@' 符號\n",
    "4. 使用巢狀 if 來檢查，每個錯誤都要有不同的錯誤訊息"
   ]
  },
  {
   "cell_type": "code",
   "execution_count": null,
   "metadata": {},
   "outputs": [
    {
     "name": "stdout",
     "output_type": "stream",
     "text": [
      "User Alice: true - \n",
      "User : false - Name cannot be null\n",
      "User Charlie: false - Age should between 18 - 120\n",
      "User David: false - Email should contains @\n",
      "User Eve: false - Age should between 18 - 120\n"
     ]
    }
   ],
   "source": [
    "//go:build ignore\n",
    "package main\n",
    "\n",
    "import (\n",
    "    \"fmt\"\n",
    "    \"strings\"\n",
    ")\n",
    "\n",
    "type User struct {\n",
    "    Name  string\n",
    "    Age   int\n",
    "    Email string\n",
    "}\n",
    "\n",
    "func validateUser(user User) (bool, string) {\n",
    "    // 在這裡實作你的程式碼\n",
    "    if len(user.Name) == 0 {\n",
    "        return false, \"Name cannot be empty\"\n",
    "    }else if user.Age < 18 || user.Age > 120 {\n",
    "        return false, \"Age should between 18 - 120\"\n",
    "    }else if !strings.Contains(user.Email, \"@\") {\n",
    "        return false, \"Email should contains @\"\n",
    "    }\n",
    "    return true, \"\"\n",
    "    \n",
    "}\n",
    "\n",
    "func main() {\n",
    "    users := []User{\n",
    "        {\"Alice\", 25, \"alice@example.com\"},\n",
    "        {\"\", 30, \"bob@example.com\"},\n",
    "        {\"Charlie\", 15, \"charlie@example.com\"},\n",
    "        {\"David\", 40, \"davidexample.com\"},\n",
    "        {\"Eve\", 130, \"eve@example.com\"},\n",
    "    }\n",
    "    \n",
    "    for _, user := range users {\n",
    "        valid, msg := validateUser(user)\n",
    "        fmt.Printf(\"User %s: %t - %s\\n\", user.Name, valid, msg)\n",
    "    }\n",
    "}"
   ]
  },
  {
   "cell_type": "markdown",
   "metadata": {},
   "source": [
    "## 第三部分：for 迴圈的四種形式 - 25分\n",
    "\n",
    "### 題目 3-1：完整的 for 陳述式 (5分)\n",
    "使用完整的 for 迴圈（初始化、條件、後置處理）計算 1 到 n 的階乘。"
   ]
  },
  {
   "cell_type": "code",
   "execution_count": 11,
   "metadata": {},
   "outputs": [
    {
     "name": "stdout",
     "output_type": "stream",
     "text": [
      "1! = 1\n",
      "2! = 2\n",
      "3! = 6\n",
      "4! = 24\n",
      "5! = 120\n"
     ]
    }
   ],
   "source": [
    "//go:build ignore\n",
    "package main\n",
    "\n",
    "import \"fmt\"\n",
    "\n",
    "func factorial(n int) int {\n",
    "    // 在這裡使用完整的 for 迴圈實作階乘\n",
    "    var result int = 1\n",
    "    for i :=1 ; i <= n ; i = i+1 {\n",
    "        result = result * i\n",
    "    } \n",
    "    return result\n",
    "    \n",
    "}\n",
    "\n",
    "func main() {\n",
    "    for i := 1; i <= 5; i++ {\n",
    "        fmt.Printf(\"%d! = %d\\n\", i, factorial(i))\n",
    "    }\n",
    "}"
   ]
  },
  {
   "cell_type": "markdown",
   "metadata": {},
   "source": [
    "### 題目 3-2：只有條件式的 for 陳述式 (5分)\n",
    "實作一個函數 `findFirstPowerOfTwo`，找到第一個大於等於給定數字的 2 的次方。使用只有條件式的 for 迴圈。"
   ]
  },
  {
   "cell_type": "code",
   "execution_count": null,
   "metadata": {},
   "outputs": [],
   "source": [
    "//go:build ignore\n",
    "package main\n",
    "\n",
    "import \"fmt\"\n",
    "\n",
    "func findFirstPowerOfTwo(target int) int {\n",
    "    // 在這裡使用只有條件式的 for 迴圈\n",
    "    var pow = 0;\n",
    "    var result = 0;\n",
    "    for result > target {\n",
    "        \n",
    "    }\n",
    "    \n",
    "}\n",
    "\n",
    "func main() {\n",
    "    tests := []int{1, 5, 10, 17, 100}\n",
    "    for _, test := range tests {\n",
    "        result := findFirstPowerOfTwo(test)\n",
    "        fmt.Printf(\"第一個 >= %d 的 2 的次方: %d\\n\", test, result)\n",
    "    }\n",
    "}"
   ]
  },
  {
   "cell_type": "markdown",
   "metadata": {},
   "source": [
    "### 題目 3-3：無窮 for 迴圈與 break (5分)\n",
    "實作一個簡單的猜數字遊戲，使用無窮 for 迴圈，當猜對時使用 break 跳出。"
   ]
  },
  {
   "cell_type": "code",
   "execution_count": null,
   "metadata": {},
   "outputs": [],
   "source": [
    "//go:build ignore\n",
    "package main\n",
    "\n",
    "import \"fmt\"\n",
    "\n",
    "func guessingGame(target int, guesses []int) {\n",
    "    // 在這裡實作猜數字遊戲\n",
    "    // 使用無窮 for 迴圈和 break\n",
    "    // guesses 是預設的猜測序列（模擬用戶輸入）\n",
    "    \n",
    "}\n",
    "\n",
    "func main() {\n",
    "    target := 42\n",
    "    guesses := []int{10, 50, 30, 45, 42}\n",
    "    guessingGame(target, guesses)\n",
    "}"
   ]
  },
  {
   "cell_type": "markdown",
   "metadata": {},
   "source": [
    "### 題目 3-4：for-range 陳述式 (10分)\n",
    "實作以下三個函數，分別處理不同的 for-range 使用情況：\n",
    "1. `processSlice`: 處理切片，印出索引和值\n",
    "2. `processMap`: 處理映射，印出鍵值對\n",
    "3. `processString`: 處理字串，印出每個字元的位置和 Unicode 值"
   ]
  },
  {
   "cell_type": "code",
   "execution_count": null,
   "metadata": {},
   "outputs": [
    {
     "name": "stdout",
     "output_type": "stream",
     "text": [
      "處理切片:\n",
      "idx=%!i(int=0), value=appleidx=%!i(int=1), value=bananaidx=%!i(int=2), value=cherry\n",
      "處理映射:\n",
      "key=go, value=%!(NOVERB)%!(EXTRA int=2009)key=python, value=%!(NOVERB)%!(EXTRA int=1991)key=java, value=%!(NOVERB)%!(EXTRA int=1995)\n",
      "處理字串:\n",
      "idx=%!i(int=0), unicode value=%!i(int32=72) /nidx=%!i(int=1), unicode value=%!i(int32=101) /nidx=%!i(int=2), unicode value=%!i(int32=108) /nidx=%!i(int=3), unicode value=%!i(int32=108) /nidx=%!i(int=4), unicode value=%!i(int32=111) /nidx=%!i(int=5), unicode value=%!i(int32=44) /nidx=%!i(int=6), unicode value=%!i(int32=32) /nidx=%!i(int=7), unicode value=%!i(int32=19990) /nidx=%!i(int=8), unicode value=%!i(int32=30028) /n"
     ]
    }
   ],
   "source": [
    "//go:build ignore\n",
    "package main\n",
    "\n",
    "import \"fmt\"\n",
    "\n",
    "func processSlice(data []string) {\n",
    "    // 在這裡實作\n",
    "    for i, s := range data {\n",
    "        fmt.Printf(\"idx=%i, value=%s\", i, s)\n",
    "    }\n",
    "    \n",
    "}\n",
    "\n",
    "func processMap(data map[string]int) {\n",
    "    // 在這裡實作\n",
    "    for k, v := range data {\n",
    "        fmt.Printf(\"key=%s, value=%\", k, v)\n",
    "    }\n",
    "    \n",
    "}\n",
    "\n",
    "func processString(data string) {\n",
    "    // 在這裡實作\n",
    "    var runes = []rune(data)\n",
    "    for i, r := range runes{\n",
    "        fmt.Printf(\"idx=%i, unicode value=%i\", i, r)\n",
    "    }\n",
    "    \n",
    "}\n",
    "\n",
    "func main() {\n",
    "    // 測試切片\n",
    "    slice := []string{\"apple\", \"banana\", \"cherry\"}\n",
    "    fmt.Println(\"處理切片:\")\n",
    "    processSlice(slice)\n",
    "    \n",
    "    // 測試映射\n",
    "    mapping := map[string]int{\"go\": 2009, \"python\": 1991, \"java\": 1995}\n",
    "    fmt.Println(\"\\n處理映射:\")\n",
    "    processMap(mapping)\n",
    "    \n",
    "    // 測試字串\n",
    "    text := \"Hello, 世界\"\n",
    "    fmt.Println(\"\\n處理字串:\")\n",
    "    processString(text)\n",
    "}"
   ]
  },
  {
   "cell_type": "markdown",
   "metadata": {},
   "source": [
    "## 第四部分：break、continue 與標記 - 15分\n",
    "\n",
    "### 題目 4-1：break 與 continue 基礎 (5分)\n",
    "實作一個函數 `processNumbers`，處理 1 到 20 的數字：\n",
    "- 跳過所有奇數（使用 continue）\n",
    "- 當遇到第一個能被 6 整除的數字時停止（使用 break）\n",
    "- 印出所有處理的偶數"
   ]
  },
  {
   "cell_type": "code",
   "execution_count": 16,
   "metadata": {},
   "outputs": [
    {
     "name": "stdout",
     "output_type": "stream",
     "text": [
      "2\n",
      "4\n",
      "6\n"
     ]
    }
   ],
   "source": [
    "//go:build ignore\n",
    "package main\n",
    "\n",
    "import \"fmt\"\n",
    "\n",
    "func processNumbers() {\n",
    "    // 在這裡實作你的程式碼\n",
    "    for i :=1 ; i <= 20 ; i = i+1 {\n",
    "        if i % 2 == 1 {\n",
    "            continue\n",
    "        }\n",
    "        fmt.Println(i)\n",
    "        if i % 6 == 0 {\n",
    "            break\n",
    "        } \n",
    "    }\n",
    "    \n",
    "}\n",
    "\n",
    "func main() {\n",
    "    processNumbers()\n",
    "}"
   ]
  },
  {
   "cell_type": "markdown",
   "metadata": {},
   "source": [
    "### 題目 4-2：巢狀迴圈與標記 (10分)\n",
    "實作一個函數 `findPairSum`，在二維陣列中找到第一對和等於目標值的數字對。使用標記來正確跳出巢狀迴圈。"
   ]
  },
  {
   "cell_type": "code",
   "execution_count": null,
   "metadata": {},
   "outputs": [],
   "source": [
    "//go:build ignore\n",
    "package main\n",
    "\n",
    "import \"fmt\"\n",
    "\n",
    "func findPairSum(matrix [][]int, target int) (int, int, bool) {\n",
    "    var a, b int\n",
    "    found := false\n",
    "\n",
    "    Outer: // 定義一個標記\n",
    "    for i := 0; i < len(matrix); i++ {\n",
    "        for j := 0; j < len(matrix[i]); j++ {\n",
    "            a = matrix[i][j]\n",
    "            for m := 0; m < len(matrix); m++ {\n",
    "                for n := 0; n < len(matrix[m]); n++ {\n",
    "                    b = matrix[m][n]\n",
    "                    if a+b == target {\n",
    "                        found = true\n",
    "                        break Outer // 一次跳出四層迴圈\n",
    "                    }\n",
    "                }\n",
    "            }\n",
    "        }\n",
    "    }\n",
    "\n",
    "    return a, b, found\n",
    "}\n",
    "\n",
    "func main() {\n",
    "    matrix := [][]int{\n",
    "        {1, 2, 3},\n",
    "        {4, 5, 6},\n",
    "        {7, 8, 9},\n",
    "    }\n",
    "    \n",
    "    targets := []int{5, 10, 15, 20}\n",
    "    for _, target := range targets {\n",
    "        a, b, found := findPairSum(matrix, target)\n",
    "        if found {\n",
    "            fmt.Printf(\"目標 %d: 找到 %d + %d = %d\\n\", target, a, b, target)\n",
    "        } else {\n",
    "            fmt.Printf(\"目標 %d: 未找到\\n\", target)\n",
    "        }\n",
    "    }\n",
    "}"
   ]
  },
  {
   "cell_type": "markdown",
   "metadata": {},
   "source": [
    "## 第五部分：switch 陳述式 - 15分\n",
    "\n",
    "### 題目 5-1：基本 switch 與多條件 (7分)\n",
    "實作一個函數 `gradeToDescription`，根據成績等級回傳描述：\n",
    "- A: \"優秀\"\n",
    "- B: \"良好\" \n",
    "- C: \"及格\"\n",
    "- D, F: \"不及格\"\n",
    "- 其他: \"無效等級\""
   ]
  },
  {
   "cell_type": "code",
   "execution_count": null,
   "metadata": {},
   "outputs": [
    {
     "name": "stdout",
     "output_type": "stream",
     "text": [
      "等級 A: 優秀\n",
      "等級 B: 良好\n",
      "等級 C: 及格\n",
      "等級 D: 不及格\n",
      "等級 F: 不及格\n",
      "等級 X: 無效等級\n"
     ]
    }
   ],
   "source": [
    "//go:build ignore\n",
    "package main\n",
    "\n",
    "import \"fmt\"\n",
    "\n",
    "func gradeToDescription(grade string) string {\n",
    "    // 在這裡實作你的程式碼\n",
    "    switch grade {\n",
    "    case \"A\":\n",
    "        return \"優秀\"\n",
    "    case \"B\":\n",
    "        return \"良好\"\n",
    "    case \"C\":\n",
    "        return \"及格\"\n",
    "    case \"D\",\"F\":\n",
    "        return \"不及格\"\n",
    "    default:\n",
    "        return \"無效等級\"\n",
    "    }\n",
    "    \n",
    "}\n",
    "\n",
    "func main() {\n",
    "    grades := []string{\"A\", \"B\", \"C\", \"D\", \"F\", \"X\"}\n",
    "    for _, grade := range grades {\n",
    "        fmt.Printf(\"等級 %s: %s\\n\", grade, gradeToDescription(grade))\n",
    "    }\n",
    "}"
   ]
  },
  {
   "cell_type": "markdown",
   "metadata": {},
   "source": [
    "### 題目 5-2：空 switch 與複雜條件 (8分)\n",
    "實作一個函數 `categorizeNumber`，使用空 switch 根據數字特性分類：\n",
    "- 負數: \"負數\"\n",
    "- 0: \"零\" \n",
    "- 1-10: \"小正數\"\n",
    "- 11-100: \"中正數\"\n",
    "- 大於 100: \"大正數\"\n",
    "- 偶數且能被 4 整除: \"特殊偶數\"（優先級最高）"
   ]
  },
  {
   "cell_type": "code",
   "execution_count": 19,
   "metadata": {},
   "outputs": [
    {
     "name": "stdout",
     "output_type": "stream",
     "text": [
      "-5: 負數\n",
      "0: 特殊偶數\n",
      "3: 小正數\n",
      "15: 中正數\n",
      "50: 中正數\n",
      "150: 大正數\n",
      "8: 特殊偶數\n",
      "12: 特殊偶數\n",
      "20: 特殊偶數\n"
     ]
    }
   ],
   "source": [
    "//go:build ignore\n",
    "package main\n",
    "\n",
    "import \"fmt\"\n",
    "\n",
    "func categorizeNumber(n int) string {\n",
    "    // 在這裡實作你的程式碼，使用空 switch\n",
    "    switch {\n",
    "    case n % 4 == 0:\n",
    "        return \"特殊偶數\"\n",
    "    case n < 0:\n",
    "        return \"負數\"\n",
    "    case n == 0:\n",
    "        return \"零\"\n",
    "    case n>=1 && n <=10:\n",
    "        return \"小正數\"\n",
    "    case n >=11 && n <=100:\n",
    "        return \"中正數\"\n",
    "    case n > 100:\n",
    "        return \"大正數\"\n",
    "    default: return \"不存在\"\n",
    "    }\n",
    "    \n",
    "    \n",
    "}\n",
    "\n",
    "func main() {\n",
    "    numbers := []int{-5, 0, 3, 15, 50, 150, 8, 12, 20}\n",
    "    for _, num := range numbers {\n",
    "        fmt.Printf(\"%d: %s\\n\", num, categorizeNumber(num))\n",
    "    }\n",
    "}"
   ]
  },
  {
   "cell_type": "markdown",
   "metadata": {},
   "source": [
    "## 第六部分：goto 與綜合應用 - 10分\n",
    "\n",
    "### 題目 6-1：適當使用 goto (5分)\n",
    "在以下情況中，使用 goto 實作錯誤處理模式。當發生錯誤時跳到清理代碼。"
   ]
  },
  {
   "cell_type": "code",
   "execution_count": null,
   "metadata": {},
   "outputs": [],
   "source": [
    "//go:build ignore\n",
    "package main\n",
    "\n",
    "import (\n",
    "    \"errors\"\n",
    "    \"fmt\"\n",
    ")\n",
    "\n",
    "func processWithGoto(data []int) error {\n",
    "    // 模擬資源初始化\n",
    "    fmt.Println(\"初始化資源...\")\n",
    "    \n",
    "    // 在這裡實作你的程式碼\n",
    "    // 檢查 data 是否為空，如果是則跳到清理\n",
    "    // 檢查 data 長度是否大於 10，如果是則跳到清理\n",
    "    // 正常處理 data\n",
    "    \n",
    "    fmt.Println(\"處理完成\")\n",
    "    return nil\n",
    "    \n",
    "    // 清理標籤和代碼\n",
    "    \n",
    "}\n",
    "\n",
    "func main() {\n",
    "    testCases := [][]int{\n",
    "        nil,\n",
    "        {1, 2, 3},\n",
    "        {1, 2, 3, 4, 5, 6, 7, 8, 9, 10, 11},\n",
    "    }\n",
    "    \n",
    "    for i, data := range testCases {\n",
    "        fmt.Printf(\"\\n測試案例 %d:\\n\", i+1)\n",
    "        err := processWithGoto(data)\n",
    "        if err != nil {\n",
    "            fmt.Printf(\"錯誤: %v\\n\", err)\n",
    "        }\n",
    "    }\n",
    "}"
   ]
  },
  {
   "cell_type": "markdown",
   "metadata": {},
   "source": [
    "### 題目 6-2：綜合控制結構 (5分)\n",
    "實作一個函數 `findPattern`，在字串陣列中尋找特定模式。要求：\n",
    "1. 使用巢狀迴圈遍歷每個字串的每個字元\n",
    "2. 使用 switch 判斷字元類型\n",
    "3. 使用標記和 break 在找到模式時跳出\n",
    "4. 使用 continue 跳過不符合條件的情況"
   ]
  },
  {
   "cell_type": "code",
   "execution_count": 22,
   "metadata": {},
   "outputs": [
    {
     "name": "stdout",
     "output_type": "stream",
     "text": [
      "找到符合模式的字串: \"Hello123\" (索引: 3)\n"
     ]
    }
   ],
   "source": [
    "//go:build ignore\n",
    "package main\n",
    "\n",
    "import (\n",
    "    \"fmt\"\n",
    "    \"unicode\"\n",
    ")\n",
    "\n",
    "// 尋找第一個同時包含數字、大寫字母和小寫字母的字串\n",
    "func findPattern(strs []string) (string, int) {\n",
    "    // 在這裡實作你的程式碼\n",
    "    for i, s := range strs {\n",
    "        hasDigit := false\n",
    "        hasUpper := false\n",
    "        hasLower := false\n",
    "\n",
    "        var runes = []rune(s)\n",
    "\n",
    "        for _, r := range runes {\n",
    "            switch {\n",
    "            case unicode.IsDigit(r):\n",
    "                hasDigit = true\n",
    "            case unicode.IsUpper(r):\n",
    "                hasUpper = true\n",
    "            case unicode.IsLower(r):\n",
    "                hasLower = true\n",
    "            } \n",
    "            if hasDigit && hasUpper && hasLower {\n",
    "                return s, i\n",
    "            }\n",
    "\n",
    "\n",
    "        }\n",
    "    } \n",
    "    return \"cannot found\", -1\n",
    "    \n",
    "    \n",
    "}\n",
    "\n",
    "func main() {\n",
    "    testStrings := []string{\n",
    "        \"hello\",\n",
    "        \"WORLD\", \n",
    "        \"123456\",\n",
    "        \"Hello123\",\n",
    "        \"Test1\",\n",
    "        \"GoLang2023\",\n",
    "    }\n",
    "    \n",
    "    result, index := findPattern(testStrings)\n",
    "    if index >= 0 {\n",
    "        fmt.Printf(\"找到符合模式的字串: \\\"%s\\\" (索引: %d)\\n\", result, index)\n",
    "    } else {\n",
    "        fmt.Println(\"未找到符合模式的字串\")\n",
    "    }\n",
    "}"
   ]
  }
 ],
 "metadata": {
  "kernelspec": {
   "display_name": "Go (gonb)",
   "language": "go",
   "name": "gonb"
  },
  "language_info": {
   "codemirror_mode": "",
   "file_extension": ".go",
   "mimetype": "text/x-go",
   "name": "go",
   "nbconvert_exporter": "",
   "pygments_lexer": "",
   "version": "go1.24.5"
  }
 },
 "nbformat": 4,
 "nbformat_minor": 4
}
