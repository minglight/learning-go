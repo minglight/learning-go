{
 "cells": [
  {
   "cell_type": "markdown",
   "id": "title",
   "metadata": {},
   "source": [
    "# 第一章面試考題：Go 環境設定\n",
    "\n",
    "這些是基於第一章內容的面試常見問題。請在每個程式碼區塊中寫下你的答案。"
   ]
  },
  {
   "cell_type": "markdown",
   "id": "q1",
   "metadata": {},
   "source": [
    "## 題目 1：Go 環境變數\n",
    "\n",
    "**問題：** 請解釋 GOROOT、GOPATH 和 GOMODCACHE 這三個環境變數的作用和差異。在現代 Go 開發中，哪些是必需的？\n",
    "\n",
    "**考察重點：** Go 環境設定基礎知識"
   ]
  },
  {
   "cell_type": "code",
   "execution_count": null,
   "id": "a1",
   "metadata": {},
   "outputs": [],
   "source": [
    "// 請在這裡寫下你的答案\n",
    "// GOROOT: GO這個command安裝的地方\n",
    "// GOPATH: 以前使用go install的時候會放的地方\n",
    "// GOMODCACHE: 現在使用 go mod 會下載的地方\n",
    "// 現代 Go 開發必需的環境變數：GOROOT & GOMODCACHE"
   ]
  },
  {
   "cell_type": "markdown",
   "id": "q2",
   "metadata": {},
   "source": [
    "## 題目 2：GOPATH vs Go Modules\n",
    "\n",
    "**問題：** 比較傳統的 GOPATH 模式和現代的 Go Modules 模式。為什麼 Go 要從 GOPATH 轉向 Go Modules？請列出至少 4 個主要差異。\n",
    "\n",
    "**考察重點：** 依賴管理演進歷史和原理"
   ]
  },
  {
   "cell_type": "code",
   "execution_count": null,
   "id": "a2",
   "metadata": {},
   "outputs": [],
   "source": [
    "// 請在這裡寫下你的答案\n",
    "// GOPATH 模式的問題：\n",
    "// 1. 同一個library不能使用兩個版本\n",
    "// 2. 不能在專案內部設定使用哪一個版本\n",
    "// 3.相關的dependency都要指定, 沒辦法自動偵測\n",
    "\n",
    "// Go Modules 的優勢： \n",
    "// 1. 可以在project內部使用 go.mod 設定 \n",
    "// 2. 同一個library可以使用兩個版本\n",
    "// 3. 可以直接使用command更新\n",
    "// 4. 相關的dependency也會一起處理\n",
    "\n",
    "// 主要差異對比：\n",
    "// 專案位置：同上1\n",
    "// 依賴存放：同上2\n",
    "// 版本管理：同上3\n",
    "// 多版本支援：同上4"
   ]
  },
  {
   "cell_type": "markdown",
   "id": "q3",
   "metadata": {},
   "source": [
    "## 題目 3：go get 命令詳解\n",
    "\n",
    "**問題：** 當你執行 `go get github.com/gin-gonic/gin@v1.9.1` 時，Go 會執行哪些步驟？這個命令會修改哪些檔案？\n",
    "\n",
    "**考察重點：** Go Modules 依賴管理機制"
   ]
  },
  {
   "cell_type": "code",
   "execution_count": null,
   "id": "a3",
   "metadata": {},
   "outputs": [],
   "source": [
    "// 請在這裡寫下你的答案\n",
    "// go get 執行的步驟：\n",
    "// 1. 下載library到 $GOMODCACHE\n",
    "// 2. 更新檔案到 go.mod\n",
    "// 3. 更新 go.sum\n",
    "// 4.\n",
    "\n",
    "// 會修改的檔案：\n",
    "// 1. go.mod\n",
    "// 2. go.sum\n",
    "\n",
    "// 依賴會下載到哪裡：\n",
    "// $GOMODCACHE, default是 ~/go/pkg/mod/\n",
    "\n"
   ]
  },
  {
   "cell_type": "markdown",
   "id": "q4",
   "metadata": {},
   "source": [
    "## 題目 4：go.mod 檔案結構\n",
    "\n",
    "**問題：** 請解釋以下 go.mod 檔案中每個區塊的作用，並說明 `// indirect` 註解的含義。\n",
    "\n",
    "```go\n",
    "module example.com/myproject\n",
    "\n",
    "go 1.21\n",
    "\n",
    "require (\n",
    "    github.com/gin-gonic/gin v1.9.1\n",
    "    github.com/stretchr/testify v1.8.4\n",
    ")\n",
    "\n",
    "require (\n",
    "    github.com/bytedance/sonic v1.9.1 // indirect\n",
    "    github.com/chenzhuoyu/base64x v0.0.0-20221115062448-fe3a3abad311 // indirect\n",
    ")\n",
    "\n",
    "replace github.com/old/package => github.com/new/package v1.0.0\n",
    "\n",
    "exclude github.com/problematic/package v1.2.3\n",
    "```\n",
    "\n",
    "**考察重點：** go.mod 檔案語法和依賴關係"
   ]
  },
  {
   "cell_type": "code",
   "execution_count": null,
   "id": "a4",
   "metadata": {},
   "outputs": [],
   "source": [
    "// 不太確定, 是 go get之後自動找到要下載的dependency\n",
    "// module 行的作用：定義module name\n",
    "\n",
    "// go 1.21 的作用：定義要使用的 go的版本\n",
    "\n",
    "// require 區塊的作用：要下載的library & 她的版本\n",
    "\n",
    "// // indirect 註解的含義：go get之後自動找到要下載的dependency\n",
    "\n",
    "// replace 指令的作用：不清楚\n",
    "\n",
    "// exclude 指令的作用：某一個版本沒有用到, 可以exclude掉, 但為什麼我不知道"
   ]
  },
  {
   "cell_type": "markdown",
   "id": "q5",
   "metadata": {},
   "source": [
    "## 題目 5：Go 命令對比\n",
    "\n",
    "**問題：** 解釋以下 Go 命令的差異和使用場景：\n",
    "- `go run` vs `go build`\n",
    "- `go get` vs `go mod download`\n",
    "- `go mod tidy` vs `go mod verify`\n",
    "\n",
    "**考察重點：** Go 工具鏈的理解"
   ]
  },
  {
   "cell_type": "code",
   "execution_count": null,
   "id": "a5",
   "metadata": {},
   "outputs": [],
   "source": [
    "// 請在這裡寫下你的答案\n",
    "// go run vs go build:\n",
    "// go run: 執行檔案, 但不產生binary\n",
    "// go build:產生binary之後再執行\n",
    "// 使用場景：go run for test, go build for real build to reuse\n",
    "\n",
    "// go get vs go mod download:\n",
    "// go get: 會下載lib, 也會更新 go.mod & go.sum\n",
    "// go mod download: 只會下載到  GOMODCACHE\n",
    "// 使用場景：需要更新go.mod & go.sum就使用go get\n",
    "\n",
    "// go mod tidy vs go mod verify:\n",
    "// go mod tidy: 更新go.mod, 把需要新增的lib放進來, 把沒有用到的lib拿掉\n",
    "// go mod verify: 驗證dependecy沒有問題\n",
    "// 使用場景：單純驗證使用verify, 如果要修正go.mod就使用 tidy"
   ]
  },
  {
   "cell_type": "markdown",
   "id": "q6",
   "metadata": {},
   "source": [
    "## 題目 6：實際操作題\n",
    "\n",
    "**問題：** 假設你要建立一個新的 Go 專案，需要使用 Gin 框架和 Testify 測試庫。請寫出完整的命令序列，從建立專案目錄到添加依賴。\n",
    "\n",
    "**考察重點：** 實際操作能力和命令順序"
   ]
  },
  {
   "cell_type": "code",
   "execution_count": null,
   "id": "a6",
   "metadata": {},
   "outputs": [],
   "source": [
    "// 請在這裡寫下你的答案（命令序列）\n",
    "// 1.  mkdir test_go & cd test_go\n",
    "// 2.  go mod init test/test_go\n",
    "// 3.  go add github.com/gin-gonic/gin\n",
    "// 4.  go add github.com/stretchr/testify\n",
    "// 5.  go mod tidy\n",
    "\n",
    "// 執行完成後會產生哪些檔案：go.mod & go.sum \n",
    "\t"
   ]
  },
  {
   "cell_type": "markdown",
   "id": "q7",
   "metadata": {},
   "source": [
    "## 題目 7：版本管理\n",
    "\n",
    "**問題：** 在 Go Modules 中，如何指定依賴的特定版本？請解釋以下版本指定方式的差異：\n",
    "- `@v1.9.1`\n",
    "- `@latest`\n",
    "- `@master`\n",
    "- `@abc1234`\n",
    "- `@none`\n",
    "\n",
    "**考察重點：** 語義化版本控制和版本指定"
   ]
  },
  {
   "cell_type": "code",
   "execution_count": null,
   "id": "a7",
   "metadata": {},
   "outputs": [],
   "source": [
    "// 請在這裡寫下你的答案\n",
    "// @v1.9.1 的含義： release version v1.9.1\n",
    "\n",
    "// @latest 的含義： 最新的release version\n",
    "\n",
    "// @master 的含義： 最新的master branch\n",
    "\n",
    "// @abc1234 的含義： commit abc1234\n",
    "\n",
    "// @none 的含義：刪掉這個dependency\n",
    "\n",
    "// 實際使用範例：刪掉的話使用 @none, 其他就是看需要應變"
   ]
  },
  {
   "cell_type": "markdown",
   "id": "q8",
   "metadata": {},
   "source": [
    "## 題目 8：故障排除\n",
    "\n",
    "**問題：** 如果你遇到以下情況，應該如何解決？\n",
    "1. 專案中有未使用的依賴\n",
    "2. go.sum 檔案校驗失敗\n",
    "3. 想要回到某個依賴的舊版本\n",
    "4. 需要使用本地修改的依賴套件\n",
    "\n",
    "**考察重點：** 問題解決能力和進階用法"
   ]
  },
  {
   "cell_type": "code",
   "execution_count": null,
   "id": "a8",
   "metadata": {},
   "outputs": [],
   "source": [
    "// 請在這裡寫下你的答案\n",
    "// 1. 清理未使用的依賴：\n",
    "go mod tidy\n",
    "// 2. 解決 go.sum 校驗失敗：\n",
    "go mod tidy\n",
    "// 3. 回到依賴的舊版本：\n",
    "不會\n",
    "// 4. 使用本地修改的依賴：\n",
    "不會"
   ]
  },
  {
   "cell_type": "markdown",
   "id": "q9",
   "metadata": {},
   "source": [
    "## 題目 9：程式碼實作\n",
    "\n",
    "**問題：** 寫一個 Go 程式，檢查當前環境的 Go 設定，包括：\n",
    "- Go 版本\n",
    "- GOROOT 路徑\n",
    "- GOMODCACHE 路徑\n",
    "- 是否在 Go Module 專案中\n",
    "- 如果在 Module 專案中，顯示模組名稱\n",
    "\n",
    "**考察重點：** 程式設計能力和環境檢查"
   ]
  },
  {
   "cell_type": "code",
   "execution_count": 1,
   "id": "a9",
   "metadata": {},
   "outputs": [
    {
     "data": {
      "text/html": [
       "\n",
       "<style>\n",
       ".gonb-err-location {\n",
       "\tbackground: var(--jp-err-color2);  \n",
       "\tborder-radius: 3px;\n",
       "\tborder-style: dotted;\n",
       "\tborder-width: 1px;\n",
       "\tborder-color: var(--jp-border-color2);\n",
       "}\n",
       ".gonb-err-location:hover {\n",
       "\tborder-width: 2px;\n",
       "\tborder-style: solid;\n",
       "\tborder-color: var(--jp-border-color2);\n",
       "}\n",
       ".gonb-err-context {\n",
       "\tdisplay: none;\n",
       "}\n",
       ".gonb-err-location:hover + .gonb-err-context {\n",
       "\tbackground: var(--jp-dialog-background);  \n",
       "\tborder-radius: 3px;\n",
       "\tborder-style: solid;\n",
       "\tborder-width: 1px;\n",
       "\tborder-color: var(--jp-border-color2);\n",
       "\tdisplay: block;\n",
       "\twhite-space: pre;\n",
       "\tfont-family: monospace;\n",
       "}\n",
       ".gonb-err-line {\n",
       "\tborder-radius: 3px;\n",
       "\tborder-style: dotted;\n",
       "\tborder-width: 1px;\t\n",
       "\tborder-color: var(--jp-border-color2);\n",
       "\tbackground-color: var(--jp-rendermime-err-background);\n",
       "\tfont-weight: bold;\n",
       "}\n",
       ".gonb-cell-line-info {\n",
       "\tbackground: var(--jp-layout-color2);\n",
       "\tcolor: #999;\n",
       "\tmargin: 0.1em;\n",
       "\tborder: 1px solid var(--jp-border-color1);\n",
       "\tpadding-left: 0.2em;\n",
       "\tpadding-right: 0.2em;\n",
       "}\n",
       "</style>\n",
       "<div class=\"lm-Widget p-Widget lm-Panel p-Panel jp-OutputArea-child\">\n",
       "<div class=\"lm-Widget p-Widget jp-RenderedText jp-mod-trusted jp-OutputArea-output\" data-mime-type=\"application/vnd.jupyter.stderr\" style=\"font-family: monospace;\">\n",
       "\n",
       "<span class=\"gonb-cell-line-info\">Cell[1]: Line 4</span>\n",
       "<span class=\"gonb-err-location\">/var/folders/yk/8pm6f7xd5p175t_q_0wl13sc0000gn/T/gonb_5be79c32/main.go:5:8: </span> missing import path (and 3 more errors)\n",
       "<div class=\"gonb-err-context\">\n",
       "\n",
       "\n",
       "import (\n",
       "<div class=\"gonb-err-line\">    fmt\n",
       "</div>    os\n",
       "    runtime\n",
       "\n",
       "</div>\n",
       "\n",
       "<br/>\n",
       "\n",
       "</div>\n"
      ]
     },
     "metadata": {},
     "output_type": "display_data"
    },
    {
     "ename": "ERROR",
     "evalue": "parsing go files in TempDir \"/var/folders/yk/8pm6f7xd5p175t_q_0wl13sc0000gn/T/gonb_5be79c32\": /var/folders/yk/8pm6f7xd5p175t_q_0wl13sc0000gn/T/gonb_5be79c32/main.go:5:8: missing import path (and 3 more errors)",
     "output_type": "error",
     "traceback": [
      "parsing go files in TempDir \"/var/folders/yk/8pm6f7xd5p175t_q_0wl13sc0000gn/T/gonb_5be79c32\": /var/folders/yk/8pm6f7xd5p175t_q_0wl13sc0000gn/T/gonb_5be79c32/main.go:5:8: missing import path (and 3 more errors)"
     ]
    }
   ],
   "source": [
    "package main\n",
    "\n",
    "import (\n",
    "    fmt\n",
    "    os\n",
    "    runtime\n",
    ")\n",
    "\n",
    "func main() {\n",
    "    fmt.Println(\"GO version\", os.go)\n",
    "    fmt.Println(\"GOROOT\", os.GOROOT)\n",
    "    fmt.Println(\"GOMODCACHE\", os.GOMODCACHE)\n",
    "    fmt.Println(\"Is in Go Module\", runtime.GOOS)\n",
    "    fmt.Println(\"Module name\", runtime.GOOS)\n",
    "}"
   ]
  },
  {
   "cell_type": "markdown",
   "id": "q10",
   "metadata": {},
   "source": [
    "## 題目 10：概念理解\n",
    "\n",
    "**問題：** 解釋為什麼 Go Modules 可以支援同一個套件的多個版本同時存在，而 GOPATH 模式不行？這種設計對大型專案有什麼好處？\n",
    "\n",
    "**考察重點：** 深度理解和架構思維"
   ]
  },
  {
   "cell_type": "code",
   "execution_count": null,
   "id": "a10",
   "metadata": {},
   "outputs": [],
   "source": [
    "// 請在這裡寫下你的答案\n",
    "// GOPATH 模式的限制: 只能使用GOPATH裡面唯一的那個版本\n",
    "\n",
    "// Go Modules 的解決方案：mod會使用版本/tag分開來存放, 所以可以使用不同的dependency\n",
    "\n",
    "// 對大型專案的好處：\n",
    "// 1. 同一個OS內部, 不同的module對於同一個library的依賴, 可以使用不同的版本\n",
    "// 2. \n",
    "// 3.\n",
    "\n",
    "// 實際應用場景："
   ]
  }
 ],
 "metadata": {
  "kernelspec": {
   "display_name": "Go (gonb)",
   "language": "go",
   "name": "gonb"
  },
  "language_info": {
   "codemirror_mode": "",
   "file_extension": ".go",
   "mimetype": "text/x-go",
   "name": "go",
   "nbconvert_exporter": "",
   "pygments_lexer": "",
   "version": "go1.24.4"
  }
 },
 "nbformat": 4,
 "nbformat_minor": 5
}
