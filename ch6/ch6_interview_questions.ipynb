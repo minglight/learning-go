{
 "cells": [
  {
   "cell_type": "markdown",
   "metadata": {},
   "source": [
    "# 第6章 指標 - 面試考題\n",
    "\n",
    "本章節涵蓋Go語言中指標的相關概念，包括指標語法、應用場景、性能考量等重要主題。"
   ]
  },
  {
   "cell_type": "markdown",
   "metadata": {},
   "source": [
    "## 題目 1: 指標基本概念\n",
    "\n",
    "**問題**: 解釋什麼是指標？在Go語言中，指標的零值是什麼？請寫一個簡單的程式碼展示如何宣告指標變數、取得變數的記憶體位址，以及透過指標存取值。"
   ]
  },
  {
   "cell_type": "code",
   "execution_count": 4,
   "metadata": {},
   "outputs": [
    {
     "name": "stdout",
     "output_type": "stream",
     "text": [
      "value of p = 1\n"
     ]
    }
   ],
   "source": [
    "// 請在此處寫下你的答案\n",
    "//指標是指向某個變數的記憶體地址, 所以指標的值是變數的記憶體地址.\n",
    "//指標的零值是nil.\n",
    "package main\n",
    "import \"fmt\"\n",
    "\n",
    "func main() {\n",
    "\tvar p *int\n",
    "\tvar x int = 1\n",
    "\t\n",
    "\tp = &x\n",
    "\tfmt.Println(\"value of p =\", *p)\n",
    "}\n",
    "\n",
    "\n"
   ]
  },
  {
   "cell_type": "markdown",
   "metadata": {},
   "source": [
    "## 題目 2: 指標語法\n",
    "\n",
    "**問題**: 請說明 `&` 和 `*` 這兩個運算子的作用，並寫程式碼展示它們的使用方式。同時請解釋下列程式碼的輸出結果：\n",
    "\n",
    "```go\n",
    "x := 10\n",
    "p := &x\n",
    "fmt.Println(*p)\n",
    "*p = 20\n",
    "fmt.Println(x)\n",
    "```"
   ]
  },
  {
   "cell_type": "code",
   "execution_count": null,
   "metadata": {},
   "outputs": [
    {
     "data": {
      "text/html": [
       "\n",
       "<style>\n",
       ".gonb-err-location {\n",
       "\tbackground: var(--jp-err-color2);  \n",
       "\tborder-radius: 3px;\n",
       "\tborder-style: dotted;\n",
       "\tborder-width: 1px;\n",
       "\tborder-color: var(--jp-border-color2);\n",
       "}\n",
       ".gonb-err-location:hover {\n",
       "\tborder-width: 2px;\n",
       "\tborder-style: solid;\n",
       "\tborder-color: var(--jp-border-color2);\n",
       "}\n",
       ".gonb-err-context {\n",
       "\tdisplay: none;\n",
       "}\n",
       ".gonb-err-location:hover + .gonb-err-context {\n",
       "\tbackground: var(--jp-dialog-background);  \n",
       "\tborder-radius: 3px;\n",
       "\tborder-style: solid;\n",
       "\tborder-width: 1px;\n",
       "\tborder-color: var(--jp-border-color2);\n",
       "\tdisplay: block;\n",
       "\twhite-space: pre;\n",
       "\tfont-family: monospace;\n",
       "}\n",
       ".gonb-err-line {\n",
       "\tborder-radius: 3px;\n",
       "\tborder-style: dotted;\n",
       "\tborder-width: 1px;\t\n",
       "\tborder-color: var(--jp-border-color2);\n",
       "\tbackground-color: var(--jp-rendermime-err-background);\n",
       "\tfont-weight: bold;\n",
       "}\n",
       ".gonb-cell-line-info {\n",
       "\tbackground: var(--jp-layout-color2);\n",
       "\tcolor: #999;\n",
       "\tmargin: 0.1em;\n",
       "\tborder: 1px solid var(--jp-border-color1);\n",
       "\tpadding-left: 0.2em;\n",
       "\tpadding-right: 0.2em;\n",
       "}\n",
       "</style>\n",
       "<div class=\"lm-Widget p-Widget lm-Panel p-Panel jp-OutputArea-child\">\n",
       "<div class=\"lm-Widget p-Widget jp-RenderedText jp-mod-trusted jp-OutputArea-output\" data-mime-type=\"application/vnd.jupyter.stderr\" style=\"font-family: monospace;\">\n",
       "\n",
       "<span class=\"gonb-cell-line-info\">Cell[7]: Line 5</span>\n",
       "<span class=\"gonb-err-location\">/var/folders/yk/8pm6f7xd5p175t_q_0wl13sc0000gn/T/gonb_90031c95/main.go:7:1: </span> expected declaration, found 所以會印出\n",
       "<div class=\"gonb-err-context\">\n",
       "//&amp;x是得到變數x的記憶體地址位置\n",
       "//＊p是解析指標p指向的記憶體位置的變數的值, 也就是變數x的值\n",
       "\n",
       "<div class=\"gonb-err-line\">所以會印出\n",
       "</div>\n",
       "\n",
       "\n",
       "</div>\n",
       "\n",
       "<br/>\n",
       "\n",
       "</div>\n"
      ]
     },
     "metadata": {},
     "output_type": "display_data"
    },
    {
     "ename": "ERROR",
     "evalue": "parsing go files in TempDir \"/var/folders/yk/8pm6f7xd5p175t_q_0wl13sc0000gn/T/gonb_90031c95\": /var/folders/yk/8pm6f7xd5p175t_q_0wl13sc0000gn/T/gonb_90031c95/main.go:7:1: expected declaration, found 所以會印出",
     "output_type": "error",
     "traceback": [
      "parsing go files in TempDir \"/var/folders/yk/8pm6f7xd5p175t_q_0wl13sc0000gn/T/gonb_90031c95\": /var/folders/yk/8pm6f7xd5p175t_q_0wl13sc0000gn/T/gonb_90031c95/main.go:7:1: expected declaration, found 所以會印出"
     ]
    }
   ],
   "source": [
    "// 請在此處寫下你的答案和程式碼\n",
    "//&x是得到變數x的記憶體地址位置\n",
    "//＊p是解析指標p指向的記憶體位置的變數的值, 也就是變數x的值\n",
    "\n",
    "//所以會印出\n",
    "//10\n",
    "//20\n",
    "\n",
    "\n",
    "\n",
    "\n",
    "\n",
    "\n"
   ]
  },
  {
   "cell_type": "markdown",
   "metadata": {},
   "source": [
    "## 題目 3: 函式參數與指標\n",
    "\n",
    "**問題**: 請寫兩個函式 `modifyByValue` 和 `modifyByPointer`，分別展示值傳遞和指標傳遞的不同。第一個函式嘗試將傳入的整數加10，第二個函式透過指標將傳入的整數加10。然後在main函式中測試這兩個函式，觀察原始變數的變化。"
   ]
  },
  {
   "cell_type": "code",
   "execution_count": 8,
   "metadata": {},
   "outputs": [
    {
     "name": "stdout",
     "output_type": "stream",
     "text": [
      "modifyByValue x = 10\n",
      "modifyByPointer x = 20\n"
     ]
    }
   ],
   "source": [
    "// 請在此處寫下你的答案\n",
    "package main\n",
    "import \"fmt\"\n",
    "\n",
    "func modifyByValue(x int) {\n",
    "\tx += 10\n",
    "}\n",
    "\n",
    "func modifyByPointer(x *int) {\n",
    "\t*x += 10\n",
    "}\n",
    "\n",
    "func main() {\n",
    "\tvar x int = 10\n",
    "\tmodifyByValue(x)\n",
    "\tfmt.Println(\"modifyByValue x =\", x)\n",
    "\n",
    "\tmodifyByPointer(&x)\n",
    "\tfmt.Println(\"modifyByPointer x =\", x)\n",
    "\n",
    "\n",
    "}"
   ]
  },
  {
   "cell_type": "markdown",
   "metadata": {},
   "source": [
    "## 題目 4: 指標與性能\n",
    "\n",
    "**問題**: 什麼情況下使用指標能夠改善性能？請解釋大型struct透過值傳遞和指標傳遞的性能差異，並寫程式碼展示這個概念。"
   ]
  },
  {
   "cell_type": "code",
   "execution_count": 10,
   "metadata": {},
   "outputs": [
    {
     "name": "stdout",
     "output_type": "stream",
     "text": [
      "p1.Friends = [{Jane 25 []}]\n"
     ]
    }
   ],
   "source": [
    "// 請在此處寫下你的答案\n",
    "// 1. value佔memory很多的時候, 使用pointer就不會有copy value, 可以共用同一個. \n",
    "\n",
    "package main\n",
    "import \"fmt\"\n",
    "\n",
    "type Person struct {\n",
    "\tName string\n",
    "\tAge int\n",
    "\tFriends []Person\n",
    "}\n",
    "\n",
    "func addFriend(p *Person, friend Person) {\n",
    "\tp.Friends = append(p.Friends, friend)\n",
    "}\n",
    "\n",
    "\n",
    "\n",
    "func main() {\n",
    "\tvar p1 Person = Person{Name: \"John\", Age: 30}\n",
    "\tvar p2 Person = Person{Name: \"Jane\", Age: 25}\n",
    "\n",
    "\taddFriend(&p1, p2)\n",
    "\tfmt.Println(\"p1.Friends =\", p1.Friends)\n",
    "}\n",
    "\n",
    "\n",
    "\n",
    "\n"
   ]
  },
  {
   "cell_type": "markdown",
   "metadata": {},
   "source": [
    "## 題目 5: 零值與沒有值的區別\n",
    "\n",
    "**問題**: 在Go中，如何區分一個變數是零值還是沒有值？請寫程式碼展示如何使用指標來表示「沒有值」的概念，並比較以下兩種情況：\n",
    "1. 一個整數變數的值是0\n",
    "2. 一個整數指標是nil\n",
    "\n",
    "這在實際應用中有什麼意義？"
   ]
  },
  {
   "cell_type": "code",
   "execution_count": 12,
   "metadata": {},
   "outputs": [
    {
     "name": "stdout",
     "output_type": "stream",
     "text": [
      "John fail\n",
      "Hank not participate\n"
     ]
    }
   ],
   "source": [
    "// 請在此處寫下你的答案\n",
    "package main\n",
    "import \"fmt\"\n",
    "\n",
    "type Student struct {\n",
    "\tName string\n",
    "\tScore *int\n",
    "}\n",
    "\n",
    "func participantExam(score *int) string{\n",
    "\tif score == nil {\n",
    "\t\treturn \"not participate\"\n",
    "\t}\n",
    "\tif *score >= 60 {\n",
    "\t\treturn \"pass\"\n",
    "\t}\n",
    "\treturn \"fail\"\n",
    "}\n",
    "\n",
    "\n",
    "func main() {\n",
    "\tvar score1 int = 50\n",
    "\tvar student1 = Student{Name: \"John\", Score: &score1}\n",
    "\tfmt.Println(student1.Name, participantExam(student1.Score))\n",
    "\tvar student2 = Student{Name: \"Hank\"}\n",
    "\tfmt.Println(student2.Name, participantExam(student2.Score))\n",
    "}"
   ]
  },
  {
   "cell_type": "markdown",
   "metadata": {},
   "source": [
    "## 題目 6: Map 與 Slice 的指標行為\n",
    "\n",
    "**問題**: 解釋為什麼map和slice通常不需要使用指標就能在函式中修改其內容？請寫程式碼展示map和slice在函式中的修改行為，並解釋其原理。"
   ]
  },
  {
   "cell_type": "code",
   "execution_count": 13,
   "metadata": {},
   "outputs": [
    {
     "name": "stdout",
     "output_type": "stream",
     "text": [
      "m = map[a:10 b:2]\n",
      "s = [10 2 3]\n"
     ]
    }
   ],
   "source": [
    "// 請在此處寫下你的答案\n",
    "//1. 因為map本身是reference type, 當傳遞的時候會copy他的reference, 但指向的還是同一個map\n",
    "//slice也是reference type, 但當傳遞的時候會copy他的reference to array, 但底層指向的還是同一個array, 不過length and capacity是pure value, 所以還是會copy\n",
    "\n",
    "package main\n",
    "import \"fmt\"\n",
    "\n",
    "func modifyMap(m map[string]int) {\n",
    "\tm[\"a\"] = 10\n",
    "}\n",
    "\n",
    "func modifySlice(s []int) {\n",
    "\ts[0] = 10\n",
    "}\n",
    "\n",
    "func main() {\n",
    "\tvar m map[string]int = map[string]int{\"a\": 1, \"b\": 2}\n",
    "\tvar s []int = []int{1, 2, 3}\n",
    "\n",
    "\tmodifyMap(m)\n",
    "\tmodifySlice(s)\n",
    "\n",
    "\tfmt.Println(\"m =\", m)\n",
    "\tfmt.Println(\"s =\", s)\n",
    "}\n",
    "\n"
   ]
  },
  {
   "cell_type": "markdown",
   "metadata": {},
   "source": [
    "## 題目 7: Slice 作為緩衝區\n",
    "\n",
    "**問題**: 解釋如何將slice當作緩衝區使用，並說明在什麼情況下需要使用指標來操作slice。請寫程式碼展示一個函式，該函式接收一個slice指標，並向其中添加元素。"
   ]
  },
  {
   "cell_type": "code",
   "execution_count": 17,
   "metadata": {},
   "outputs": [
    {
     "name": "stdout",
     "output_type": "stream",
     "text": [
      "s = [10 2 3]\n"
     ]
    }
   ],
   "source": [
    "// 請在此處寫下你的答案\n",
    "// 使用指標操作slice就連 len & cap都不會copy, 所以可以省資源. 當做buffer的時候可以使用\n",
    "\n",
    "\n",
    "\n",
    "package main\n",
    "import \"fmt\"\n",
    "\n",
    "func modifySlice(s *[]int) {\n",
    "\t(*s)[0] = 10\n",
    "}\n",
    "\n",
    "\n",
    "func main() {\n",
    "\tvar s []int = []int{1, 2, 3}\n",
    "\tmodifySlice(&s)\n",
    "\tfmt.Println(\"s =\", s)\n",
    "}\n"
   ]
  },
  {
   "cell_type": "markdown",
   "metadata": {},
   "source": [
    "## 題目 8: 指標的最佳實踐\n",
    "\n",
    "**問題**: 書中提到「指標是最終手段」。請解釋什麼情況下應該避免使用指標？什麼情況下使用指標是必要的？請舉出具體的例子說明。"
   ]
  },
  {
   "cell_type": "code",
   "execution_count": null,
   "metadata": {},
   "outputs": [],
   "source": [
    "// 請在此處寫下你的答案和程式碼範例\n",
    "//1. 避免使用指標 : 佔記憶體很少的資料, 只使用一兩次的資料, 沒有要修改的時候.\n",
    "//2. 必要使用指標 : 不能使用零值, 要偵測nil; 要修改資料多次而且整個資料結構不小; 資料很大的時候\n",
    "\n"
   ]
  },
  {
   "cell_type": "markdown",
   "metadata": {},
   "source": [
    "## 題目 9: 記憶體管理與垃圾回收\n",
    "\n",
    "**問題**: 解釋指標如何影響Go的垃圾回收機制？請寫程式碼展示如何透過適當使用指標來降低記憶體回收程式的工作負擔。"
   ]
  },
  {
   "cell_type": "code",
   "execution_count": null,
   "metadata": {},
   "outputs": [],
   "source": [
    "// 請在此處寫下你的答案\n",
    "//如果使用的是pure value type, 例如struct, 那麼有機會這個指標只會在stack上, 不會在heap上.\n",
    "//那麼這樣的話用完就直接丟掉了, 根本不需要GC\n",
    "\n",
    "package main\n",
    "import \"fmt\"\n",
    "\n",
    "type Student struct {\t\n",
    "\tName string\n",
    "\tScore int\n",
    "}\n",
    "\n",
    "func addScore(s *Student, score int) {\n",
    "\ts.Score += score\n",
    "}\n",
    "\n",
    "func main() {\n",
    "\tvar s Student = Student{Name: \"John\", Score: 50}\n",
    "\taddScore(&s, 10)\n",
    "}\n"
   ]
  },
  {
   "cell_type": "markdown",
   "metadata": {},
   "source": [
    "## 題目 10: 綜合應用題\n",
    "\n",
    "**問題**: 請設計一個簡單的鏈結串列（Linked List）資料結構，包含以下功能：\n",
    "1. 定義節點結構\n",
    "2. 實作新增節點的函式\n",
    "3. 實作顯示所有節點的函式\n",
    "4. 實作刪除特定值的節點的函式\n",
    "\n",
    "請解釋在這個實作中為什麼必須使用指標，以及各個函式中指標的使用方式。"
   ]
  },
  {
   "cell_type": "code",
   "execution_count": null,
   "metadata": {},
   "outputs": [],
   "source": [
    "// 請在此處寫下你的答案\n",
    "\n",
    "package main\n",
    "\n",
    "import (\n",
    "\t\"fmt\"\n",
    ")\n",
    "\n",
    "// 節點（Node）：保存資料與下一個節點的指標\n",
    "type Node struct {\n",
    "\tValue int\n",
    "\tNext  *Node\n",
    "}\n",
    "\n",
    "// 鏈結串列（LinkedList）：持有串列的入口（head）\n",
    "type LinkedList struct {\n",
    "\thead *Node\n",
    "}\n",
    "\n",
    "// Append: 在尾端新增節點（O(n)），使用 *LinkedList 的指標接收者才能改到原串列\n",
    "func (l *LinkedList) Append(v int) {\n",
    "\tnewNode := &Node{Value: v}\n",
    "\tif l.head == nil {\n",
    "\t\tl.head = newNode\n",
    "\t\treturn\n",
    "\t}\n",
    "\tcur := l.head\n",
    "\tfor cur.Next != nil {\n",
    "\t\tcur = cur.Next\n",
    "\t}\n",
    "\tcur.Next = newNode\n",
    "}\n",
    "\n",
    "// Display: 依序列印所有節點\n",
    "func (l *LinkedList) Display() {\n",
    "\tcur := l.head\n",
    "\tfor cur != nil {\n",
    "\t\tfmt.Printf(\"%d\", cur.Value)\n",
    "\t\tif cur.Next != nil {\n",
    "\t\t\tfmt.Print(\" -> \")\n",
    "\t\t}\n",
    "\t\tcur = cur.Next\n",
    "\t}\n",
    "\tfmt.Println()\n",
    "}\n",
    "\n",
    "// DeleteFirst: 刪除第一個等於目標值的節點，回傳是否刪到\n",
    "// 需能處理刪除 head 與中間節點\n",
    "func (l *LinkedList) DeleteFirst(target int) bool {\n",
    "\tif l.head == nil {\n",
    "\t\treturn false\n",
    "\t}\n",
    "\t// 刪除 head\n",
    "\tif l.head.Value == target {\n",
    "\t\tl.head = l.head.Next\n",
    "\t\treturn true\n",
    "\t}\n",
    "\t// 刪除中間/尾端：用 prev / cur 兩個指標走訪\n",
    "\tprev, cur := l.head, l.head.Next\n",
    "\tfor cur != nil {\n",
    "\t\tif cur.Value == target {\n",
    "\t\t\tprev.Next = cur.Next // 跳過 cur\n",
    "\t\t\treturn true\n",
    "\t\t}\n",
    "\t\tprev, cur = cur, cur.Next\n",
    "\t}\n",
    "\treturn false\n",
    "}\n",
    "\n",
    "func main() {\n",
    "\tvar list LinkedList\n",
    "\tlist.Append(10)\n",
    "\tlist.Append(20)\n",
    "\tlist.Append(30)\n",
    "\tlist.Append(20)\n",
    "\tfmt.Print(\"初始串列: \")\n",
    "\tlist.Display() // 10 -> 20 -> 30 -> 20\n",
    "\n",
    "\tok := list.DeleteFirst(20)\n",
    "\tfmt.Println(\"刪除20結果:\", ok)\n",
    "\tfmt.Print(\"刪除後:   \")\n",
    "\tlist.Display() // 10 -> 30 -> 20\n",
    "\n",
    "\tok = list.DeleteFirst(10)\n",
    "\tfmt.Println(\"刪除10結果:\", ok)\n",
    "\tfmt.Print(\"刪除後:   \")\n",
    "\tlist.Display() // 30 -> 20\n",
    "\n",
    "\tok = list.DeleteFirst(999)\n",
    "\tfmt.Println(\"刪除999結果:\", ok)\n",
    "\tfmt.Print(\"最後串列: \")\n",
    "\tlist.Display() // 30 -> 20\n",
    "}"
   ]
  }
 ],
 "metadata": {
  "kernelspec": {
   "display_name": "Go (gonb)",
   "language": "go",
   "name": "gonb"
  },
  "language_info": {
   "codemirror_mode": "",
   "file_extension": ".go",
   "mimetype": "text/x-go",
   "name": "go",
   "nbconvert_exporter": "",
   "pygments_lexer": "",
   "version": "go1.24.4"
  }
 },
 "nbformat": 4,
 "nbformat_minor": 2
}
