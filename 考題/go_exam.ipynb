{
 "cells": [
  {
   "cell_type": "markdown",
   "id": "786fb68a",
   "metadata": {},
   "source": [
    "## 1"
   ]
  },
  {
   "cell_type": "code",
   "execution_count": 1,
   "id": "b724bac4",
   "metadata": {},
   "outputs": [
    {
     "name": "stderr",
     "output_type": "stream",
     "text": [
      "fatal error: all goroutines are asleep - deadlock!\n",
      "\n",
      "goroutine 1 [chan send]:\n",
      "main.main()\n",
      "\t \u001b[7m[[ Cell [1] Line 7 ]]\u001b[0m /var/folders/x6/lgk9k7t518v3kvp1t2q3r8kw0000gn/T/gonb_f7e15773/main.go:11 +0x48\n",
      "exit status 2\n"
     ]
    }
   ],
   "source": [
    "package main\n",
    "import \"fmt\"\n",
    "\n",
    "func main() {\n",
    "\tch := make(chan int, 1)\n",
    "\tch <- 1\n",
    "\tch <- 2\n",
    "\tfmt.Println(<-ch)\n",
    "}"
   ]
  },
  {
   "cell_type": "markdown",
   "id": "b5b36106",
   "metadata": {},
   "source": [
    "## 3"
   ]
  },
  {
   "cell_type": "code",
   "execution_count": null,
   "id": "24c7738d",
   "metadata": {},
   "outputs": [
    {
     "name": "stdout",
     "output_type": "stream",
     "text": [
      "0\n",
      "1\n",
      "2\n",
      "done\n"
     ]
    }
   ],
   "source": [
    "package main\n",
    "import \"fmt\"\n",
    "import \"time\"\n",
    "\n",
    "func main() {\n",
    "\tch := make(chan int)\n",
    "\tgo func() {\n",
    "\t\tfor i := 0; i < 3; i++ {\n",
    "\t\t\tch <- i \n",
    "\t\t}\n",
    "\t\tclose(ch)\n",
    "\t}()\n",
    "\n",
    "\tfor{\n",
    "\t\tselect {\n",
    "\t\tcase v, ok := <- ch:\n",
    "\t\t\tif !ok {\n",
    "\t\t\t\tfmt.Println(\"done\")\n",
    "\t\t\t\treturn\n",
    "\t\t\t} \n",
    "\t\t\tfmt.Println(v)\n",
    "\n",
    "\t\t\tcase <- time.After( 50 * time.Millisecond):\n",
    "\t\t\t\tfmt.Println(\"timeout\")\n",
    "\t\t}\n",
    "\t}\n",
    "}"
   ]
  },
  {
   "cell_type": "markdown",
   "id": "12022837",
   "metadata": {},
   "source": [
    "## 7\n",
    "\n",
    "main結束了, process也結束了. => worker也結束了\n",
    "=> 如果main沒有結束, 那就是goroutine leak ( worker)"
   ]
  },
  {
   "cell_type": "markdown",
   "id": "3e53e214",
   "metadata": {},
   "source": []
  },
  {
   "cell_type": "code",
   "execution_count": 10,
   "id": "f91fc160",
   "metadata": {},
   "outputs": [
    {
     "name": "stdout",
     "output_type": "stream",
     "text": [
      "Awake\n"
     ]
    }
   ],
   "source": [
    "package main\n",
    "import \"fmt\"\n",
    "import \"time\"\n",
    "\n",
    "func worker(ch chan int) {\n",
    "    for range ch {\n",
    "        fmt.Println(\"Hello\")\n",
    "    }\n",
    "}\n",
    "\n",
    "func main() {\n",
    "    ch := make(chan int)\n",
    "    go worker(ch)\n",
    "    time.Sleep(time.Second)\n",
    "\tfmt.Println(\"Awake\")\n",
    "}\n"
   ]
  },
  {
   "cell_type": "markdown",
   "id": "1e9adce1",
   "metadata": {},
   "source": [
    "## 10"
   ]
  },
  {
   "cell_type": "code",
   "execution_count": null,
   "id": "9381236f",
   "metadata": {},
   "outputs": [
    {
     "data": {
      "text/html": [
       "\n",
       "<style>\n",
       ".gonb-err-location {\n",
       "\tbackground: var(--jp-err-color2);  \n",
       "\tborder-radius: 3px;\n",
       "\tborder-style: dotted;\n",
       "\tborder-width: 1px;\n",
       "\tborder-color: var(--jp-border-color2);\n",
       "}\n",
       ".gonb-err-location:hover {\n",
       "\tborder-width: 2px;\n",
       "\tborder-style: solid;\n",
       "\tborder-color: var(--jp-border-color2);\n",
       "}\n",
       ".gonb-err-context {\n",
       "\tdisplay: none;\n",
       "}\n",
       ".gonb-err-location:hover + .gonb-err-context {\n",
       "\tbackground: var(--jp-dialog-background);  \n",
       "\tborder-radius: 3px;\n",
       "\tborder-style: solid;\n",
       "\tborder-width: 1px;\n",
       "\tborder-color: var(--jp-border-color2);\n",
       "\tdisplay: block;\n",
       "\twhite-space: pre;\n",
       "\tfont-family: monospace;\n",
       "}\n",
       ".gonb-err-line {\n",
       "\tborder-radius: 3px;\n",
       "\tborder-style: dotted;\n",
       "\tborder-width: 1px;\t\n",
       "\tborder-color: var(--jp-border-color2);\n",
       "\tbackground-color: var(--jp-rendermime-err-background);\n",
       "\tfont-weight: bold;\n",
       "}\n",
       ".gonb-cell-line-info {\n",
       "\tbackground: var(--jp-layout-color2);\n",
       "\tcolor: #999;\n",
       "\tmargin: 0.1em;\n",
       "\tborder: 1px solid var(--jp-border-color1);\n",
       "\tpadding-left: 0.2em;\n",
       "\tpadding-right: 0.2em;\n",
       "}\n",
       "</style>\n",
       "<div class=\"lm-Widget p-Widget lm-Panel p-Panel jp-OutputArea-child\">\n",
       "<div class=\"lm-Widget p-Widget jp-RenderedText jp-mod-trusted jp-OutputArea-output\" data-mime-type=\"application/vnd.jupyter.stderr\" style=\"font-family: monospace;\">\n",
       "\n",
       "<span class=\"gonb-cell-line-info\">Cell[18]: Line 28</span>\n",
       "<span class=\"gonb-err-location\">/var/folders/x6/lgk9k7t518v3kvp1t2q3r8kw0000gn/T/gonb_f7e15773/main.go:29:7: </span> expected '(', found failedUpdate\n",
       "<div class=\"gonb-err-context\">\n",
       "\t\n",
       "\tfmt.Println(&#34;newStatus = &#34;, st)\n",
       "\n",
       "<div class=\"gonb-err-line\">\tfunc failedUpdate(g *int) { \n",
       "</div>\t\tx := 10; g = &amp;x \n",
       "\t}\n",
       "\n",
       "</div>\n",
       "\n",
       "<br/>\n",
       "\n",
       "</div>\n"
      ]
     },
     "metadata": {},
     "output_type": "display_data"
    },
    {
     "ename": "ERROR",
     "evalue": "parsing go files in TempDir \"/var/folders/x6/lgk9k7t518v3kvp1t2q3r8kw0000gn/T/gonb_f7e15773\": /var/folders/x6/lgk9k7t518v3kvp1t2q3r8kw0000gn/T/gonb_f7e15773/main.go:29:7: expected '(', found failedUpdate",
     "output_type": "error",
     "traceback": [
      "parsing go files in TempDir \"/var/folders/x6/lgk9k7t518v3kvp1t2q3r8kw0000gn/T/gonb_f7e15773\": /var/folders/x6/lgk9k7t518v3kvp1t2q3r8kw0000gn/T/gonb_f7e15773/main.go:29:7: expected '(', found failedUpdate"
     ]
    }
   ],
   "source": [
    "package main\n",
    "import \"fmt\"\n",
    "\n",
    "type Person struct {\n",
    "\tName string\n",
    "}\n",
    "\n",
    "func (p *Person) updateName(newName string){\n",
    "\tp.Name = newName\n",
    "}\n",
    "\n",
    "type Status int\n",
    "\n",
    "func (s *Status) setStatus(newStatus Status) {\n",
    "\ts = &newStatus\n",
    "}\n",
    "\n",
    "func main() {\n",
    "\tp := Person{Name : \"Alice\"}\n",
    "\tp.updateName(\"Bob\")\n",
    "\tfmt.Println(\"Name:=\", p.Name)\n",
    "\n",
    "\tvar st Status = 10\n",
    "\tst.setStatus(20)\n",
    "\t\n",
    "\tfmt.Println(\"newStatus = \", st)\n",
    "\n",
    "\tvar failedUpdate = func (g *int) { \n",
    "\t\tx := 10; g = &x \n",
    "\t}\n",
    "\tx := 5\n",
    "\tfailedUpdate(&x)\n",
    "\tfmt.Println(x)\n",
    "\n",
    "}\n",
    "\n"
   ]
  }
 ],
 "metadata": {
  "kernelspec": {
   "display_name": "Go (gonb)",
   "language": "go",
   "name": "gonb"
  },
  "language_info": {
   "codemirror_mode": "",
   "file_extension": ".go",
   "mimetype": "text/x-go",
   "name": "go",
   "nbconvert_exporter": "",
   "pygments_lexer": "",
   "version": "go1.24.5"
  }
 },
 "nbformat": 4,
 "nbformat_minor": 5
}
