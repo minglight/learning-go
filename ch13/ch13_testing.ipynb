{
 "cells": [
  {
   "cell_type": "markdown",
   "source": "## 使用Race Checker來尋找並行問題\\n\\nGo的race detector幫助發現並行程式中的資料競爭問題：\\n\\n1. **啟用檢測**：使用`go test -race`執行測試\\n2. **自動偵測**：自動偵測記憶體存取的競爭條件\\n3. **詳細報告**：提供詳細的競爭條件報告\\n4. **效能影響**：會降低執行速度，僅在開發和測試時使用\\n\\nRace detector是確保並行程式正確性的重要工具。\"",
   "metadata": {}
  },
  {
   "cell_type": "markdown",
   "source": "## 整合測試與建構標籤\\n\\n建構標籤讓我們能夠區分單元測試和整合測試：\\n\\n1. **建構標籤**：使用`//go:build`或`// +build`標籤\\n2. **條件編譯**：根據標籤決定是否編譯檔案\\n3. **測試分類**：分離快速的單元測試和慢速的整合測試\\n4. **CI/CD整合**：在不同環境執行不同類型的測試\\n\\n建構標籤讓測試策略更加靈活和高效。\"",
   "metadata": {}
  },
  {
   "cell_type": "markdown",
   "source": "## httptest\\n\\n`httptest`套件提供了測試HTTP服務的工具：\\n\\n1. **測試伺服器**：`httptest.NewServer`建立測試用HTTP伺服器\\n2. **請求記錄**：`httptest.NewRecorder`記錄HTTP回應\\n3. **TLS支援**：支援HTTPS測試\\n4. **自動清理**：測試結束自動清理資源\\n\\nhttptest讓HTTP相關的測試變得簡單且可靠。\"",
   "metadata": {}
  },
  {
   "cell_type": "markdown",
   "source": "## Go的stub\\n\\nStubbing是測試中替換依賴的技術，讓測試更加隔離和可控：\\n\\n1. **介面替換**：透過介面進行stub\\n2. **函式變數**：將依賴函式設為變數\\n3. **依賴注入**：透過參數或欄位注入依賴\\n4. **測試專用版本**：為測試建立專用的stub實作\\n\\nStub讓我們能夠測試複雜的邏輯而不依賴外部系統。\"",
   "metadata": {}
  },
  {
   "cell_type": "code",
   "source": "/* 效能測試範例 */\\nfunc BenchmarkAdd(b *testing.B) {\\n    // b.N 是Go自動調整的迭代次數\\n    for i := 0; i < b.N; i++ {\\n        Add(42, 58) // 測試Add函式的效能\\n    }\\n    // 輸出：BenchmarkAdd-8    1000000000    0.25 ns/op\\n    // 表示8個CPU核心，執行10億次，平均每次0.25奈秒\\n}\\n\\nfunc BenchmarkStringConcat(b *testing.B) {\\n    for i := 0; i < b.N; i++ {\\n        // 重置計時器，排除setup時間\\n        b.ResetTimer()\\n        \\n        result := \\\"\\\"\\n        for j := 0; j < 1000; j++ {\\n            result += \\\"test\\\"\\n        }\\n        \\n        // 暫停計時器進行cleanup（如果需要）\\n        b.StopTimer()\\n        // cleanup code here\\n        b.StartTimer()\\n    }\\n}\\n\\n// 記憶體分配benchmark\\nfunc BenchmarkSliceGrow(b *testing.B) {\\n    b.ReportAllocs() // 報告記憶體分配\\n    \\n    for i := 0; i < b.N; i++ {\\n        s := make([]int, 0)\\n        for j := 0; j < 1000; j++ {\\n            s = append(s, j)\\n        }\\n    }\\n    // 輸出會包含記憶體分配資訊：\\n    // BenchmarkSliceGrow-8  50000  30000 ns/op  32768 B/op  10 allocs/op\\n}\"",
   "metadata": {},
   "execution_count": null,
   "outputs": []
  },
  {
   "cell_type": "markdown",
   "source": "## 效能評定\\n\\nGo內建了benchmark功能來測量程式碼的效能：\\n\\n1. **Benchmark函式**：函式名以`Benchmark`開頭\\n2. **參數型態**：接受`*testing.B`參數\\n3. **執行迴圈**：使用`b.N`進行指定次數的測試\\n4. **執行命令**：使用`go test -bench=.`執行benchmark\\n\\nBenchmark幫助我們量化效能改善，避免過早最佳化。\"",
   "metadata": {}
  },
  {
   "cell_type": "markdown",
   "source": "## 檢查測試時間覆蓋率\\n\\n測試覆蓋率幫助我們了解測試的完整性，但要合理使用：\\n\\n1. **覆蓋率報告**：使用`go test -cover`查看覆蓋率\\n2. **詳細報告**：使用`go test -coverprofile=coverage.out`生成詳細報告\\n3. **視覺化**：使用`go tool cover -html=coverage.out`查看HTML報告\\n4. **合理目標**：追求高覆蓋率，但不要盲目追求100%\\n\\n覆蓋率是品質指標之一，但不是唯一標準。\"",
   "metadata": {}
  },
  {
   "cell_type": "code",
   "source": "/* 表格測試的經典實現 */\\nfunc TestTableDriven(t *testing.T) {\\n    // 定義測試用例結構\\n    tests := []struct {\\n        name     string\\n        input1   int\\n        input2   int\\n        expected int\\n    }{\\n        {\\\"positive numbers\\\", 2, 3, 5},\\n        {\\\"negative numbers\\\", -1, -1, -2},\\n        {\\\"mixed numbers\\\", -5, 10, 5},\\n        {\\\"zero values\\\", 0, 0, 0},\\n        {\\\"large numbers\\\", 1000000, 2000000, 3000000},\\n    }\\n    \\n    // 執行所有測試用例\\n    for _, tt := range tests {\\n        // 為每個測試用例建立子測試\\n        t.Run(tt.name, func(t *testing.T) {\\n            result := Add(tt.input1, tt.input2)\\n            if result != tt.expected {\\n                t.Errorf(\\\"Add(%d, %d) = %d; want %d\\\", \\n                    tt.input1, tt.input2, result, tt.expected)\\n            }\\n        })\\n    }\\n    // 表格測試的優點：\\n    // 1. 容易添加新的測試用例\\n    // 2. 測試邏輯統一\\n    // 3. 每個用例都有清晰的名稱\\n    // 4. 失敗時能精確定位問題用例\\n}\"",
   "metadata": {},
   "execution_count": null,
   "outputs": []
  },
  {
   "cell_type": "markdown",
   "source": "## 表格測試\\n\\n表格測試是Go中常見的測試模式，它允許我們用同一套邏輯測試多種輸入和期望輸出：\\n\\n1. **測試用例結構**：定義包含輸入和期望輸出的結構\\n2. **迴圈驗證**：使用迴圈執行所有測試用例\\n3. **子測試**：為每個用例建立子測試\\n4. **失敗隔離**：一個用例失敗不影響其他用例\\n\\n表格測試讓測試更有組織性，且容易擴展新的測試用例。\"",
   "metadata": {}
  },
  {
   "cell_type": "markdown",
   "source": "## 使用go-cmp來比較測試結果\\n\\n`go-cmp`套件提供了強大的比較功能，特別適合比較複雜的資料結構：\\n\\n1. **深度比較**：比較struct、slice、map等複雜結構\\n2. **自訂比較**：可以自訂比較邏輯\\n3. **差異報告**：提供詳細的差異報告\\n4. **忽略特定欄位**：可以忽略時間戳等動態欄位\\n\\n使用go-cmp能讓測試更加精確和易於調試。\"",
   "metadata": {}
  },
  {
   "cell_type": "markdown",
   "source": "## 測試你的公用API\\n\\n測試應該專注於測試公用API，而不是內部實作細節。這樣的測試更加穩定，不會因為內部重構而失效：\\n\\n1. **黑盒測試**：只測試公用的函式和方法\\n2. **行為驗證**：驗證API的行為而非實作\\n3. **介面測試**：透過介面進行測試\\n4. **避免內部依賴**：不要依賴未導出的變數或函式\\n\\n專注於公用API的測試能讓重構更安全，維護成本更低。\"",
   "metadata": {}
  },
  {
   "cell_type": "markdown",
   "source": "## 快取測試結果\\n\\nGo會自動快取測試結果來提高測試執行效率。只有當package的原始碼或依賴發生變化時，測試才會重新執行：\\n\\n1. **自動快取**：`go test`自動快取成功的測試結果\\n2. **強制重新執行**：使用`go test -count=1`強制重新執行測試\\n3. **清理快取**：使用`go clean -testcache`清除測試快取\\n4. **快取條件**：只有確定性測試才會被快取\\n\\n測試快取機制能顯著提升開發效率，特別是在大型project中。\"",
   "metadata": {}
  },
  {
   "cell_type": "code",
   "source": "/* 使用testdata目錄儲存測試資料 */\\nimport (\\n    \\\"io\\\"\\n    \\\"path/filepath\\\"\\n)\\n\\n// 讀取testdata目錄中的測試資料\\nfunc TestReadTestData(t *testing.T) {\\n    // testdata目錄結構示例：\\n    // testdata/\\n    //   input/\\n    //     sample1.txt\\n    //     sample2.json\\n    //   expected/\\n    //     result1.txt\\n    //     result2.json\\n    \\n    // 讀取輸入資料檔案\\n    inputPath := filepath.Join(\\\"testdata\\\", \\\"input\\\", \\\"sample1.txt\\\")\\n    inputFile, err := os.Open(inputPath)\\n    if err != nil {\\n        t.Fatalf(\\\"Failed to open input file: %v\\\", err)\\n    }\\n    defer inputFile.Close()\\n    \\n    inputData, err := io.ReadAll(inputFile)\\n    if err != nil {\\n        t.Fatalf(\\\"Failed to read input data: %v\\\", err)\\n    }\\n    \\n    // 處理輸入資料\\n    result := processData(string(inputData))\\n    \\n    // 讀取期望結果檔案\\n    expectedPath := filepath.Join(\\\"testdata\\\", \\\"expected\\\", \\\"result1.txt\\\")\\n    expectedFile, err := os.Open(expectedPath)\\n    if err != nil {\\n        t.Fatalf(\\\"Failed to open expected file: %v\\\", err)\\n    }\\n    defer expectedFile.Close()\\n    \\n    expectedData, err := io.ReadAll(expectedFile)\\n    if err != nil {\\n        t.Fatalf(\\\"Failed to read expected data: %v\\\", err)\\n    }\\n    \\n    // 比較結果\\n    if result != string(expectedData) {\\n        t.Errorf(\\\"Result mismatch.\\\\nGot: %q\\\\nWant: %q\\\", result, string(expectedData))\\n    }\\n}\\n\\n// 模擬資料處理函式\\nfunc processData(input string) string {\\n    return \\\"processed: \\\" + input\\n}\"",
   "metadata": {},
   "execution_count": null,
   "outputs": []
  },
  {
   "cell_type": "markdown",
   "source": "## 儲存測試資料檔案\\n\\nGo提供了`testdata`目錄約定來儲存測試所需的資料檔案。這個目錄有特殊的語義，Go工具鏈會忽略其中的Go原始檔案，但會保留其他檔案供測試使用：\\n\\n1. **testdata目錄約定**：在package根目錄或子目錄下建立`testdata`目錄\\n2. **檔案組織**：按測試功能分類儲存資料檔案\\n3. **相對路徑存取**：使用相對路徑存取測試資料\\n4. **版本控制**：testdata目錄應該納入版本控制\\n\\n適當地管理測試資料能讓測試更加可靠和可維護。\"",
   "metadata": {}
  },
  {
   "cell_type": "code",
   "source": "/* 使用子測試進行隔離的設定與拆解 */\\nfunc TestWithSubtests(t *testing.T) {\\n    // 主測試的設定\\n    mainResource := \\\"main_resource\\\"\\n    t.Logf(\\\"Main test setup: %s\\\", mainResource)\\n    \\n    // 子測試1 - 每個子測試都有獨立的環境\\n    t.Run(\\\"SubTest1\\\", func(t *testing.T) {\\n        // 子測試特定的設定\\n        subResource := \\\"sub1_resource\\\"\\n        defer func() {\\n            t.Logf(\\\"SubTest1 cleanup: %s\\\", subResource) // 子測試結束時清理\\n        }()\\n        \\n        // 測試邏輯\\n        result := processResource(mainResource, subResource)\\n        if result != \\\"main_resource+sub1_resource\\\" {\\n            t.Errorf(\\\"Expected combined resource, got %s\\\", result)\\n        }\\n    })\\n    \\n    // 子測試2 - 與子測試1完全隔離\\n    t.Run(\\\"SubTest2\\\", func(t *testing.T) {\\n        subResource := \\\"sub2_resource\\\"\\n        defer func() {\\n            t.Logf(\\\"SubTest2 cleanup: %s\\\", subResource)\\n        }()\\n        \\n        result := processResource(mainResource, subResource)\\n        if result != \\\"main_resource+sub2_resource\\\" {\\n            t.Errorf(\\\"Expected combined resource, got %s\\\", result)\\n        }\\n    })\\n    \\n    t.Log(\\\"All subtests completed\\\")\\n}\\n\\n// 模擬處理資源的函式\\nfunc processResource(main, sub string) string {\\n    return main + \\\"+\\\" + sub\\n}\"",
   "metadata": {},
   "execution_count": null,
   "outputs": []
  },
  {
   "cell_type": "code",
   "source": "/* 使用defer進行測試內的清理 */\\nfunc TestWithDefer(t *testing.T) {\\n    // 創建臨時資源\\n    tempFile, err := os.CreateTemp(\\\"\\\", \\\"test_*\\\")\\n    if err != nil {\\n        t.Fatal(\\\"Failed to create temp file:\\\", err)\\n    }\\n    \\n    // 使用defer確保資源被清理\\n    defer func() {\\n        tempFile.Close()\\n        os.Remove(tempFile.Name())\\n        t.Log(\\\"Temp file cleaned up\\\")\\n    }()\\n    \\n    // 進行測試\\n    _, err = tempFile.WriteString(\\\"test data\\\")\\n    if err != nil {\\n        t.Error(\\\"Failed to write to temp file\\\")\\n        return // defer仍然會執行\\n    }\\n    \\n    // 驗證檔案內容\\n    tempFile.Seek(0, 0)\\n    buffer := make([]byte, 9)\\n    n, err := tempFile.Read(buffer)\\n    if err != nil {\\n        t.Error(\\\"Failed to read temp file\\\")\\n    }\\n    \\n    if string(buffer[:n]) != \\\"test data\\\" {\\n        t.Errorf(\\\"Expected 'test data', got %q\\\", string(buffer[:n]))\\n    }\\n    // defer確保無論測試成功或失敗都會執行清理\\n}\"",
   "metadata": {},
   "execution_count": null,
   "outputs": []
  },
  {
   "cell_type": "code",
   "source": "/* 使用TestMain進行全域設定與拆解 */\\nimport (\\n    \\\"os\\\"\\n    \\\"testing\\\"\\n    \\\"fmt\\\"\\n)\\n\\n// TestMain在所有測試之前和之後執行\\nfunc TestMain(m *testing.M) {\\n    fmt.Println(\\\"Setting up test environment...\\\")\\n    \\n    // 全域設定 - 在所有測試之前執行\\n    setupDatabase()\\n    setupTempFiles()\\n    \\n    // 執行所有測試\\n    code := m.Run()\\n    \\n    // 全域拆解 - 在所有測試之後執行\\n    fmt.Println(\\\"Cleaning up test environment...\\\")\\n    cleanupDatabase()\\n    cleanupTempFiles()\\n    \\n    // 以測試結果代碼退出\\n    os.Exit(code)\\n}\\n\\n// 模擬設定和拆解函式\\nfunc setupDatabase() {\\n    fmt.Println(\\\"Database setup completed\\\")\\n}\\n\\nfunc cleanupDatabase() {\\n    fmt.Println(\\\"Database cleanup completed\\\")\\n}\\n\\nfunc setupTempFiles() {\\n    fmt.Println(\\\"Temp files created\\\")\\n}\\n\\nfunc cleanupTempFiles() {\\n    fmt.Println(\\\"Temp files removed\\\")\\n}\"",
   "metadata": {},
   "execution_count": null,
   "outputs": []
  },
  {
   "cell_type": "markdown",
   "source": "## 設定與拆解\\n\\n在Go中沒有內建的setUp和tearDown方法，但我們可以使用不同的策略來處理測試前的設定和測試後的清理工作：\\n\\n1. **TestMain**：控制整個package的測試生命週期\\n2. **defer**：在測試函式中進行清理\\n3. **子測試**：使用t.Run創建隔離的測試環境\\n4. **輔助函式**：封裝設定和清理邏輯\\n\\n適當的設定和拆解確保測試間的隔離性，避免測試間相互影響。\"",
   "metadata": {}
  },
  {
   "cell_type": "code",
   "source": "/* Helper方法 - 標記函式為輔助函式 */\\n\\n// 測試輔助函式 - 使用t.Helper()標記\\nfunc checkEqual(t *testing.T, got, want int) {\\n    t.Helper() // 標記這是輔助函式，錯誤會指向呼叫者\\n    if got != want {\\n        // 錯誤會顯示呼叫checkEqual的位置，而不是這裡\\n        t.Errorf(\\\"got %d, want %d\\\", got, want)\\n    }\\n}\\n\\nfunc checkStringEqual(t *testing.T, got, want string) {\\n    t.Helper() // 非常重要：讓錯誤訊息更準確\\n    if got != want {\\n        t.Errorf(\\\"got %q, want %q\\\", got, want)\\n    }\\n}\\n\\nfunc TestUsingHelpers(t *testing.T) {\\n    // 使用輔助函式進行測試\\n    result1 := Add(2, 3)\\n    checkEqual(t, result1, 5) // 如果失敗，錯誤會指向這一行\\n    \\n    result2 := Add(10, 20)\\n    checkEqual(t, result2, 30) // 錯誤會指向這裡，不是checkEqual內部\\n    \\n    str := \\\"hello\\\"\\n    checkStringEqual(t, str, \\\"hello\\\") // 通過測試\\n    \\n    // Helper的好處：\\n    // 1. 讓錯誤訊息更精確\\n    // 2. 減少重複的測試程式碼\\n    // 3. 提高測試的可讀性\\n}\"",
   "metadata": {},
   "execution_count": null,
   "outputs": []
  },
  {
   "cell_type": "code",
   "source": "/* Log系列方法 - 記錄信息但不標記測試失敗 */\\nfunc TestLogMethods(t *testing.T) {\\n    // t.Log() - 記錄調試信息\\n    t.Log(\\\"Starting database connection test\\\")\\n    \\n    connection := \\\"established\\\"\\n    t.Logf(\\\"Database connection status: %s\\\", connection) // 輸出: established\\n    \\n    // Log訊息只在測試失敗或使用 -v 標誌時顯示\\n    t.Log(\\\"This message helps debug test flow\\\")\\n    \\n    // 即使使用Log，測試仍然通過\\n    result := Add(1, 1)\\n    if result != 2 {\\n        t.Errorf(\\\"Add failed: expected 2, got %d\\\", result)\\n    }\\n    \\n    t.Log(\\\"Test completed successfully\\\")\\n    // Log的用途：\\n    // 1. 記錄測試執行過程\\n    // 2. 輔助調試\\n    // 3. 記錄測試狀態變化\\n}\"",
   "metadata": {},
   "execution_count": null,
   "outputs": []
  },
  {
   "cell_type": "code",
   "source": "/* Fatal系列方法 - 記錄錯誤並立即停止測試 */\\nfunc TestFatalMethods(t *testing.T) {\\n    // 假設我們需要檢查一個重要的前提條件\\n    database := initDatabase()\\n    if database == nil {\\n        t.Fatal(\\\"Database initialization failed, cannot continue test\\\") // 立即停止\\n    }\\n    \\n    // t.Fatalf() - 格式化錯誤訊息並停止\\n    config := loadConfig()\\n    if config.Port == 0 {\\n        t.Fatalf(\\\"Invalid port configuration: %d\\\", config.Port) // 立即停止\\n    }\\n    \\n    // 如果前面的Fatal被觸發，這段程式碼不會執行\\n    fmt.Println(\\\"This will only run if no Fatal occurred\\\")\\n    \\n    // 使用Fatal的情境：\\n    // 1. 測試前提條件失敗\\n    // 2. 設定/初始化失敗\\n    // 3. 後續測試依賴的資源無法取得\\n}\\n\\n// 模擬函式\\nfunc initDatabase() interface{} { return \\\"mock_db\\\" }\\nfunc loadConfig() struct{ Port int } { return struct{ Port int }{Port: 8080} }\"",
   "metadata": {},
   "execution_count": null,
   "outputs": []
  },
  {
   "cell_type": "code",
   "source": "/* Error系列方法 - 記錄錯誤但繼續執行 */\\nfunc TestErrorMethods(t *testing.T) {\\n    // t.Error() - 記錄錯誤訊息\\n    result := Add(2, 2)\\n    if result != 4 {\\n        t.Error(\\\"Add(2, 2) should be 4\\\") // 繼續執行後續測試\\n    }\\n    \\n    // t.Errorf() - 格式化錯誤訊息\\n    name := \\\"John\\\"\\n    if len(name) != 4 {\\n        t.Errorf(\\\"Expected name length 4, got %d\\\", len(name)) // 輸出: got 4\\n    }\\n    \\n    // 即使前面的測試失敗，這裡仍會執行\\n    if Add(3, 3) != 6 {\\n        t.Error(\\\"This test will also run\\\")\\n    }\\n    \\n    fmt.Println(\\\"Test completed even with errors\\\")\\n}\"",
   "metadata": {},
   "execution_count": null,
   "outputs": []
  },
  {
   "cell_type": "markdown",
   "source": "## 回報測試失敗\\n\\nGo提供了多種方法來回報測試失敗，每種方法都有其適用的情境。了解何時使用哪種方法對於撰寫清晰有效的測試非常重要：\\n\\n1. **Error系列方法**：記錄錯誤但繼續執行測試\\n2. **Fatal系列方法**：記錄錯誤並立即停止測試\\n3. **Log系列方法**：僅記錄信息，不標記測試失敗\\n4. **Helper方法**：標記函式為輔助函式\\n\\n選擇合適的方法能讓測試輸出更清晰，更容易調試問題。\"",
   "metadata": {}
  },
  {
   "cell_type": "markdown",
   "metadata": {},
   "source": [
    "# 第十三章 編寫測試\n",
    "\n",
    "在Go中，測試是內建的功能，不需要額外的測試框架。Go提供了一個強大且簡潔的測試工具鏈，讓我們能夠輕鬆地撰寫和執行測試。測試是軟體開發中至關重要的一環，它確保我們的程式碼能夠正確運作，並在修改程式碼時提供安全保障。"
   ]
  },
  {
   "cell_type": "markdown",
   "metadata": {},
   "source": [
    "## 測試的基本知識\n",
    "\n",
    "Go的測試系統是內建的，基於一些簡單但強大的約定：\n",
    "\n",
    "1. **測試檔案命名**：測試檔案必須以`_test.go`結尾\n",
    "2. **測試函式命名**：測試函式必須以`Test`開頭，後接大寫字母\n",
    "3. **測試函式簽章**：所有測試函式都接受一個`*testing.T`參數\n",
    "4. **執行測試**：使用`go test`命令執行測試\n",
    "\n",
    "Go的測試哲學是保持簡潔和直接，避免過度複雜的測試框架。"
   ]
  },
  {
   "cell_type": "code",
   "execution_count": null,
   "metadata": {},
   "outputs": [],
   "source": [
    "/* 基本測試函式結構示例 */\n",
    "package main\n",
    "\n",
    "import \"testing\"\n",
    "\n",
    "// 要測試的函式\n",
    "func Add(a, b int) int {\n",
    "    return a + b\n",
    "}\n",
    "\n",
    "// 測試函式 - 必須以Test開頭，並接受*testing.T參數\n",
    "func TestAdd(t *testing.T) {\n",
    "    // 測試用例：2 + 3 應該等於 5\n",
    "    result := Add(2, 3)\n",
    "    expected := 5\n",
    "    \n",
    "    if result != expected {\n",
    "        t.Errorf(\"Add(2, 3) = %d; want %d\", result, expected)\n",
    "    }\n",
    "    // 測試通過時不需要額外的輸出\n",
    "}"
   ]
  },
  {
   "cell_type": "code",
   "execution_count": null,
   "metadata": {},
   "outputs": [],
   "source": [
    "/* 測試多個案例的示例 */\n",
    "func TestAddMultipleCases(t *testing.T) {\n",
    "    // 測試正數相加\n",
    "    if Add(1, 1) != 2 {\n",
    "        t.Error(\"Add(1, 1) should be 2\")\n",
    "    }\n",
    "    \n",
    "    // 測試負數相加\n",
    "    if Add(-1, -1) != -2 {\n",
    "        t.Error(\"Add(-1, -1) should be -2\")\n",
    "    }\n",
    "    \n",
    "    // 測試零值\n",
    "    if Add(0, 5) != 5 {\n",
    "        t.Error(\"Add(0, 5) should be 5\")\n",
    "    }\n",
    "    \n",
    "    // 測試大數\n",
    "    if Add(1000000, 2000000) != 3000000 {\n",
    "        t.Error(\"Add(1000000, 2000000) should be 3000000\")\n",
    "    }\n",
    "}"
   ]
  },
  {
   "cell_type": "code",
   "execution_count": null,
   "metadata": {},
   "outputs": [],
   "source": [
    "/* 測試字串函式的示例 */\n",
    "import \"strings\"\n",
    "\n",
    "// 要測試的字串函式\n",
    "func ReverseString(s string) string {\n",
    "    runes := []rune(s)\n",
    "    for i, j := 0, len(runes)-1; i < j; i, j = i+1, j-1 {\n",
    "        runes[i], runes[j] = runes[j], runes[i]\n",
    "    }\n",
    "    return string(runes)\n",
    "}\n",
    "\n",
    "func TestReverseString(t *testing.T) {\n",
    "    // 測試基本字串反轉\n",
    "    result := ReverseString(\"hello\")\n",
    "    expected := \"olleh\"\n",
    "    if result != expected {\n",
    "        t.Errorf(\"ReverseString(\\\"hello\\\") = %q; want %q\", result, expected)\n",
    "    }\n",
    "    \n",
    "    // 測試空字串\n",
    "    if ReverseString(\"\") != \"\" {\n",
    "        t.Error(\"ReverseString of empty string should be empty\")\n",
    "    }\n",
    "    \n",
    "    // 測試單個字符\n",
    "    if ReverseString(\"a\") != \"a\" {\n",
    "        t.Error(\"ReverseString of single char should be itself\")\n",
    "    }\n",
    "}"
   ]
  },
  {
   "cell_type": "code",
   "execution_count": null,
   "metadata": {},
   "outputs": [],
   "source": [
    "/* 如何運行測試 */\n",
    "// 在終端機中執行以下命令：\n",
    "\n",
    "// 運行當前目錄的所有測試\n",
    "// go test\n",
    "\n",
    "// 運行指定檔案的測試\n",
    "// go test math_test.go math.go\n",
    "\n",
    "// 運行特定的測試函式\n",
    "// go test -run TestAdd\n",
    "\n",
    "// 顯示詳細輸出\n",
    "// go test -v\n",
    "\n",
    "// 運行測試並顯示覆蓋率\n",
    "// go test -cover"
   ]
  }
 ],
 "metadata": {
  "kernelspec": {
   "display_name": "Go (gonb)",
   "language": "go",
   "name": "gonb"
  },
  "language_info": {
   "codemirror_mode": "",
   "file_extension": ".go",
   "mimetype": "",
   "name": "go",
   "nbconvert_exporter": "",
   "pygments_lexer": "",
   "version": "go1.21.8"
  }
 },
 "nbformat": 4,
 "nbformat_minor": 2
}